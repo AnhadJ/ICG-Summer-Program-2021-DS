{
  "nbformat": 4,
  "nbformat_minor": 0,
  "metadata": {
    "colab": {
      "name": "190892_TanishaAgrawal",
      "provenance": [],
      "collapsed_sections": [],
      "authorship_tag": "ABX9TyP2syZRvozb2GC/MmpA2/u+",
      "include_colab_link": true
    },
    "kernelspec": {
      "name": "python3",
      "display_name": "Python 3"
    },
    "language_info": {
      "name": "python"
    },
    "accelerator": "GPU"
  },
  "cells": [
    {
      "cell_type": "markdown",
      "metadata": {
        "id": "view-in-github",
        "colab_type": "text"
      },
      "source": [
        "<a href=\"https://colab.research.google.com/github/agrat-20/ICG-Summer-Program-2021-DS/blob/main/190892_TanishaAgrawal.ipynb\" target=\"_parent\"><img src=\"https://colab.research.google.com/assets/colab-badge.svg\" alt=\"Open In Colab\"/></a>"
      ]
    },
    {
      "cell_type": "code",
      "metadata": {
        "id": "I6Cllv1HXq35"
      },
      "source": [
        "#Importing libraries\n",
        "import numpy as np\n",
        "import pandas as pd\n",
        "import matplotlib.pyplot as plt\n",
        "from sklearn.model_selection import train_test_split\n",
        "from google.colab import files\n",
        "import keras\n",
        "from keras.models import Sequential\n",
        "from keras.layers import Conv2D, MaxPooling2D, Dense, Flatten, Dropout\n",
        "from keras.optimizers import Adam\n",
        "import tensorflow as tf\n",
        "from keras.datasets import fashion_mnist"
      ],
      "execution_count": null,
      "outputs": []
    },
    {
      "cell_type": "code",
      "metadata": {
        "id": "FR1wGeW_X0wO"
      },
      "source": [
        "#Loading the dataset as training set and testing set\n",
        "(X_train, Y_train),(X_test, Y_test) = fashion_mnist.load_data()\n",
        "assert X_train.shape == (60000, 28, 28)\n",
        "assert Y_train.shape == (60000,)\n",
        "assert X_test.shape == (10000, 28, 28)\n",
        "assert Y_test.shape == (10000,)"
      ],
      "execution_count": null,
      "outputs": []
    },
    {
      "cell_type": "code",
      "metadata": {
        "colab": {
          "base_uri": "https://localhost:8080/"
        },
        "id": "VTZsHqHRX4n4",
        "outputId": "90d62f15-799d-4a91-c229-4c37a466379e"
      },
      "source": [
        "#Splitting the training data into the 80-20 ratio to get validation dataset\n",
        "X_train, X_valid, Y_train, Y_valid = train_test_split(X_train, Y_train, test_size = 0.2, random_state = 12345)\n",
        "X_train.shape"
      ],
      "execution_count": null,
      "outputs": [
        {
          "output_type": "execute_result",
          "data": {
            "text/plain": [
              "(48000, 28, 28)"
            ]
          },
          "metadata": {
            "tags": []
          },
          "execution_count": 3
        }
      ]
    },
    {
      "cell_type": "code",
      "metadata": {
        "colab": {
          "base_uri": "https://localhost:8080/"
        },
        "id": "xlpbQOtpX7o6",
        "outputId": "7a5b07e3-f992-4811-d1f0-f7a6b9430cd3"
      },
      "source": [
        "X_train.shape   #Shape of X_train after splitting"
      ],
      "execution_count": null,
      "outputs": [
        {
          "output_type": "execute_result",
          "data": {
            "text/plain": [
              "(48000, 28, 28)"
            ]
          },
          "metadata": {
            "tags": []
          },
          "execution_count": 4
        }
      ]
    },
    {
      "cell_type": "code",
      "metadata": {
        "colab": {
          "base_uri": "https://localhost:8080/"
        },
        "id": "V0JA-Q0CYDFZ",
        "outputId": "49ddd844-7da6-48c9-c89d-c5cf28bff201"
      },
      "source": [
        "X_valid.shape   #Shape of X_valid after splitting"
      ],
      "execution_count": null,
      "outputs": [
        {
          "output_type": "execute_result",
          "data": {
            "text/plain": [
              "(12000, 28, 28)"
            ]
          },
          "metadata": {
            "tags": []
          },
          "execution_count": 5
        }
      ]
    },
    {
      "cell_type": "code",
      "metadata": {
        "colab": {
          "base_uri": "https://localhost:8080/",
          "height": 265
        },
        "id": "_O11nW4RsxJa",
        "outputId": "ab82b5d1-32eb-4531-ff98-a2dbdffd78ef"
      },
      "source": [
        "#To actually see the images in X_train by reshaping the array of pixels into the images.\n",
        "image = X_train[26, : ].reshape((28,28))\n",
        "plt.imshow(image)\n",
        "plt.show()   "
      ],
      "execution_count": null,
      "outputs": [
        {
          "output_type": "display_data",
          "data": {
            "image/png": "[encoded data removed]",
            "text/plain": [
              "<Figure size 432x288 with 1 Axes>"
            ]
          },
          "metadata": {
            "tags": [],
            "needs_background": "light"
          }
        }
      ]
    },
    {
      "cell_type": "code",
      "metadata": {
        "colab": {
          "base_uri": "https://localhost:8080/"
        },
        "id": "uu8E0JnpYGH9",
        "outputId": "d4ad3df5-1ae0-40ce-8976-8e944ad32e98"
      },
      "source": [
        "im_rows = 28\n",
        "im_cols = 28\n",
        "batch_size = 512\n",
        "n_epochs = 50\n",
        "im_shape = (im_rows, im_cols, 1)\n",
        "\n",
        "X_train = X_train.reshape(X_train.shape[0], *im_shape)     #Converting the X_train from pixels format to image format as shown in above cell.\n",
        "X_train.shape"
      ],
      "execution_count": null,
      "outputs": [
        {
          "output_type": "execute_result",
          "data": {
            "text/plain": [
              "(48000, 28, 28, 1)"
            ]
          },
          "metadata": {
            "tags": []
          },
          "execution_count": 7
        }
      ]
    },
    {
      "cell_type": "code",
      "metadata": {
        "colab": {
          "base_uri": "https://localhost:8080/"
        },
        "id": "fipT6PpBYJnI",
        "outputId": "748efd7a-da72-4d64-a377-7995136e44f8"
      },
      "source": [
        "X_test = X_test.reshape(X_test.shape[0], *im_shape)        #Converting the X_test from pixels format to image format.\n",
        "X_test.shape"
      ],
      "execution_count": null,
      "outputs": [
        {
          "output_type": "execute_result",
          "data": {
            "text/plain": [
              "(10000, 28, 28, 1)"
            ]
          },
          "metadata": {
            "tags": []
          },
          "execution_count": 8
        }
      ]
    },
    {
      "cell_type": "code",
      "metadata": {
        "colab": {
          "base_uri": "https://localhost:8080/"
        },
        "id": "w4yD-VClYMqs",
        "outputId": "c3583804-5b64-45dc-ec6d-31345766e60c"
      },
      "source": [
        "X_valid = X_valid.reshape(X_valid.shape[0], *im_shape)    #Converting the X_valid from pixels format to image format\n",
        "X_valid.shape"
      ],
      "execution_count": null,
      "outputs": [
        {
          "output_type": "execute_result",
          "data": {
            "text/plain": [
              "(12000, 28, 28, 1)"
            ]
          },
          "metadata": {
            "tags": []
          },
          "execution_count": 9
        }
      ]
    },
    {
      "cell_type": "code",
      "metadata": {
        "id": "1pQdugqKYRDH"
      },
      "source": [
        "#Defining simple sequential cnn model using different layers. Dropout layers are used to nullify the overfitting.\n",
        "cnn_model = Sequential([\n",
        "    Conv2D(filters=64, kernel_size=3, activation='relu', input_shape=im_shape),\n",
        "    Conv2D(filters=32, kernel_size=3, activation='relu'),\n",
        "    MaxPooling2D(pool_size=3),\n",
        "    Dropout(0.2),\n",
        "    Flatten(),\n",
        "    Dense(256, activation='relu'),\n",
        "    Dropout(0.3),                     \n",
        "    Dense(128, activation='relu'),\n",
        "    Dropout(0.3),\n",
        "    Dense(64, activation='relu'),\n",
        "    Dropout(0.3),\n",
        "    Dense(10, activation='softmax')\n",
        "])"
      ],
      "execution_count": null,
      "outputs": []
    },
    {
      "cell_type": "code",
      "metadata": {
        "id": "0jppx_5vYU8F"
      },
      "source": [
        "#Compiling the model\n",
        "cnn_model.compile(\n",
        "    loss='sparse_categorical_crossentropy',\n",
        "    optimizer=Adam(learning_rate=0.001),\n",
        "    metrics=['accuracy']\n",
        ")"
      ],
      "execution_count": null,
      "outputs": []
    },
    {
      "cell_type": "code",
      "metadata": {
        "colab": {
          "base_uri": "https://localhost:8080/"
        },
        "id": "93HW0TEcYjiG",
        "outputId": "54e36f0d-ac4a-4e76-ac5d-ed80497dfb17"
      },
      "source": [
        "#Fitting the model on validation set.\n",
        "model = cnn_model.fit(\n",
        "    X_train, Y_train, batch_size=batch_size,\n",
        "    epochs=50, verbose=1,\n",
        "    validation_data=(X_valid, Y_valid),\n",
        ")"
      ],
      "execution_count": null,
      "outputs": [
        {
          "output_type": "stream",
          "text": [
            "Epoch 1/50\n",
            "94/94 [==============================] - 18s 34ms/step - loss: 3.6258 - accuracy: 0.3840 - val_loss: 0.4899 - val_accuracy: 0.8272\n",
            "Epoch 2/50\n",
            "94/94 [==============================] - 2s 23ms/step - loss: 0.6764 - accuracy: 0.7742 - val_loss: 0.3755 - val_accuracy: 0.8717\n",
            "Epoch 3/50\n",
            "94/94 [==============================] - 2s 22ms/step - loss: 0.5025 - accuracy: 0.8259 - val_loss: 0.3373 - val_accuracy: 0.8849\n",
            "Epoch 4/50\n",
            "94/94 [==============================] - 2s 23ms/step - loss: 0.4463 - accuracy: 0.8456 - val_loss: 0.3051 - val_accuracy: 0.8938\n",
            "Epoch 5/50\n",
            "94/94 [==============================] - 2s 22ms/step - loss: 0.3979 - accuracy: 0.8643 - val_loss: 0.2947 - val_accuracy: 0.8978\n",
            "Epoch 6/50\n",
            "94/94 [==============================] - 2s 22ms/step - loss: 0.3664 - accuracy: 0.8719 - val_loss: 0.2748 - val_accuracy: 0.9062\n",
            "Epoch 7/50\n",
            "94/94 [==============================] - 2s 23ms/step - loss: 0.3439 - accuracy: 0.8809 - val_loss: 0.2628 - val_accuracy: 0.9079\n",
            "Epoch 8/50\n",
            "94/94 [==============================] - 2s 22ms/step - loss: 0.3184 - accuracy: 0.8889 - val_loss: 0.2733 - val_accuracy: 0.9027\n",
            "Epoch 9/50\n",
            "94/94 [==============================] - 2s 22ms/step - loss: 0.3121 - accuracy: 0.8917 - val_loss: 0.2502 - val_accuracy: 0.9112\n",
            "Epoch 10/50\n",
            "94/94 [==============================] - 2s 23ms/step - loss: 0.2868 - accuracy: 0.8992 - val_loss: 0.2466 - val_accuracy: 0.9123\n",
            "Epoch 11/50\n",
            "94/94 [==============================] - 2s 22ms/step - loss: 0.2844 - accuracy: 0.9005 - val_loss: 0.2404 - val_accuracy: 0.9158\n",
            "Epoch 12/50\n",
            "94/94 [==============================] - 2s 22ms/step - loss: 0.2774 - accuracy: 0.9007 - val_loss: 0.2342 - val_accuracy: 0.9171\n",
            "Epoch 13/50\n",
            "94/94 [==============================] - 2s 23ms/step - loss: 0.2607 - accuracy: 0.9061 - val_loss: 0.2350 - val_accuracy: 0.9186\n",
            "Epoch 14/50\n",
            "94/94 [==============================] - 2s 23ms/step - loss: 0.2584 - accuracy: 0.9072 - val_loss: 0.2356 - val_accuracy: 0.9177\n",
            "Epoch 15/50\n",
            "94/94 [==============================] - 2s 23ms/step - loss: 0.2395 - accuracy: 0.9157 - val_loss: 0.2400 - val_accuracy: 0.9168\n",
            "Epoch 16/50\n",
            "94/94 [==============================] - 2s 23ms/step - loss: 0.2375 - accuracy: 0.9140 - val_loss: 0.2222 - val_accuracy: 0.9227\n",
            "Epoch 17/50\n",
            "94/94 [==============================] - 2s 23ms/step - loss: 0.2248 - accuracy: 0.9203 - val_loss: 0.2313 - val_accuracy: 0.9165\n",
            "Epoch 18/50\n",
            "94/94 [==============================] - 2s 23ms/step - loss: 0.2269 - accuracy: 0.9199 - val_loss: 0.2255 - val_accuracy: 0.9229\n",
            "Epoch 19/50\n",
            "94/94 [==============================] - 2s 22ms/step - loss: 0.2073 - accuracy: 0.9247 - val_loss: 0.2220 - val_accuracy: 0.9218\n",
            "Epoch 20/50\n",
            "94/94 [==============================] - 2s 22ms/step - loss: 0.2129 - accuracy: 0.9254 - val_loss: 0.2272 - val_accuracy: 0.9230\n",
            "Epoch 21/50\n",
            "94/94 [==============================] - 2s 22ms/step - loss: 0.1982 - accuracy: 0.9288 - val_loss: 0.2210 - val_accuracy: 0.9258\n",
            "Epoch 22/50\n",
            "94/94 [==============================] - 2s 24ms/step - loss: 0.1934 - accuracy: 0.9283 - val_loss: 0.2290 - val_accuracy: 0.9208\n",
            "Epoch 23/50\n",
            "94/94 [==============================] - 2s 23ms/step - loss: 0.1909 - accuracy: 0.9324 - val_loss: 0.2259 - val_accuracy: 0.9202\n",
            "Epoch 24/50\n",
            "94/94 [==============================] - 2s 22ms/step - loss: 0.1900 - accuracy: 0.9298 - val_loss: 0.2305 - val_accuracy: 0.9232\n",
            "Epoch 25/50\n",
            "94/94 [==============================] - 2s 22ms/step - loss: 0.1744 - accuracy: 0.9352 - val_loss: 0.2190 - val_accuracy: 0.9244\n",
            "Epoch 26/50\n",
            "94/94 [==============================] - 2s 22ms/step - loss: 0.1766 - accuracy: 0.9349 - val_loss: 0.2290 - val_accuracy: 0.9235\n",
            "Epoch 27/50\n",
            "94/94 [==============================] - 2s 22ms/step - loss: 0.1696 - accuracy: 0.9393 - val_loss: 0.2253 - val_accuracy: 0.9263\n",
            "Epoch 28/50\n",
            "94/94 [==============================] - 2s 22ms/step - loss: 0.1709 - accuracy: 0.9407 - val_loss: 0.2309 - val_accuracy: 0.9255\n",
            "Epoch 29/50\n",
            "94/94 [==============================] - 2s 22ms/step - loss: 0.1595 - accuracy: 0.9442 - val_loss: 0.2125 - val_accuracy: 0.9262\n",
            "Epoch 30/50\n",
            "94/94 [==============================] - 2s 22ms/step - loss: 0.1608 - accuracy: 0.9434 - val_loss: 0.2210 - val_accuracy: 0.9266\n",
            "Epoch 31/50\n",
            "94/94 [==============================] - 2s 22ms/step - loss: 0.1477 - accuracy: 0.9462 - val_loss: 0.2155 - val_accuracy: 0.9274\n",
            "Epoch 32/50\n",
            "94/94 [==============================] - 2s 23ms/step - loss: 0.1478 - accuracy: 0.9469 - val_loss: 0.2252 - val_accuracy: 0.9289\n",
            "Epoch 33/50\n",
            "94/94 [==============================] - 2s 22ms/step - loss: 0.1405 - accuracy: 0.9498 - val_loss: 0.2324 - val_accuracy: 0.9245\n",
            "Epoch 34/50\n",
            "94/94 [==============================] - 2s 22ms/step - loss: 0.1429 - accuracy: 0.9485 - val_loss: 0.2231 - val_accuracy: 0.9268\n",
            "Epoch 35/50\n",
            "94/94 [==============================] - 2s 22ms/step - loss: 0.1400 - accuracy: 0.9497 - val_loss: 0.2249 - val_accuracy: 0.9247\n",
            "Epoch 36/50\n",
            "94/94 [==============================] - 2s 22ms/step - loss: 0.1386 - accuracy: 0.9512 - val_loss: 0.2273 - val_accuracy: 0.9279\n",
            "Epoch 37/50\n",
            "94/94 [==============================] - 2s 23ms/step - loss: 0.1308 - accuracy: 0.9533 - val_loss: 0.2205 - val_accuracy: 0.9283\n",
            "Epoch 38/50\n",
            "94/94 [==============================] - 2s 23ms/step - loss: 0.1292 - accuracy: 0.9535 - val_loss: 0.2336 - val_accuracy: 0.9285\n",
            "Epoch 39/50\n",
            "94/94 [==============================] - 2s 22ms/step - loss: 0.1264 - accuracy: 0.9549 - val_loss: 0.2283 - val_accuracy: 0.9292\n",
            "Epoch 40/50\n",
            "94/94 [==============================] - 2s 22ms/step - loss: 0.1219 - accuracy: 0.9572 - val_loss: 0.2333 - val_accuracy: 0.9301\n",
            "Epoch 41/50\n",
            "94/94 [==============================] - 2s 22ms/step - loss: 0.1149 - accuracy: 0.9580 - val_loss: 0.2425 - val_accuracy: 0.9269\n",
            "Epoch 42/50\n",
            "94/94 [==============================] - 2s 24ms/step - loss: 0.1233 - accuracy: 0.9570 - val_loss: 0.2313 - val_accuracy: 0.9316\n",
            "Epoch 43/50\n",
            "94/94 [==============================] - 2s 22ms/step - loss: 0.1136 - accuracy: 0.9587 - val_loss: 0.2432 - val_accuracy: 0.9285\n",
            "Epoch 44/50\n",
            "94/94 [==============================] - 2s 22ms/step - loss: 0.1159 - accuracy: 0.9592 - val_loss: 0.2495 - val_accuracy: 0.9268\n",
            "Epoch 45/50\n",
            "94/94 [==============================] - 2s 22ms/step - loss: 0.1074 - accuracy: 0.9610 - val_loss: 0.2373 - val_accuracy: 0.9298\n",
            "Epoch 46/50\n",
            "94/94 [==============================] - 2s 22ms/step - loss: 0.1102 - accuracy: 0.9607 - val_loss: 0.2540 - val_accuracy: 0.9252\n",
            "Epoch 47/50\n",
            "94/94 [==============================] - 2s 22ms/step - loss: 0.1075 - accuracy: 0.9621 - val_loss: 0.2444 - val_accuracy: 0.9293\n",
            "Epoch 48/50\n",
            "94/94 [==============================] - 2s 22ms/step - loss: 0.1011 - accuracy: 0.9654 - val_loss: 0.2416 - val_accuracy: 0.9287\n",
            "Epoch 49/50\n",
            "94/94 [==============================] - 2s 23ms/step - loss: 0.1040 - accuracy: 0.9629 - val_loss: 0.2456 - val_accuracy: 0.9271\n",
            "Epoch 50/50\n",
            "94/94 [==============================] - 2s 23ms/step - loss: 0.0994 - accuracy: 0.9638 - val_loss: 0.2550 - val_accuracy: 0.9268\n"
          ],
          "name": "stdout"
        }
      ]
    },
    {
      "cell_type": "code",
      "metadata": {
        "colab": {
          "base_uri": "https://localhost:8080/"
        },
        "id": "vWjhEeTcZFgU",
        "outputId": "972657c9-1f55-4321-98c8-40650d576004"
      },
      "source": [
        "# Evaluating score on the test data.\n",
        "score = cnn_model.evaluate(X_test, Y_test, verbose=0)\n",
        "\n",
        "print('test loss: {:.4f}'.format(score[0]))\n",
        "print('test acc: {:.4f}'.format(score[1]))"
      ],
      "execution_count": null,
      "outputs": [
        {
          "output_type": "stream",
          "text": [
            "test loss: 0.3027\n",
            "test acc: 0.9172\n"
          ],
          "name": "stdout"
        }
      ]
    },
    {
      "cell_type": "code",
      "metadata": {
        "colab": {
          "base_uri": "https://localhost:8080/",
          "height": 295
        },
        "id": "virbCoIhlbTX",
        "outputId": "6e32d2b8-232a-44cd-9adc-5c8ba98a395f"
      },
      "source": [
        "#Definig number of epochs and then plotting the graph representing the training and validation loss.\n",
        "epochs = range(1, 1+n_epochs)\n",
        "plt.plot(epochs,  model.history['loss'], label='Training Loss')\n",
        "plt.plot(epochs,  model.history['val_loss'], label='Validation Loss')\n",
        "plt.title('Training and Validation Loss')\n",
        "plt.xlabel('Epochs')\n",
        "plt.ylabel('Loss')\n",
        "plt.legend()\n",
        "plt.show()"
      ],
      "execution_count": null,
      "outputs": [
        {
          "output_type": "display_data",
          "data": {
            "image/png": "[encoded data removed]",
            "text/plain": [
              "<Figure size 432x288 with 1 Axes>"
            ]
          },
          "metadata": {
            "tags": [],
            "needs_background": "light"
          }
        }
      ]
    },
    {
      "cell_type": "code",
      "metadata": {
        "colab": {
          "base_uri": "https://localhost:8080/",
          "height": 295
        },
        "id": "yqiJi5vkmiwe",
        "outputId": "6c2980f1-7601-405c-ac86-513621ec071f"
      },
      "source": [
        "#Plotting the graph representing the training and validation accuracy.\n",
        "plt.plot(epochs,  model.history['accuracy'], label='Training Accuracy')\n",
        "plt.plot(epochs,  model.history['val_accuracy'], label='Validation Accuracy')\n",
        "plt.title('Training and Validation Accuracy')\n",
        "plt.xlabel('Epochs')\n",
        "plt.ylabel('Accuracy')\n",
        "plt.legend()\n",
        "plt.show()"
      ],
      "execution_count": null,
      "outputs": [
        {
          "output_type": "display_data",
          "data": {
            "image/png": "[encoded data removed]",
            "text/plain": [
              "<Figure size 432x288 with 1 Axes>"
            ]
          },
          "metadata": {
            "tags": [],
            "needs_background": "light"
          }
        }
      ]
    },
    {
      "cell_type": "markdown",
      "metadata": {
        "id": "3RUTchnRxGs2"
      },
      "source": [
        "References: \n",
        "1. https://machinelearningmastery.com/how-to-develop-a-cnn-from-scratch-for-fashion-mnist-clothing-classification/\n",
        "2. https://www.youtube.com/playlist?list=PLZbbT5o_s2xq7LwI2y8_QtvuXZedL6tQU\n",
        "3. https://github.com/markjay4k/Fashion-MNIST-with-Keras/blob/master/Part%202%20-%20CNN%20fashion%20MNIST%20-%20basic%20CNN.ipynb\n",
        "4. https://keras.io/"
      ]
    }
  ]
}