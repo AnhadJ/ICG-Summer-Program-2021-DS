{
  "nbformat": 4,
  "nbformat_minor": 0,
  "metadata": {
    "colab": {
      "name": "ICG_Assignment(1)_Final.ipynb",
      "provenance": [],
      "collapsed_sections": [],
      "authorship_tag": "ABX9TyMPpJvegkQFDO+GCB5eX9Qd",
      "include_colab_link": true
    },
    "kernelspec": {
      "name": "python3",
      "display_name": "Python 3"
    },
    "language_info": {
      "name": "python"
    }
  },
  "cells": [
    {
      "cell_type": "markdown",
      "metadata": {
        "id": "view-in-github",
        "colab_type": "text"
      },
      "source": [
        "<a href=\"https://colab.research.google.com/github/agrat-20/ICG-Summer-Program-2021-DS/blob/main/ICG_Assignment(1)_Final.ipynb\" target=\"_parent\"><img src=\"https://colab.research.google.com/assets/colab-badge.svg\" alt=\"Open In Colab\"/></a>"
      ]
    },
    {
      "cell_type": "code",
      "metadata": {
        "id": "tryf0mZTX1fF"
      },
      "source": [
        "#Importing libraries\n",
        "import pandas as pd\n",
        "import numpy as np\n",
        "import matplotlib.pyplot as plt\n",
        "from google.colab import files\n",
        "import seaborn as sns"
      ],
      "execution_count": null,
      "outputs": []
    },
    {
      "cell_type": "code",
      "metadata": {
        "colab": {
          "resources": {
            "http://localhost:8080/nbextensions/google.colab/files.js": {
              "data": "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",
              "ok": true,
              "headers": [
                [
                  "content-type",
                  "application/javascript"
                ]
              ],
              "status": 200,
              "status_text": ""
            }
          },
          "base_uri": "https://localhost:8080/",
          "height": 73
        },
        "id": "QdjvnNKcVnch",
        "outputId": "c8549d7f-95d0-4473-c3a1-d91f6c1e9845"
      },
      "source": [
        "#Uploading the training dataset\n",
        "uploaded1 = files.upload()"
      ],
      "execution_count": null,
      "outputs": [
        {
          "output_type": "display_data",
          "data": {
            "text/html": [
              "\n",
              "     <input type=\"file\" id=\"files-435b3d67-d0a0-4383-bd0b-238d76737a12\" name=\"files[]\" multiple disabled\n",
              "        style=\"border:none\" />\n",
              "     <output id=\"result-435b3d67-d0a0-4383-bd0b-238d76737a12\">\n",
              "      Upload widget is only available when the cell has been executed in the\n",
              "      current browser session. Please rerun this cell to enable.\n",
              "      </output>\n",
              "      <script src=\"/nbextensions/google.colab/files.js\"></script> "
            ],
            "text/plain": [
              "<IPython.core.display.HTML object>"
            ]
          },
          "metadata": {
            "tags": []
          }
        },
        {
          "output_type": "stream",
          "text": [
            "Saving train.csv to train.csv\n"
          ],
          "name": "stdout"
        }
      ]
    },
    {
      "cell_type": "code",
      "metadata": {
        "colab": {
          "base_uri": "https://localhost:8080/"
        },
        "id": "yfPeLfYlV0eu",
        "outputId": "42dce2a1-afe6-40c0-f7a1-d23d427faecb"
      },
      "source": [
        "uploaded1"
      ],
      "execution_count": null,
      "outputs": [
        {
          "output_type": "execute_result",
          "data": {
            "text/plain": [
              "{'train.csv': b'PassengerId,Survived,Pclass,Sex,Age,SibSp,Parch,Fare\\r\\n1,0,3,male,22,1,0,7.25\\r\\n2,1,1,female,38,1,0,71.2833\\r\\n3,1,3,female,26,0,0,7.925\\r\\n4,1,1,female,35,1,0,53.1\\r\\n5,0,3,male,35,0,0,8.05\\r\\n6,0,3,male,,0,0,8.4583\\r\\n7,0,1,male,54,0,0,51.8625\\r\\n8,0,3,male,2,3,1,21.075\\r\\n9,1,3,female,27,0,2,11.1333\\r\\n10,1,2,female,14,1,0,30.0708\\r\\n11,1,3,female,4,1,1,16.7\\r\\n12,1,1,female,58,0,0,26.55\\r\\n13,0,3,male,20,0,0,8.05\\r\\n14,0,3,male,39,1,5,31.275\\r\\n15,0,3,female,14,0,0,7.8542\\r\\n16,1,2,female,55,0,0,16\\r\\n17,0,3,male,2,4,1,29.125\\r\\n18,1,2,male,,0,0,13\\r\\n19,0,3,female,31,1,0,18\\r\\n20,1,3,female,,0,0,7.225\\r\\n21,0,2,male,35,0,0,26\\r\\n22,1,2,male,34,0,0,13\\r\\n23,1,3,female,15,0,0,8.0292\\r\\n24,1,1,male,28,0,0,35.5\\r\\n25,0,3,female,8,3,1,21.075\\r\\n26,1,3,female,38,1,5,31.3875\\r\\n27,0,3,male,,0,0,7.225\\r\\n28,0,1,male,19,3,2,263\\r\\n29,1,3,female,,0,0,7.8792\\r\\n30,0,3,male,,0,0,7.8958\\r\\n31,0,1,male,40,0,0,27.7208\\r\\n32,1,1,female,,1,0,146.5208\\r\\n33,1,3,female,,0,0,7.75\\r\\n34,0,2,male,66,0,0,10.5\\r\\n35,0,1,male,28,1,0,82.1708\\r\\n36,0,1,male,42,1,0,52\\r\\n37,1,3,male,,0,0,7.2292\\r\\n38,0,3,male,21,0,0,8.05\\r\\n39,0,3,female,18,2,0,18\\r\\n40,1,3,female,14,1,0,11.2417\\r\\n41,0,3,female,40,1,0,9.475\\r\\n42,0,2,female,27,1,0,21\\r\\n43,0,3,male,,0,0,7.8958\\r\\n44,1,2,female,3,1,2,41.5792\\r\\n45,1,3,female,19,0,0,7.8792\\r\\n46,0,3,male,,0,0,8.05\\r\\n47,0,3,male,,1,0,15.5\\r\\n48,1,3,female,,0,0,7.75\\r\\n49,0,3,male,,2,0,21.6792\\r\\n50,0,3,female,18,1,0,17.8\\r\\n51,0,3,male,7,4,1,39.6875\\r\\n52,0,3,male,21,0,0,7.8\\r\\n53,1,1,female,49,1,0,76.7292\\r\\n54,1,2,female,29,1,0,26\\r\\n55,0,1,male,65,0,1,61.9792\\r\\n56,1,1,male,,0,0,35.5\\r\\n57,1,2,female,21,0,0,10.5\\r\\n58,0,3,male,28.5,0,0,7.2292\\r\\n59,1,2,female,5,1,2,27.75\\r\\n60,0,3,male,11,5,2,46.9\\r\\n61,0,3,male,22,0,0,7.2292\\r\\n62,1,1,female,38,0,0,80\\r\\n63,0,1,male,45,1,0,83.475\\r\\n64,0,3,male,4,3,2,27.9\\r\\n65,0,1,male,,0,0,27.7208\\r\\n66,1,3,male,,1,1,15.2458\\r\\n67,1,2,female,29,0,0,10.5\\r\\n68,0,3,male,19,0,0,8.1583\\r\\n69,1,3,female,17,4,2,7.925\\r\\n70,0,3,male,26,2,0,8.6625\\r\\n71,0,2,male,32,0,0,10.5\\r\\n72,0,3,female,16,5,2,46.9\\r\\n73,0,2,male,21,0,0,73.5\\r\\n74,0,3,male,26,1,0,14.4542\\r\\n75,1,3,male,32,0,0,56.4958\\r\\n76,0,3,male,25,0,0,7.65\\r\\n77,0,3,male,,0,0,7.8958\\r\\n78,0,3,male,,0,0,8.05\\r\\n79,1,2,male,0.83,0,2,29\\r\\n80,1,3,female,30,0,0,12.475\\r\\n81,0,3,male,22,0,0,9\\r\\n82,1,3,male,29,0,0,9.5\\r\\n83,1,3,female,,0,0,7.7875\\r\\n84,0,1,male,28,0,0,47.1\\r\\n85,1,2,female,17,0,0,10.5\\r\\n86,1,3,female,33,3,0,15.85\\r\\n87,0,3,male,16,1,3,34.375\\r\\n88,0,3,male,,0,0,8.05\\r\\n89,1,1,female,23,3,2,263\\r\\n90,0,3,male,24,0,0,8.05\\r\\n91,0,3,male,29,0,0,8.05\\r\\n92,0,3,male,20,0,0,7.8542\\r\\n93,0,1,male,46,1,0,61.175\\r\\n94,0,3,male,26,1,2,20.575\\r\\n95,0,3,male,59,0,0,7.25\\r\\n96,0,3,male,,0,0,8.05\\r\\n97,0,1,male,71,0,0,34.6542\\r\\n98,1,1,male,23,0,1,63.3583\\r\\n99,1,2,female,34,0,1,23\\r\\n100,0,2,male,34,1,0,26\\r\\n101,0,3,female,28,0,0,7.8958\\r\\n102,0,3,male,,0,0,7.8958\\r\\n103,0,1,male,21,0,1,77.2875\\r\\n104,0,3,male,33,0,0,8.6542\\r\\n105,0,3,male,37,2,0,7.925\\r\\n106,0,3,male,28,0,0,7.8958\\r\\n107,1,3,female,21,0,0,7.65\\r\\n108,1,3,male,,0,0,7.775\\r\\n109,0,3,male,38,0,0,7.8958\\r\\n110,1,3,female,,1,0,24.15\\r\\n111,0,1,male,47,0,0,52\\r\\n112,0,3,female,14.5,1,0,14.4542\\r\\n113,0,3,male,22,0,0,8.05\\r\\n114,0,3,female,20,1,0,9.825\\r\\n115,0,3,female,17,0,0,14.4583\\r\\n116,0,3,male,21,0,0,7.925\\r\\n117,0,3,male,70.5,0,0,7.75\\r\\n118,0,2,male,29,1,0,21\\r\\n119,0,1,male,24,0,1,247.5208\\r\\n120,0,3,female,2,4,2,31.275\\r\\n121,0,2,male,21,2,0,73.5\\r\\n122,0,3,male,,0,0,8.05\\r\\n123,0,2,male,32.5,1,0,30.0708\\r\\n124,1,2,female,32.5,0,0,13\\r\\n125,0,1,male,54,0,1,77.2875\\r\\n126,1,3,male,12,1,0,11.2417\\r\\n127,0,3,male,,0,0,7.75\\r\\n128,1,3,male,24,0,0,7.1417\\r\\n129,1,3,female,,1,1,22.3583\\r\\n130,0,3,male,45,0,0,6.975\\r\\n131,0,3,male,33,0,0,7.8958\\r\\n132,0,3,male,20,0,0,7.05\\r\\n133,0,3,female,47,1,0,14.5\\r\\n134,1,2,female,29,1,0,26\\r\\n135,0,2,male,25,0,0,13\\r\\n136,0,2,male,23,0,0,15.0458\\r\\n137,1,1,female,19,0,2,26.2833\\r\\n138,0,1,male,37,1,0,53.1\\r\\n139,0,3,male,16,0,0,9.2167\\r\\n140,0,1,male,24,0,0,79.2\\r\\n141,0,3,female,,0,2,15.2458\\r\\n142,1,3,female,22,0,0,7.75\\r\\n143,1,3,female,24,1,0,15.85\\r\\n144,0,3,male,19,0,0,6.75\\r\\n145,0,2,male,18,0,0,11.5\\r\\n146,0,2,male,19,1,1,36.75\\r\\n147,1,3,male,27,0,0,7.7958\\r\\n148,0,3,female,9,2,2,34.375\\r\\n149,0,2,male,36.5,0,2,26\\r\\n150,0,2,male,42,0,0,13\\r\\n151,0,2,male,51,0,0,12.525\\r\\n152,1,1,female,22,1,0,66.6\\r\\n153,0,3,male,55.5,0,0,8.05\\r\\n154,0,3,male,40.5,0,2,14.5\\r\\n155,0,3,male,,0,0,7.3125\\r\\n156,0,1,male,51,0,1,61.3792\\r\\n157,1,3,female,16,0,0,7.7333\\r\\n158,0,3,male,30,0,0,8.05\\r\\n159,0,3,male,,0,0,8.6625\\r\\n160,0,3,male,,8,2,69.55\\r\\n161,0,3,male,44,0,1,16.1\\r\\n162,1,2,female,40,0,0,15.75\\r\\n163,0,3,male,26,0,0,7.775\\r\\n164,0,3,male,17,0,0,8.6625\\r\\n165,0,3,male,1,4,1,39.6875\\r\\n166,1,3,male,9,0,2,20.525\\r\\n167,1,1,female,,0,1,55\\r\\n168,0,3,female,45,1,4,27.9\\r\\n169,0,1,male,,0,0,25.925\\r\\n170,0,3,male,28,0,0,56.4958\\r\\n171,0,1,male,61,0,0,33.5\\r\\n172,0,3,male,4,4,1,29.125\\r\\n173,1,3,female,1,1,1,11.1333\\r\\n174,0,3,male,21,0,0,7.925\\r\\n175,0,1,male,56,0,0,30.6958\\r\\n176,0,3,male,18,1,1,7.8542\\r\\n177,0,3,male,,3,1,25.4667\\r\\n178,0,1,female,50,0,0,28.7125\\r\\n179,0,2,male,30,0,0,13\\r\\n180,0,3,male,36,0,0,0\\r\\n181,0,3,female,,8,2,69.55\\r\\n182,0,2,male,,0,0,15.05\\r\\n183,0,3,male,9,4,2,31.3875\\r\\n184,1,2,male,1,2,1,39\\r\\n185,1,3,female,4,0,2,22.025\\r\\n186,0,1,male,,0,0,50\\r\\n187,1,3,female,,1,0,15.5\\r\\n188,1,1,male,45,0,0,26.55\\r\\n189,0,3,male,40,1,1,15.5\\r\\n190,0,3,male,36,0,0,7.8958\\r\\n191,1,2,female,32,0,0,13\\r\\n192,0,2,male,19,0,0,13\\r\\n193,1,3,female,19,1,0,7.8542\\r\\n194,1,2,male,3,1,1,26\\r\\n195,1,1,female,44,0,0,27.7208\\r\\n196,1,1,female,58,0,0,146.5208\\r\\n197,0,3,male,,0,0,7.75\\r\\n198,0,3,male,42,0,1,8.4042\\r\\n199,1,3,female,,0,0,7.75\\r\\n200,0,2,female,24,0,0,13\\r\\n201,0,3,male,28,0,0,9.5\\r\\n202,0,3,male,,8,2,69.55\\r\\n203,0,3,male,34,0,0,6.4958\\r\\n204,0,3,male,45.5,0,0,7.225\\r\\n205,1,3,male,18,0,0,8.05\\r\\n206,0,3,female,2,0,1,10.4625\\r\\n207,0,3,male,32,1,0,15.85\\r\\n208,1,3,male,26,0,0,18.7875\\r\\n209,1,3,female,16,0,0,7.75\\r\\n210,1,1,male,40,0,0,31\\r\\n211,0,3,male,24,0,0,7.05\\r\\n212,1,2,female,35,0,0,21\\r\\n213,0,3,male,22,0,0,7.25\\r\\n214,0,2,male,30,0,0,13\\r\\n215,0,3,male,,1,0,7.75\\r\\n216,1,1,female,31,1,0,113.275\\r\\n217,1,3,female,27,0,0,7.925\\r\\n218,0,2,male,42,1,0,27\\r\\n219,1,1,female,32,0,0,76.2917\\r\\n220,0,2,male,30,0,0,10.5\\r\\n221,1,3,male,16,0,0,8.05\\r\\n222,0,2,male,27,0,0,13\\r\\n223,0,3,male,51,0,0,8.05\\r\\n224,0,3,male,,0,0,7.8958\\r\\n225,1,1,male,38,1,0,90\\r\\n226,0,3,male,22,0,0,9.35\\r\\n227,1,2,male,19,0,0,10.5\\r\\n228,0,3,male,20.5,0,0,7.25\\r\\n229,0,2,male,18,0,0,13\\r\\n230,0,3,female,,3,1,25.4667\\r\\n231,1,1,female,35,1,0,83.475\\r\\n232,0,3,male,29,0,0,7.775\\r\\n233,0,2,male,59,0,0,13.5\\r\\n234,1,3,female,5,4,2,31.3875\\r\\n235,0,2,male,24,0,0,10.5\\r\\n236,0,3,female,,0,0,7.55\\r\\n237,0,2,male,44,1,0,26\\r\\n238,1,2,female,8,0,2,26.25\\r\\n239,0,2,male,19,0,0,10.5\\r\\n240,0,2,male,33,0,0,12.275\\r\\n241,0,3,female,,1,0,14.4542\\r\\n242,1,3,female,,1,0,15.5\\r\\n243,0,2,male,29,0,0,10.5\\r\\n244,0,3,male,22,0,0,7.125\\r\\n245,0,3,male,30,0,0,7.225\\r\\n246,0,1,male,44,2,0,90\\r\\n247,0,3,female,25,0,0,7.775\\r\\n248,1,2,female,24,0,2,14.5\\r\\n249,1,1,male,37,1,1,52.5542\\r\\n250,0,2,male,54,1,0,26\\r\\n251,0,3,male,,0,0,7.25\\r\\n252,0,3,female,29,1,1,10.4625\\r\\n253,0,1,male,62,0,0,26.55\\r\\n254,0,3,male,30,1,0,16.1\\r\\n255,0,3,female,41,0,2,20.2125\\r\\n256,1,3,female,29,0,2,15.2458\\r\\n257,1,1,female,,0,0,79.2\\r\\n258,1,1,female,30,0,0,86.5\\r\\n259,1,1,female,35,0,0,512.3292\\r\\n260,1,2,female,50,0,1,26\\r\\n261,0,3,male,,0,0,7.75\\r\\n262,1,3,male,3,4,2,31.3875\\r\\n263,0,1,male,52,1,1,79.65\\r\\n264,0,1,male,40,0,0,0\\r\\n265,0,3,female,,0,0,7.75\\r\\n266,0,2,male,36,0,0,10.5\\r\\n267,0,3,male,16,4,1,39.6875\\r\\n268,1,3,male,25,1,0,7.775\\r\\n269,1,1,female,58,0,1,153.4625\\r\\n270,1,1,female,35,0,0,135.6333\\r\\n271,0,1,male,,0,0,31\\r\\n272,1,3,male,25,0,0,0\\r\\n273,1,2,female,41,0,1,19.5\\r\\n274,0,1,male,37,0,1,29.7\\r\\n275,1,3,female,,0,0,7.75\\r\\n276,1,1,female,63,1,0,77.9583\\r\\n277,0,3,female,45,0,0,7.75\\r\\n278,0,2,male,,0,0,0\\r\\n279,0,3,male,7,4,1,29.125\\r\\n280,1,3,female,35,1,1,20.25\\r\\n281,0,3,male,65,0,0,7.75\\r\\n282,0,3,male,28,0,0,7.8542\\r\\n283,0,3,male,16,0,0,9.5\\r\\n284,1,3,male,19,0,0,8.05\\r\\n285,0,1,male,,0,0,26\\r\\n286,0,3,male,33,0,0,8.6625\\r\\n287,1,3,male,30,0,0,9.5\\r\\n288,0,3,male,22,0,0,7.8958\\r\\n289,1,2,male,42,0,0,13\\r\\n290,1,3,female,22,0,0,7.75\\r\\n291,1,1,female,26,0,0,78.85\\r\\n292,1,1,female,19,1,0,91.0792\\r\\n293,0,2,male,36,0,0,12.875\\r\\n294,0,3,female,24,0,0,8.85\\r\\n295,0,3,male,24,0,0,7.8958\\r\\n296,0,1,male,,0,0,27.7208\\r\\n297,0,3,male,23.5,0,0,7.2292\\r\\n298,0,1,female,2,1,2,151.55\\r\\n299,1,1,male,,0,0,30.5\\r\\n300,1,1,female,50,0,1,247.5208\\r\\n301,1,3,female,,0,0,7.75\\r\\n302,1,3,male,,2,0,23.25\\r\\n303,0,3,male,19,0,0,0\\r\\n304,1,2,female,,0,0,12.35\\r\\n305,0,3,male,,0,0,8.05\\r\\n306,1,1,male,0.92,1,2,151.55\\r\\n307,1,1,female,,0,0,110.8833\\r\\n308,1,1,female,17,1,0,108.9\\r\\n309,0,2,male,30,1,0,24\\r\\n310,1,1,female,30,0,0,56.9292\\r\\n311,1,1,female,24,0,0,83.1583\\r\\n312,1,1,female,18,2,2,262.375\\r\\n313,0,2,female,26,1,1,26\\r\\n314,0,3,male,28,0,0,7.8958\\r\\n315,0,2,male,43,1,1,26.25\\r\\n316,1,3,female,26,0,0,7.8542\\r\\n317,1,2,female,24,1,0,26\\r\\n318,0,2,male,54,0,0,14\\r\\n319,1,1,female,31,0,2,164.8667\\r\\n320,1,1,female,40,1,1,134.5\\r\\n321,0,3,male,22,0,0,7.25\\r\\n322,0,3,male,27,0,0,7.8958\\r\\n323,1,2,female,30,0,0,12.35\\r\\n324,1,2,female,22,1,1,29\\r\\n325,0,3,male,,8,2,69.55\\r\\n326,1,1,female,36,0,0,135.6333\\r\\n327,0,3,male,61,0,0,6.2375\\r\\n328,1,2,female,36,0,0,13\\r\\n329,1,3,female,31,1,1,20.525\\r\\n330,1,1,female,16,0,1,57.9792\\r\\n331,1,3,female,,2,0,23.25\\r\\n332,0,1,male,45.5,0,0,28.5\\r\\n333,0,1,male,38,0,1,153.4625\\r\\n334,0,3,male,16,2,0,18\\r\\n335,1,1,female,,1,0,133.65\\r\\n336,0,3,male,,0,0,7.8958\\r\\n337,0,1,male,29,1,0,66.6\\r\\n338,1,1,female,41,0,0,134.5\\r\\n339,1,3,male,45,0,0,8.05\\r\\n340,0,1,male,45,0,0,35.5\\r\\n341,1,2,male,2,1,1,26\\r\\n342,1,1,female,24,3,2,263\\r\\n343,0,2,male,28,0,0,13\\r\\n344,0,2,male,25,0,0,13\\r\\n345,0,2,male,36,0,0,13\\r\\n346,1,2,female,24,0,0,13\\r\\n347,1,2,female,40,0,0,13\\r\\n348,1,3,female,,1,0,16.1\\r\\n349,1,3,male,3,1,1,15.9\\r\\n350,0,3,male,42,0,0,8.6625\\r\\n351,0,3,male,23,0,0,9.225\\r\\n352,0,1,male,,0,0,35\\r\\n353,0,3,male,15,1,1,7.2292\\r\\n354,0,3,male,25,1,0,17.8\\r\\n355,0,3,male,,0,0,7.225\\r\\n356,0,3,male,28,0,0,9.5\\r\\n357,1,1,female,22,0,1,55\\r\\n358,0,2,female,38,0,0,13\\r\\n359,1,3,female,,0,0,7.8792\\r\\n360,1,3,female,,0,0,7.8792\\r\\n361,0,3,male,40,1,4,27.9\\r\\n362,0,2,male,29,1,0,27.7208\\r\\n363,0,3,female,45,0,1,14.4542\\r\\n364,0,3,male,35,0,0,7.05\\r\\n365,0,3,male,,1,0,15.5\\r\\n366,0,3,male,30,0,0,7.25\\r\\n367,1,1,female,60,1,0,75.25\\r\\n368,1,3,female,,0,0,7.2292\\r\\n369,1,3,female,,0,0,7.75\\r\\n370,1,1,female,24,0,0,69.3\\r\\n371,1,1,male,25,1,0,55.4417\\r\\n372,0,3,male,18,1,0,6.4958\\r\\n373,0,3,male,19,0,0,8.05\\r\\n374,0,1,male,22,0,0,135.6333\\r\\n375,0,3,female,3,3,1,21.075\\r\\n376,1,1,female,,1,0,82.1708\\r\\n377,1,3,female,22,0,0,7.25\\r\\n378,0,1,male,27,0,2,211.5\\r\\n379,0,3,male,20,0,0,4.0125\\r\\n380,0,3,male,19,0,0,7.775\\r\\n381,1,1,female,42,0,0,227.525\\r\\n382,1,3,female,1,0,2,15.7417\\r\\n383,0,3,male,32,0,0,7.925\\r\\n384,1,1,female,35,1,0,52\\r\\n385,0,3,male,,0,0,7.8958\\r\\n386,0,2,male,18,0,0,73.5\\r\\n387,0,3,male,1,5,2,46.9\\r\\n388,1,2,female,36,0,0,13\\r\\n389,0,3,male,,0,0,7.7292\\r\\n390,1,2,female,17,0,0,12\\r\\n391,1,1,male,36,1,2,120\\r\\n392,1,3,male,21,0,0,7.7958\\r\\n393,0,3,male,28,2,0,7.925\\r\\n394,1,1,female,23,1,0,113.275\\r\\n395,1,3,female,24,0,2,16.7\\r\\n396,0,3,male,22,0,0,7.7958\\r\\n397,0,3,female,31,0,0,7.8542\\r\\n398,0,2,male,46,0,0,26\\r\\n399,0,2,male,23,0,0,10.5\\r\\n400,1,2,female,28,0,0,12.65\\r\\n401,1,3,male,39,0,0,7.925\\r\\n402,0,3,male,26,0,0,8.05\\r\\n403,0,3,female,21,1,0,9.825\\r\\n404,0,3,male,28,1,0,15.85\\r\\n405,0,3,female,20,0,0,8.6625\\r\\n406,0,2,male,34,1,0,21\\r\\n407,0,3,male,51,0,0,7.75\\r\\n408,1,2,male,3,1,1,18.75\\r\\n409,0,3,male,21,0,0,7.775\\r\\n410,0,3,female,,3,1,25.4667\\r\\n411,0,3,male,,0,0,7.8958\\r\\n412,0,3,male,,0,0,6.8583\\r\\n413,1,1,female,33,1,0,90\\r\\n414,0,2,male,,0,0,0\\r\\n415,1,3,male,44,0,0,7.925\\r\\n416,0,3,female,,0,0,8.05\\r\\n417,1,2,female,34,1,1,32.5\\r\\n418,1,2,female,18,0,2,13\\r\\n419,0,2,male,30,0,0,13\\r\\n420,0,3,female,10,0,2,24.15\\r\\n421,0,3,male,,0,0,7.8958\\r\\n422,0,3,male,21,0,0,7.7333\\r\\n423,0,3,male,29,0,0,7.875\\r\\n424,0,3,female,28,1,1,14.4\\r\\n425,0,3,male,18,1,1,20.2125\\r\\n426,0,3,male,,0,0,7.25\\r\\n427,1,2,female,28,1,0,26\\r\\n428,1,2,female,19,0,0,26\\r\\n429,0,3,male,,0,0,7.75\\r\\n430,1,3,male,32,0,0,8.05\\r\\n431,1,1,male,28,0,0,26.55\\r\\n432,1,3,female,,1,0,16.1\\r\\n433,1,2,female,42,1,0,26\\r\\n434,0,3,male,17,0,0,7.125\\r\\n435,0,1,male,50,1,0,55.9\\r\\n436,1,1,female,14,1,2,120\\r\\n437,0,3,female,21,2,2,34.375\\r\\n438,1,2,female,24,2,3,18.75\\r\\n439,0,1,male,64,1,4,263\\r\\n440,0,2,male,31,0,0,10.5\\r\\n441,1,2,female,45,1,1,26.25\\r\\n442,0,3,male,20,0,0,9.5\\r\\n443,0,3,male,25,1,0,7.775\\r\\n444,1,2,female,28,0,0,13\\r\\n445,1,3,male,,0,0,8.1125\\r\\n446,1,1,male,4,0,2,81.8583\\r\\n447,1,2,female,13,0,1,19.5\\r\\n448,1,1,male,34,0,0,26.55\\r\\n449,1,3,female,5,2,1,19.2583\\r\\n450,1,1,male,52,0,0,30.5\\r\\n451,0,2,male,36,1,2,27.75\\r\\n452,0,3,male,,1,0,19.9667\\r\\n453,0,1,male,30,0,0,27.75\\r\\n454,1,1,male,49,1,0,89.1042\\r\\n455,0,3,male,,0,0,8.05\\r\\n456,1,3,male,29,0,0,7.8958\\r\\n457,0,1,male,65,0,0,26.55\\r\\n458,1,1,female,,1,0,51.8625\\r\\n459,1,2,female,50,0,0,10.5\\r\\n460,0,3,male,,0,0,7.75\\r\\n461,1,1,male,48,0,0,26.55\\r\\n462,0,3,male,34,0,0,8.05\\r\\n463,0,1,male,47,0,0,38.5\\r\\n464,0,2,male,48,0,0,13\\r\\n465,0,3,male,,0,0,8.05\\r\\n466,0,3,male,38,0,0,7.05\\r\\n467,0,2,male,,0,0,0\\r\\n468,0,1,male,56,0,0,26.55\\r\\n469,0,3,male,,0,0,7.725\\r\\n470,1,3,female,0.75,2,1,19.2583\\r\\n471,0,3,male,,0,0,7.25\\r\\n472,0,3,male,38,0,0,8.6625\\r\\n473,1,2,female,33,1,2,27.75\\r\\n474,1,2,female,23,0,0,13.7917\\r\\n475,0,3,female,22,0,0,9.8375\\r\\n476,0,1,male,,0,0,52\\r\\n477,0,2,male,34,1,0,21\\r\\n478,0,3,male,29,1,0,7.0458\\r\\n479,0,3,male,22,0,0,7.5208\\r\\n480,1,3,female,2,0,1,12.2875\\r\\n481,0,3,male,9,5,2,46.9\\r\\n482,0,2,male,,0,0,0\\r\\n483,0,3,male,50,0,0,8.05\\r\\n484,1,3,female,63,0,0,9.5875\\r\\n485,1,1,male,25,1,0,91.0792\\r\\n486,0,3,female,,3,1,25.4667\\r\\n487,1,1,female,35,1,0,90\\r\\n488,0,1,male,58,0,0,29.7\\r\\n489,0,3,male,30,0,0,8.05\\r\\n490,1,3,male,9,1,1,15.9\\r\\n491,0,3,male,,1,0,19.9667\\r\\n492,0,3,male,21,0,0,7.25\\r\\n493,0,1,male,55,0,0,30.5\\r\\n494,0,1,male,71,0,0,49.5042\\r\\n495,0,3,male,21,0,0,8.05\\r\\n496,0,3,male,,0,0,14.4583\\r\\n497,1,1,female,54,1,0,78.2667\\r\\n498,0,3,male,,0,0,15.1\\r\\n499,0,1,female,25,1,2,151.55\\r\\n500,0,3,male,24,0,0,7.7958\\r\\n501,0,3,male,17,0,0,8.6625\\r\\n502,0,3,female,21,0,0,7.75\\r\\n503,0,3,female,,0,0,7.6292\\r\\n504,0,3,female,37,0,0,9.5875\\r\\n505,1,1,female,16,0,0,86.5\\r\\n506,0,1,male,18,1,0,108.9\\r\\n507,1,2,female,33,0,2,26\\r\\n508,1,1,male,,0,0,26.55\\r\\n509,0,3,male,28,0,0,22.525\\r\\n510,1,3,male,26,0,0,56.4958\\r\\n511,1,3,male,29,0,0,7.75\\r\\n512,0,3,male,,0,0,8.05\\r\\n513,1,1,male,36,0,0,26.2875\\r\\n514,1,1,female,54,1,0,59.4\\r\\n515,0,3,male,24,0,0,7.4958\\r\\n516,0,1,male,47,0,0,34.0208\\r\\n517,1,2,female,34,0,0,10.5\\r\\n518,0,3,male,,0,0,24.15\\r\\n519,1,2,female,36,1,0,26\\r\\n520,0,3,male,32,0,0,7.8958\\r\\n521,1,1,female,30,0,0,93.5\\r\\n522,0,3,male,22,0,0,7.8958\\r\\n523,0,3,male,,0,0,7.225\\r\\n524,1,1,female,44,0,1,57.9792\\r\\n525,0,3,male,,0,0,7.2292\\r\\n526,0,3,male,40.5,0,0,7.75\\r\\n527,1,2,female,50,0,0,10.5\\r\\n528,0,1,male,,0,0,221.7792\\r\\n529,0,3,male,39,0,0,7.925\\r\\n530,0,2,male,23,2,1,11.5\\r\\n531,1,2,female,2,1,1,26\\r\\n532,0,3,male,,0,0,7.2292\\r\\n533,0,3,male,17,1,1,7.2292\\r\\n534,1,3,female,,0,2,22.3583\\r\\n535,0,3,female,30,0,0,8.6625\\r\\n536,1,2,female,7,0,2,26.25\\r\\n537,0,1,male,45,0,0,26.55\\r\\n538,1,1,female,30,0,0,106.425\\r\\n539,0,3,male,,0,0,14.5\\r\\n540,1,1,female,22,0,2,49.5\\r\\n541,1,1,female,36,0,2,71\\r\\n542,0,3,female,9,4,2,31.275\\r\\n543,0,3,female,11,4,2,31.275\\r\\n544,1,2,male,32,1,0,26\\r\\n545,0,1,male,50,1,0,106.425\\r\\n546,0,1,male,64,0,0,26\\r\\n547,1,2,female,19,1,0,26\\r\\n548,1,2,male,,0,0,13.8625\\r\\n549,0,3,male,33,1,1,20.525\\r\\n550,1,2,male,8,1,1,36.75\\r\\n551,1,1,male,17,0,2,110.8833\\r\\n552,0,2,male,27,0,0,26\\r\\n553,0,3,male,,0,0,7.8292\\r\\n554,1,3,male,22,0,0,7.225\\r\\n555,1,3,female,22,0,0,7.775\\r\\n556,0,1,male,62,0,0,26.55\\r\\n557,1,1,female,48,1,0,39.6\\r\\n558,0,1,male,,0,0,227.525\\r\\n559,1,1,female,39,1,1,79.65\\r\\n560,1,3,female,36,1,0,17.4\\r\\n561,0,3,male,,0,0,7.75\\r\\n562,0,3,male,40,0,0,7.8958\\r\\n563,0,2,male,28,0,0,13.5\\r\\n564,0,3,male,,0,0,8.05\\r\\n565,0,3,female,,0,0,8.05\\r\\n566,0,3,male,24,2,0,24.15\\r\\n567,0,3,male,19,0,0,7.8958\\r\\n568,0,3,female,29,0,4,21.075\\r\\n569,0,3,male,,0,0,7.2292\\r\\n570,1,3,male,32,0,0,7.8542\\r\\n571,1,2,male,62,0,0,10.5\\r\\n572,1,1,female,53,2,0,51.4792\\r\\n573,1,1,male,36,0,0,26.3875\\r\\n574,1,3,female,,0,0,7.75\\r\\n575,0,3,male,16,0,0,8.05\\r\\n576,0,3,male,19,0,0,14.5\\r\\n577,1,2,female,34,0,0,13\\r\\n578,1,1,female,39,1,0,55.9\\r\\n579,0,3,female,,1,0,14.4583\\r\\n580,1,3,male,32,0,0,7.925\\r\\n581,1,2,female,25,1,1,30\\r\\n582,1,1,female,39,1,1,110.8833\\r\\n583,0,2,male,54,0,0,26\\r\\n584,0,1,male,36,0,0,40.125\\r\\n585,0,3,male,,0,0,8.7125\\r\\n586,1,1,female,18,0,2,79.65\\r\\n587,0,2,male,47,0,0,15\\r\\n588,1,1,male,60,1,1,79.2\\r\\n589,0,3,male,22,0,0,8.05\\r\\n590,0,3,male,,0,0,8.05\\r\\n591,0,3,male,35,0,0,7.125\\r\\n592,1,1,female,52,1,0,78.2667\\r\\n593,0,3,male,47,0,0,7.25\\r\\n594,0,3,female,,0,2,7.75\\r\\n595,0,2,male,37,1,0,26\\r\\n596,0,3,male,36,1,1,24.15\\r\\n597,1,2,female,,0,0,33\\r\\n598,0,3,male,49,0,0,0\\r\\n599,0,3,male,,0,0,7.225\\r\\n600,1,1,male,49,1,0,56.9292\\r\\n601,1,2,female,24,2,1,27\\r\\n602,0,3,male,,0,0,7.8958\\r\\n603,0,1,male,,0,0,42.4\\r\\n604,0,3,male,44,0,0,8.05\\r\\n605,1,1,male,35,0,0,26.55\\r\\n606,0,3,male,36,1,0,15.55\\r\\n607,0,3,male,30,0,0,7.8958\\r\\n608,1,1,male,27,0,0,30.5\\r\\n609,1,2,female,22,1,2,41.5792\\r\\n610,1,1,female,40,0,0,153.4625\\r\\n611,0,3,female,39,1,5,31.275\\r\\n612,0,3,male,,0,0,7.05\\r\\n613,1,3,female,,1,0,15.5\\r\\n614,0,3,male,,0,0,7.75\\r\\n615,0,3,male,35,0,0,8.05\\r\\n616,1,2,female,24,1,2,65\\r\\n617,0,3,male,34,1,1,14.4\\r\\n618,0,3,female,26,1,0,16.1\\r\\n619,1,2,female,4,2,1,39\\r\\n620,0,2,male,26,0,0,10.5\\r\\n'}"
            ]
          },
          "metadata": {
            "tags": []
          },
          "execution_count": 3
        }
      ]
    },
    {
      "cell_type": "code",
      "metadata": {
        "colab": {
          "base_uri": "https://localhost:8080/"
        },
        "id": "pVFmkoeWV3z-",
        "outputId": "b448b110-7dd1-49a9-c633-f880e5f42cc9"
      },
      "source": [
        "#Defining training set in the dataframe named as df1\n",
        "col_names = ['PassengerId', 'Survived', 'Pclass', 'Sex', ' Age', ' SibSp', 'Parch', 'Fare']\n",
        "df1 = pd.read_csv('/content/train.csv')\n",
        "df1.columns = col_names\n",
        "print(df1.head())"
      ],
      "execution_count": null,
      "outputs": [
        {
          "output_type": "stream",
          "text": [
            "   PassengerId  Survived  Pclass     Sex   Age   SibSp  Parch     Fare\n",
            "0            1         0       3    male  22.0       1      0   7.2500\n",
            "1            2         1       1  female  38.0       1      0  71.2833\n",
            "2            3         1       3  female  26.0       0      0   7.9250\n",
            "3            4         1       1  female  35.0       1      0  53.1000\n",
            "4            5         0       3    male  35.0       0      0   8.0500\n"
          ],
          "name": "stdout"
        }
      ]
    },
    {
      "cell_type": "code",
      "metadata": {
        "colab": {
          "base_uri": "https://localhost:8080/"
        },
        "id": "tDLc7OR4V8bR",
        "outputId": "99c22604-e70f-4f9a-d2a7-5b67a586b11e"
      },
      "source": [
        "#Removing the PassengerId column because I think it is of no use in prediciting the survived cases\n",
        "df1.pop(\"PassengerId\")"
      ],
      "execution_count": null,
      "outputs": [
        {
          "output_type": "execute_result",
          "data": {
            "text/plain": [
              "0        1\n",
              "1        2\n",
              "2        3\n",
              "3        4\n",
              "4        5\n",
              "      ... \n",
              "615    616\n",
              "616    617\n",
              "617    618\n",
              "618    619\n",
              "619    620\n",
              "Name: PassengerId, Length: 620, dtype: int64"
            ]
          },
          "metadata": {
            "tags": []
          },
          "execution_count": 5
        }
      ]
    },
    {
      "cell_type": "code",
      "metadata": {
        "colab": {
          "base_uri": "https://localhost:8080/",
          "height": 419
        },
        "id": "V_Fys-OcWA5w",
        "outputId": "8c47eb7e-b9bd-45b7-b699-d614bf1e39e8"
      },
      "source": [
        "#Dataframe of training test after removing PassengerId column\n",
        "df1"
      ],
      "execution_count": null,
      "outputs": [
        {
          "output_type": "execute_result",
          "data": {
            "text/html": [
              "<div>\n",
              "<style scoped>\n",
              "    .dataframe tbody tr th:only-of-type {\n",
              "        vertical-align: middle;\n",
              "    }\n",
              "\n",
              "    .dataframe tbody tr th {\n",
              "        vertical-align: top;\n",
              "    }\n",
              "\n",
              "    .dataframe thead th {\n",
              "        text-align: right;\n",
              "    }\n",
              "</style>\n",
              "<table border=\"1\" class=\"dataframe\">\n",
              "  <thead>\n",
              "    <tr style=\"text-align: right;\">\n",
              "      <th></th>\n",
              "      <th>Survived</th>\n",
              "      <th>Pclass</th>\n",
              "      <th>Sex</th>\n",
              "      <th>Age</th>\n",
              "      <th>SibSp</th>\n",
              "      <th>Parch</th>\n",
              "      <th>Fare</th>\n",
              "    </tr>\n",
              "  </thead>\n",
              "  <tbody>\n",
              "    <tr>\n",
              "      <th>0</th>\n",
              "      <td>0</td>\n",
              "      <td>3</td>\n",
              "      <td>male</td>\n",
              "      <td>22.0</td>\n",
              "      <td>1</td>\n",
              "      <td>0</td>\n",
              "      <td>7.2500</td>\n",
              "    </tr>\n",
              "    <tr>\n",
              "      <th>1</th>\n",
              "      <td>1</td>\n",
              "      <td>1</td>\n",
              "      <td>female</td>\n",
              "      <td>38.0</td>\n",
              "      <td>1</td>\n",
              "      <td>0</td>\n",
              "      <td>71.2833</td>\n",
              "    </tr>\n",
              "    <tr>\n",
              "      <th>2</th>\n",
              "      <td>1</td>\n",
              "      <td>3</td>\n",
              "      <td>female</td>\n",
              "      <td>26.0</td>\n",
              "      <td>0</td>\n",
              "      <td>0</td>\n",
              "      <td>7.9250</td>\n",
              "    </tr>\n",
              "    <tr>\n",
              "      <th>3</th>\n",
              "      <td>1</td>\n",
              "      <td>1</td>\n",
              "      <td>female</td>\n",
              "      <td>35.0</td>\n",
              "      <td>1</td>\n",
              "      <td>0</td>\n",
              "      <td>53.1000</td>\n",
              "    </tr>\n",
              "    <tr>\n",
              "      <th>4</th>\n",
              "      <td>0</td>\n",
              "      <td>3</td>\n",
              "      <td>male</td>\n",
              "      <td>35.0</td>\n",
              "      <td>0</td>\n",
              "      <td>0</td>\n",
              "      <td>8.0500</td>\n",
              "    </tr>\n",
              "    <tr>\n",
              "      <th>...</th>\n",
              "      <td>...</td>\n",
              "      <td>...</td>\n",
              "      <td>...</td>\n",
              "      <td>...</td>\n",
              "      <td>...</td>\n",
              "      <td>...</td>\n",
              "      <td>...</td>\n",
              "    </tr>\n",
              "    <tr>\n",
              "      <th>615</th>\n",
              "      <td>1</td>\n",
              "      <td>2</td>\n",
              "      <td>female</td>\n",
              "      <td>24.0</td>\n",
              "      <td>1</td>\n",
              "      <td>2</td>\n",
              "      <td>65.0000</td>\n",
              "    </tr>\n",
              "    <tr>\n",
              "      <th>616</th>\n",
              "      <td>0</td>\n",
              "      <td>3</td>\n",
              "      <td>male</td>\n",
              "      <td>34.0</td>\n",
              "      <td>1</td>\n",
              "      <td>1</td>\n",
              "      <td>14.4000</td>\n",
              "    </tr>\n",
              "    <tr>\n",
              "      <th>617</th>\n",
              "      <td>0</td>\n",
              "      <td>3</td>\n",
              "      <td>female</td>\n",
              "      <td>26.0</td>\n",
              "      <td>1</td>\n",
              "      <td>0</td>\n",
              "      <td>16.1000</td>\n",
              "    </tr>\n",
              "    <tr>\n",
              "      <th>618</th>\n",
              "      <td>1</td>\n",
              "      <td>2</td>\n",
              "      <td>female</td>\n",
              "      <td>4.0</td>\n",
              "      <td>2</td>\n",
              "      <td>1</td>\n",
              "      <td>39.0000</td>\n",
              "    </tr>\n",
              "    <tr>\n",
              "      <th>619</th>\n",
              "      <td>0</td>\n",
              "      <td>2</td>\n",
              "      <td>male</td>\n",
              "      <td>26.0</td>\n",
              "      <td>0</td>\n",
              "      <td>0</td>\n",
              "      <td>10.5000</td>\n",
              "    </tr>\n",
              "  </tbody>\n",
              "</table>\n",
              "<p>620 rows × 7 columns</p>\n",
              "</div>"
            ],
            "text/plain": [
              "     Survived  Pclass     Sex   Age   SibSp  Parch     Fare\n",
              "0           0       3    male  22.0       1      0   7.2500\n",
              "1           1       1  female  38.0       1      0  71.2833\n",
              "2           1       3  female  26.0       0      0   7.9250\n",
              "3           1       1  female  35.0       1      0  53.1000\n",
              "4           0       3    male  35.0       0      0   8.0500\n",
              "..        ...     ...     ...   ...     ...    ...      ...\n",
              "615         1       2  female  24.0       1      2  65.0000\n",
              "616         0       3    male  34.0       1      1  14.4000\n",
              "617         0       3  female  26.0       1      0  16.1000\n",
              "618         1       2  female   4.0       2      1  39.0000\n",
              "619         0       2    male  26.0       0      0  10.5000\n",
              "\n",
              "[620 rows x 7 columns]"
            ]
          },
          "metadata": {
            "tags": []
          },
          "execution_count": 6
        }
      ]
    },
    {
      "cell_type": "code",
      "metadata": {
        "colab": {
          "base_uri": "https://localhost:8080/"
        },
        "id": "mxUisbO7WH46",
        "outputId": "6ce13519-fa72-4c18-8d00-70ae648fe1eb"
      },
      "source": [
        "df1.columns"
      ],
      "execution_count": null,
      "outputs": [
        {
          "output_type": "execute_result",
          "data": {
            "text/plain": [
              "Index(['Survived', 'Pclass', 'Sex', ' Age', ' SibSp', 'Parch', 'Fare'], dtype='object')"
            ]
          },
          "metadata": {
            "tags": []
          },
          "execution_count": 7
        }
      ]
    },
    {
      "cell_type": "markdown",
      "metadata": {
        "id": "COAFdH4xWkxS"
      },
      "source": [
        "Since, Sex is categorical variable hence we have to convert it into some numerical value for which I used the get_dummies function of Pandas library. So, this will assign the 0 value to females and 1 to male. And using the arguement drop_first = True, it has been ensured that first column of female values has been dropped, hence we left only with male values. Below, I wrote the code for the same."
      ]
    },
    {
      "cell_type": "code",
      "metadata": {
        "id": "k6mihdpPWJhx"
      },
      "source": [
        "sex_train = pd.get_dummies(df1['Sex'], drop_first = True)"
      ],
      "execution_count": null,
      "outputs": []
    },
    {
      "cell_type": "code",
      "metadata": {
        "colab": {
          "base_uri": "https://localhost:8080/",
          "height": 419
        },
        "id": "q4EGDpxgo9GD",
        "outputId": "f8e5e41e-c697-4752-a197-f020bd44540e"
      },
      "source": [
        "sex_train"
      ],
      "execution_count": null,
      "outputs": [
        {
          "output_type": "execute_result",
          "data": {
            "text/html": [
              "<div>\n",
              "<style scoped>\n",
              "    .dataframe tbody tr th:only-of-type {\n",
              "        vertical-align: middle;\n",
              "    }\n",
              "\n",
              "    .dataframe tbody tr th {\n",
              "        vertical-align: top;\n",
              "    }\n",
              "\n",
              "    .dataframe thead th {\n",
              "        text-align: right;\n",
              "    }\n",
              "</style>\n",
              "<table border=\"1\" class=\"dataframe\">\n",
              "  <thead>\n",
              "    <tr style=\"text-align: right;\">\n",
              "      <th></th>\n",
              "      <th>male</th>\n",
              "    </tr>\n",
              "  </thead>\n",
              "  <tbody>\n",
              "    <tr>\n",
              "      <th>0</th>\n",
              "      <td>1</td>\n",
              "    </tr>\n",
              "    <tr>\n",
              "      <th>1</th>\n",
              "      <td>0</td>\n",
              "    </tr>\n",
              "    <tr>\n",
              "      <th>2</th>\n",
              "      <td>0</td>\n",
              "    </tr>\n",
              "    <tr>\n",
              "      <th>3</th>\n",
              "      <td>0</td>\n",
              "    </tr>\n",
              "    <tr>\n",
              "      <th>4</th>\n",
              "      <td>1</td>\n",
              "    </tr>\n",
              "    <tr>\n",
              "      <th>...</th>\n",
              "      <td>...</td>\n",
              "    </tr>\n",
              "    <tr>\n",
              "      <th>615</th>\n",
              "      <td>0</td>\n",
              "    </tr>\n",
              "    <tr>\n",
              "      <th>616</th>\n",
              "      <td>1</td>\n",
              "    </tr>\n",
              "    <tr>\n",
              "      <th>617</th>\n",
              "      <td>0</td>\n",
              "    </tr>\n",
              "    <tr>\n",
              "      <th>618</th>\n",
              "      <td>0</td>\n",
              "    </tr>\n",
              "    <tr>\n",
              "      <th>619</th>\n",
              "      <td>1</td>\n",
              "    </tr>\n",
              "  </tbody>\n",
              "</table>\n",
              "<p>620 rows × 1 columns</p>\n",
              "</div>"
            ],
            "text/plain": [
              "     male\n",
              "0       1\n",
              "1       0\n",
              "2       0\n",
              "3       0\n",
              "4       1\n",
              "..    ...\n",
              "615     0\n",
              "616     1\n",
              "617     0\n",
              "618     0\n",
              "619     1\n",
              "\n",
              "[620 rows x 1 columns]"
            ]
          },
          "metadata": {
            "tags": []
          },
          "execution_count": 9
        }
      ]
    },
    {
      "cell_type": "code",
      "metadata": {
        "id": "sqPvfDx4Zt9V"
      },
      "source": [
        "# Here, I added the column of male in the dataframe obtained by removing the PassengerId\n",
        "df1 = pd.concat([df1, sex_train], axis = 1)"
      ],
      "execution_count": null,
      "outputs": []
    },
    {
      "cell_type": "code",
      "metadata": {
        "colab": {
          "base_uri": "https://localhost:8080/"
        },
        "id": "eycZR27_ZzgI",
        "outputId": "a7f90f49-43ce-4afe-cef9-e2e7adcdff57"
      },
      "source": [
        "df1.columns     # To check whether that column of male has been added or not."
      ],
      "execution_count": null,
      "outputs": [
        {
          "output_type": "execute_result",
          "data": {
            "text/plain": [
              "Index(['Survived', 'Pclass', 'Sex', ' Age', ' SibSp', 'Parch', 'Fare', 'male'], dtype='object')"
            ]
          },
          "metadata": {
            "tags": []
          },
          "execution_count": 11
        }
      ]
    },
    {
      "cell_type": "code",
      "metadata": {
        "colab": {
          "base_uri": "https://localhost:8080/"
        },
        "id": "tVppfytWZ6OF",
        "outputId": "73401b45-1e7c-4fbc-bf69-8cd6bcc57e6b"
      },
      "source": [
        "#Since, until now we have already added the male column which has numerical value. So, we could remove the Sex column.\n",
        "df1.pop(\"Sex\")"
      ],
      "execution_count": null,
      "outputs": [
        {
          "output_type": "execute_result",
          "data": {
            "text/plain": [
              "0        male\n",
              "1      female\n",
              "2      female\n",
              "3      female\n",
              "4        male\n",
              "        ...  \n",
              "615    female\n",
              "616      male\n",
              "617    female\n",
              "618    female\n",
              "619      male\n",
              "Name: Sex, Length: 620, dtype: object"
            ]
          },
          "metadata": {
            "tags": []
          },
          "execution_count": 12
        }
      ]
    },
    {
      "cell_type": "code",
      "metadata": {
        "colab": {
          "base_uri": "https://localhost:8080/",
          "height": 419
        },
        "id": "BxZflng3Z-1K",
        "outputId": "0666e4ae-1b8f-41d3-91a1-784e6ff291b5"
      },
      "source": [
        "#Dataframe df1 after removing the Sex column\n",
        "df1"
      ],
      "execution_count": null,
      "outputs": [
        {
          "output_type": "execute_result",
          "data": {
            "text/html": [
              "<div>\n",
              "<style scoped>\n",
              "    .dataframe tbody tr th:only-of-type {\n",
              "        vertical-align: middle;\n",
              "    }\n",
              "\n",
              "    .dataframe tbody tr th {\n",
              "        vertical-align: top;\n",
              "    }\n",
              "\n",
              "    .dataframe thead th {\n",
              "        text-align: right;\n",
              "    }\n",
              "</style>\n",
              "<table border=\"1\" class=\"dataframe\">\n",
              "  <thead>\n",
              "    <tr style=\"text-align: right;\">\n",
              "      <th></th>\n",
              "      <th>Survived</th>\n",
              "      <th>Pclass</th>\n",
              "      <th>Age</th>\n",
              "      <th>SibSp</th>\n",
              "      <th>Parch</th>\n",
              "      <th>Fare</th>\n",
              "      <th>male</th>\n",
              "    </tr>\n",
              "  </thead>\n",
              "  <tbody>\n",
              "    <tr>\n",
              "      <th>0</th>\n",
              "      <td>0</td>\n",
              "      <td>3</td>\n",
              "      <td>22.0</td>\n",
              "      <td>1</td>\n",
              "      <td>0</td>\n",
              "      <td>7.2500</td>\n",
              "      <td>1</td>\n",
              "    </tr>\n",
              "    <tr>\n",
              "      <th>1</th>\n",
              "      <td>1</td>\n",
              "      <td>1</td>\n",
              "      <td>38.0</td>\n",
              "      <td>1</td>\n",
              "      <td>0</td>\n",
              "      <td>71.2833</td>\n",
              "      <td>0</td>\n",
              "    </tr>\n",
              "    <tr>\n",
              "      <th>2</th>\n",
              "      <td>1</td>\n",
              "      <td>3</td>\n",
              "      <td>26.0</td>\n",
              "      <td>0</td>\n",
              "      <td>0</td>\n",
              "      <td>7.9250</td>\n",
              "      <td>0</td>\n",
              "    </tr>\n",
              "    <tr>\n",
              "      <th>3</th>\n",
              "      <td>1</td>\n",
              "      <td>1</td>\n",
              "      <td>35.0</td>\n",
              "      <td>1</td>\n",
              "      <td>0</td>\n",
              "      <td>53.1000</td>\n",
              "      <td>0</td>\n",
              "    </tr>\n",
              "    <tr>\n",
              "      <th>4</th>\n",
              "      <td>0</td>\n",
              "      <td>3</td>\n",
              "      <td>35.0</td>\n",
              "      <td>0</td>\n",
              "      <td>0</td>\n",
              "      <td>8.0500</td>\n",
              "      <td>1</td>\n",
              "    </tr>\n",
              "    <tr>\n",
              "      <th>...</th>\n",
              "      <td>...</td>\n",
              "      <td>...</td>\n",
              "      <td>...</td>\n",
              "      <td>...</td>\n",
              "      <td>...</td>\n",
              "      <td>...</td>\n",
              "      <td>...</td>\n",
              "    </tr>\n",
              "    <tr>\n",
              "      <th>615</th>\n",
              "      <td>1</td>\n",
              "      <td>2</td>\n",
              "      <td>24.0</td>\n",
              "      <td>1</td>\n",
              "      <td>2</td>\n",
              "      <td>65.0000</td>\n",
              "      <td>0</td>\n",
              "    </tr>\n",
              "    <tr>\n",
              "      <th>616</th>\n",
              "      <td>0</td>\n",
              "      <td>3</td>\n",
              "      <td>34.0</td>\n",
              "      <td>1</td>\n",
              "      <td>1</td>\n",
              "      <td>14.4000</td>\n",
              "      <td>1</td>\n",
              "    </tr>\n",
              "    <tr>\n",
              "      <th>617</th>\n",
              "      <td>0</td>\n",
              "      <td>3</td>\n",
              "      <td>26.0</td>\n",
              "      <td>1</td>\n",
              "      <td>0</td>\n",
              "      <td>16.1000</td>\n",
              "      <td>0</td>\n",
              "    </tr>\n",
              "    <tr>\n",
              "      <th>618</th>\n",
              "      <td>1</td>\n",
              "      <td>2</td>\n",
              "      <td>4.0</td>\n",
              "      <td>2</td>\n",
              "      <td>1</td>\n",
              "      <td>39.0000</td>\n",
              "      <td>0</td>\n",
              "    </tr>\n",
              "    <tr>\n",
              "      <th>619</th>\n",
              "      <td>0</td>\n",
              "      <td>2</td>\n",
              "      <td>26.0</td>\n",
              "      <td>0</td>\n",
              "      <td>0</td>\n",
              "      <td>10.5000</td>\n",
              "      <td>1</td>\n",
              "    </tr>\n",
              "  </tbody>\n",
              "</table>\n",
              "<p>620 rows × 7 columns</p>\n",
              "</div>"
            ],
            "text/plain": [
              "     Survived  Pclass   Age   SibSp  Parch     Fare  male\n",
              "0           0       3  22.0       1      0   7.2500     1\n",
              "1           1       1  38.0       1      0  71.2833     0\n",
              "2           1       3  26.0       0      0   7.9250     0\n",
              "3           1       1  35.0       1      0  53.1000     0\n",
              "4           0       3  35.0       0      0   8.0500     1\n",
              "..        ...     ...   ...     ...    ...      ...   ...\n",
              "615         1       2  24.0       1      2  65.0000     0\n",
              "616         0       3  34.0       1      1  14.4000     1\n",
              "617         0       3  26.0       1      0  16.1000     0\n",
              "618         1       2   4.0       2      1  39.0000     0\n",
              "619         0       2  26.0       0      0  10.5000     1\n",
              "\n",
              "[620 rows x 7 columns]"
            ]
          },
          "metadata": {
            "tags": []
          },
          "execution_count": 13
        }
      ]
    },
    {
      "cell_type": "code",
      "metadata": {
        "colab": {
          "base_uri": "https://localhost:8080/"
        },
        "id": "OnR_BwojaDkd",
        "outputId": "aabc4f78-ef60-4f7d-ab97-c496015436f0"
      },
      "source": [
        "#Shape of the final dataframe of training set\n",
        "df1.shape"
      ],
      "execution_count": null,
      "outputs": [
        {
          "output_type": "execute_result",
          "data": {
            "text/plain": [
              "(620, 7)"
            ]
          },
          "metadata": {
            "tags": []
          },
          "execution_count": 14
        }
      ]
    },
    {
      "cell_type": "code",
      "metadata": {
        "colab": {
          "base_uri": "https://localhost:8080/"
        },
        "id": "A0sW-1NHaIf0",
        "outputId": "c637abeb-66af-4812-fdcb-43ab9e66a40c"
      },
      "source": [
        "df1.columns          # To check the actual saved name of the columns."
      ],
      "execution_count": null,
      "outputs": [
        {
          "output_type": "execute_result",
          "data": {
            "text/plain": [
              "Index(['Survived', 'Pclass', ' Age', ' SibSp', 'Parch', 'Fare', 'male'], dtype='object')"
            ]
          },
          "metadata": {
            "tags": []
          },
          "execution_count": 15
        }
      ]
    },
    {
      "cell_type": "code",
      "metadata": {
        "id": "h6sJK3B_aMcI"
      },
      "source": [
        "#Renaming of the column\n",
        "df1 = df1.rename(columns={' Age': 'Age'})\n",
        "df1 = df1.rename(columns={' SibSp': 'SibSp'})"
      ],
      "execution_count": null,
      "outputs": []
    },
    {
      "cell_type": "code",
      "metadata": {
        "colab": {
          "base_uri": "https://localhost:8080/"
        },
        "id": "WOwH4jyMaRxD",
        "outputId": "1732844f-43d9-4f93-ab61-881b9ca1ae42"
      },
      "source": [
        "df1.columns"
      ],
      "execution_count": null,
      "outputs": [
        {
          "output_type": "execute_result",
          "data": {
            "text/plain": [
              "Index(['Survived', 'Pclass', 'Age', 'SibSp', 'Parch', 'Fare', 'male'], dtype='object')"
            ]
          },
          "metadata": {
            "tags": []
          },
          "execution_count": 17
        }
      ]
    },
    {
      "cell_type": "markdown",
      "metadata": {
        "id": "WcVLmMJzaZqC"
      },
      "source": [
        "Using seaborn library to get a boxplot of values of Age variable so, that I could find out which parameter(i.e mean, mode, median, constant value). I have to use to fill the empty spaces of the Age column. Here, I found out that this variable is right-skewed so, according to some texts we should use median value to fill the empty spaces. So, below in some cells I used the code for the same."
      ]
    },
    {
      "cell_type": "code",
      "metadata": {
        "colab": {
          "base_uri": "https://localhost:8080/",
          "height": 352
        },
        "id": "28dto235aV_j",
        "outputId": "4ae5bde1-e558-4e7f-e564-14c8c1714dbd"
      },
      "source": [
        " sns.boxplot(df1.Age)"
      ],
      "execution_count": null,
      "outputs": [
        {
          "output_type": "stream",
          "text": [
            "/usr/local/lib/python3.7/dist-packages/seaborn/_decorators.py:43: FutureWarning: Pass the following variable as a keyword arg: x. From version 0.12, the only valid positional argument will be `data`, and passing other arguments without an explicit keyword will result in an error or misinterpretation.\n",
            "  FutureWarning\n"
          ],
          "name": "stderr"
        },
        {
          "output_type": "execute_result",
          "data": {
            "text/plain": [
              "<matplotlib.axes._subplots.AxesSubplot at 0x7fdc176dbdd0>"
            ]
          },
          "metadata": {
            "tags": []
          },
          "execution_count": 18
        },
        {
          "output_type": "display_data",
          "data": {
            "image/png": "[encoded data removed]",
            "text/plain": [
              "<Figure size 432x288 with 1 Axes>"
            ]
          },
          "metadata": {
            "tags": [],
            "needs_background": "light"
          }
        }
      ]
    },
    {
      "cell_type": "code",
      "metadata": {
        "colab": {
          "base_uri": "https://localhost:8080/",
          "height": 352
        },
        "id": "247zygfxarrZ",
        "outputId": "2fd6566b-816f-4a97-84ce-088ef59d93da"
      },
      "source": [
        "sns.distplot(df1.Age)      # Gives the curve of right-skewed data"
      ],
      "execution_count": null,
      "outputs": [
        {
          "output_type": "stream",
          "text": [
            "/usr/local/lib/python3.7/dist-packages/seaborn/distributions.py:2557: FutureWarning: `distplot` is a deprecated function and will be removed in a future version. Please adapt your code to use either `displot` (a figure-level function with similar flexibility) or `histplot` (an axes-level function for histograms).\n",
            "  warnings.warn(msg, FutureWarning)\n"
          ],
          "name": "stderr"
        },
        {
          "output_type": "execute_result",
          "data": {
            "text/plain": [
              "<matplotlib.axes._subplots.AxesSubplot at 0x7fdc0381c750>"
            ]
          },
          "metadata": {
            "tags": []
          },
          "execution_count": 19
        },
        {
          "output_type": "display_data",
          "data": {
            "image/png": "[encoded data removed]",
            "text/plain": [
              "<Figure size 432x288 with 1 Axes>"
            ]
          },
          "metadata": {
            "tags": [],
            "needs_background": "light"
          }
        }
      ]
    },
    {
      "cell_type": "code",
      "metadata": {
        "id": "iLU7t8Gga04w"
      },
      "source": [
        "# Using median to fill the empty spaces in the Age column\n",
        "df1['Age'] = df1['Age'].fillna(df1['Age'].median())"
      ],
      "execution_count": null,
      "outputs": []
    },
    {
      "cell_type": "code",
      "metadata": {
        "colab": {
          "base_uri": "https://localhost:8080/",
          "height": 419
        },
        "id": "WhmrTXSZa40k",
        "outputId": "48d22f5c-c9a3-433d-cb6d-546e22fede45"
      },
      "source": [
        "#Final dataframe of training set\n",
        "df1"
      ],
      "execution_count": null,
      "outputs": [
        {
          "output_type": "execute_result",
          "data": {
            "text/html": [
              "<div>\n",
              "<style scoped>\n",
              "    .dataframe tbody tr th:only-of-type {\n",
              "        vertical-align: middle;\n",
              "    }\n",
              "\n",
              "    .dataframe tbody tr th {\n",
              "        vertical-align: top;\n",
              "    }\n",
              "\n",
              "    .dataframe thead th {\n",
              "        text-align: right;\n",
              "    }\n",
              "</style>\n",
              "<table border=\"1\" class=\"dataframe\">\n",
              "  <thead>\n",
              "    <tr style=\"text-align: right;\">\n",
              "      <th></th>\n",
              "      <th>Survived</th>\n",
              "      <th>Pclass</th>\n",
              "      <th>Age</th>\n",
              "      <th>SibSp</th>\n",
              "      <th>Parch</th>\n",
              "      <th>Fare</th>\n",
              "      <th>male</th>\n",
              "    </tr>\n",
              "  </thead>\n",
              "  <tbody>\n",
              "    <tr>\n",
              "      <th>0</th>\n",
              "      <td>0</td>\n",
              "      <td>3</td>\n",
              "      <td>22.0</td>\n",
              "      <td>1</td>\n",
              "      <td>0</td>\n",
              "      <td>7.2500</td>\n",
              "      <td>1</td>\n",
              "    </tr>\n",
              "    <tr>\n",
              "      <th>1</th>\n",
              "      <td>1</td>\n",
              "      <td>1</td>\n",
              "      <td>38.0</td>\n",
              "      <td>1</td>\n",
              "      <td>0</td>\n",
              "      <td>71.2833</td>\n",
              "      <td>0</td>\n",
              "    </tr>\n",
              "    <tr>\n",
              "      <th>2</th>\n",
              "      <td>1</td>\n",
              "      <td>3</td>\n",
              "      <td>26.0</td>\n",
              "      <td>0</td>\n",
              "      <td>0</td>\n",
              "      <td>7.9250</td>\n",
              "      <td>0</td>\n",
              "    </tr>\n",
              "    <tr>\n",
              "      <th>3</th>\n",
              "      <td>1</td>\n",
              "      <td>1</td>\n",
              "      <td>35.0</td>\n",
              "      <td>1</td>\n",
              "      <td>0</td>\n",
              "      <td>53.1000</td>\n",
              "      <td>0</td>\n",
              "    </tr>\n",
              "    <tr>\n",
              "      <th>4</th>\n",
              "      <td>0</td>\n",
              "      <td>3</td>\n",
              "      <td>35.0</td>\n",
              "      <td>0</td>\n",
              "      <td>0</td>\n",
              "      <td>8.0500</td>\n",
              "      <td>1</td>\n",
              "    </tr>\n",
              "    <tr>\n",
              "      <th>...</th>\n",
              "      <td>...</td>\n",
              "      <td>...</td>\n",
              "      <td>...</td>\n",
              "      <td>...</td>\n",
              "      <td>...</td>\n",
              "      <td>...</td>\n",
              "      <td>...</td>\n",
              "    </tr>\n",
              "    <tr>\n",
              "      <th>615</th>\n",
              "      <td>1</td>\n",
              "      <td>2</td>\n",
              "      <td>24.0</td>\n",
              "      <td>1</td>\n",
              "      <td>2</td>\n",
              "      <td>65.0000</td>\n",
              "      <td>0</td>\n",
              "    </tr>\n",
              "    <tr>\n",
              "      <th>616</th>\n",
              "      <td>0</td>\n",
              "      <td>3</td>\n",
              "      <td>34.0</td>\n",
              "      <td>1</td>\n",
              "      <td>1</td>\n",
              "      <td>14.4000</td>\n",
              "      <td>1</td>\n",
              "    </tr>\n",
              "    <tr>\n",
              "      <th>617</th>\n",
              "      <td>0</td>\n",
              "      <td>3</td>\n",
              "      <td>26.0</td>\n",
              "      <td>1</td>\n",
              "      <td>0</td>\n",
              "      <td>16.1000</td>\n",
              "      <td>0</td>\n",
              "    </tr>\n",
              "    <tr>\n",
              "      <th>618</th>\n",
              "      <td>1</td>\n",
              "      <td>2</td>\n",
              "      <td>4.0</td>\n",
              "      <td>2</td>\n",
              "      <td>1</td>\n",
              "      <td>39.0000</td>\n",
              "      <td>0</td>\n",
              "    </tr>\n",
              "    <tr>\n",
              "      <th>619</th>\n",
              "      <td>0</td>\n",
              "      <td>2</td>\n",
              "      <td>26.0</td>\n",
              "      <td>0</td>\n",
              "      <td>0</td>\n",
              "      <td>10.5000</td>\n",
              "      <td>1</td>\n",
              "    </tr>\n",
              "  </tbody>\n",
              "</table>\n",
              "<p>620 rows × 7 columns</p>\n",
              "</div>"
            ],
            "text/plain": [
              "     Survived  Pclass   Age  SibSp  Parch     Fare  male\n",
              "0           0       3  22.0      1      0   7.2500     1\n",
              "1           1       1  38.0      1      0  71.2833     0\n",
              "2           1       3  26.0      0      0   7.9250     0\n",
              "3           1       1  35.0      1      0  53.1000     0\n",
              "4           0       3  35.0      0      0   8.0500     1\n",
              "..        ...     ...   ...    ...    ...      ...   ...\n",
              "615         1       2  24.0      1      2  65.0000     0\n",
              "616         0       3  34.0      1      1  14.4000     1\n",
              "617         0       3  26.0      1      0  16.1000     0\n",
              "618         1       2   4.0      2      1  39.0000     0\n",
              "619         0       2  26.0      0      0  10.5000     1\n",
              "\n",
              "[620 rows x 7 columns]"
            ]
          },
          "metadata": {
            "tags": []
          },
          "execution_count": 21
        }
      ]
    },
    {
      "cell_type": "code",
      "metadata": {
        "colab": {
          "base_uri": "https://localhost:8080/"
        },
        "id": "-dXtj10va82j",
        "outputId": "dc5d5805-76d8-4878-d1ac-d28c4b460e40"
      },
      "source": [
        "df1.columns"
      ],
      "execution_count": null,
      "outputs": [
        {
          "output_type": "execute_result",
          "data": {
            "text/plain": [
              "Index(['Survived', 'Pclass', 'Age', 'SibSp', 'Parch', 'Fare', 'male'], dtype='object')"
            ]
          },
          "metadata": {
            "tags": []
          },
          "execution_count": 22
        }
      ]
    },
    {
      "cell_type": "code",
      "metadata": {
        "colab": {
          "base_uri": "https://localhost:8080/"
        },
        "id": "JWF248fabBpC",
        "outputId": "294abc46-95f1-490e-fb79-3838c3364805"
      },
      "source": [
        "df1.shape"
      ],
      "execution_count": null,
      "outputs": [
        {
          "output_type": "execute_result",
          "data": {
            "text/plain": [
              "(620, 7)"
            ]
          },
          "metadata": {
            "tags": []
          },
          "execution_count": 23
        }
      ]
    },
    {
      "cell_type": "code",
      "metadata": {
        "colab": {
          "base_uri": "https://localhost:8080/"
        },
        "id": "m3gs6_yNbFJ-",
        "outputId": "0cde3874-b76a-497e-b4c6-17c52c29119e"
      },
      "source": [
        "# Converting the dataframe of training set into numpy arrays. Also, finding their shape and length.\n",
        "X_train = df1[['Pclass','Age','SibSp','Parch','Fare','male']]\n",
        "X_train = X_train.to_numpy()\n",
        "Y_train = df1['Survived'].to_numpy()\n",
        "X_train.shape,len(Y_train)"
      ],
      "execution_count": null,
      "outputs": [
        {
          "output_type": "execute_result",
          "data": {
            "text/plain": [
              "((620, 6), 620)"
            ]
          },
          "metadata": {
            "tags": []
          },
          "execution_count": 24
        }
      ]
    },
    {
      "cell_type": "code",
      "metadata": {
        "colab": {
          "resources": {
            "http://localhost:8080/nbextensions/google.colab/files.js": {
              "data": "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",
              "ok": true,
              "headers": [
                [
                  "content-type",
                  "application/javascript"
                ]
              ],
              "status": 200,
              "status_text": ""
            }
          },
          "base_uri": "https://localhost:8080/",
          "height": 111
        },
        "id": "2C6jXxtlbKEt",
        "outputId": "ca203dbe-4fa5-4b4c-af9e-dfc3267f0eb8"
      },
      "source": [
        "#Uploading the file of test set\n",
        "uploaded2 = files.upload()\n",
        "uploaded2"
      ],
      "execution_count": null,
      "outputs": [
        {
          "output_type": "display_data",
          "data": {
            "text/html": [
              "\n",
              "     <input type=\"file\" id=\"files-2fbefbb6-097c-435d-b4d3-44699dc4bb05\" name=\"files[]\" multiple disabled\n",
              "        style=\"border:none\" />\n",
              "     <output id=\"result-2fbefbb6-097c-435d-b4d3-44699dc4bb05\">\n",
              "      Upload widget is only available when the cell has been executed in the\n",
              "      current browser session. Please rerun this cell to enable.\n",
              "      </output>\n",
              "      <script src=\"/nbextensions/google.colab/files.js\"></script> "
            ],
            "text/plain": [
              "<IPython.core.display.HTML object>"
            ]
          },
          "metadata": {
            "tags": []
          }
        },
        {
          "output_type": "stream",
          "text": [
            "Saving test.csv to test.csv\n"
          ],
          "name": "stdout"
        },
        {
          "output_type": "execute_result",
          "data": {
            "text/plain": [
              "{'test.csv': b'PassengerId,Survived,Pclass,Sex,Age,SibSp,Parch,Fare\\r\\n621,0,3,male,27,1,0,14.4542\\r\\n622,1,1,male,42,1,0,52.5542\\r\\n623,1,3,male,20,1,1,15.7417\\r\\n624,0,3,male,21,0,0,7.8542\\r\\n625,0,3,male,21,0,0,16.1\\r\\n626,0,1,male,61,0,0,32.3208\\r\\n627,0,2,male,57,0,0,12.35\\r\\n628,1,1,female,21,0,0,77.9583\\r\\n629,0,3,male,26,0,0,7.8958\\r\\n630,0,3,male,,0,0,7.7333\\r\\n631,1,1,male,80,0,0,30\\r\\n632,0,3,male,51,0,0,7.0542\\r\\n633,1,1,male,32,0,0,30.5\\r\\n634,0,1,male,,0,0,0\\r\\n635,0,3,female,9,3,2,27.9\\r\\n636,1,2,female,28,0,0,13\\r\\n637,0,3,male,32,0,0,7.925\\r\\n638,0,2,male,31,1,1,26.25\\r\\n639,0,3,female,41,0,5,39.6875\\r\\n640,0,3,male,,1,0,16.1\\r\\n641,0,3,male,20,0,0,7.8542\\r\\n642,1,1,female,24,0,0,69.3\\r\\n643,0,3,female,2,3,2,27.9\\r\\n644,1,3,male,,0,0,56.4958\\r\\n645,1,3,female,0.75,2,1,19.2583\\r\\n646,1,1,male,48,1,0,76.7292\\r\\n647,0,3,male,19,0,0,7.8958\\r\\n648,1,1,male,56,0,0,35.5\\r\\n649,0,3,male,,0,0,7.55\\r\\n650,1,3,female,23,0,0,7.55\\r\\n651,0,3,male,,0,0,7.8958\\r\\n652,1,2,female,18,0,1,23\\r\\n653,0,3,male,21,0,0,8.4333\\r\\n654,1,3,female,,0,0,7.8292\\r\\n655,0,3,female,18,0,0,6.75\\r\\n656,0,2,male,24,2,0,73.5\\r\\n657,0,3,male,,0,0,7.8958\\r\\n658,0,3,female,32,1,1,15.5\\r\\n659,0,2,male,23,0,0,13\\r\\n660,0,1,male,58,0,2,113.275\\r\\n661,1,1,male,50,2,0,133.65\\r\\n662,0,3,male,40,0,0,7.225\\r\\n663,0,1,male,47,0,0,25.5875\\r\\n664,0,3,male,36,0,0,7.4958\\r\\n665,1,3,male,20,1,0,7.925\\r\\n666,0,2,male,32,2,0,73.5\\r\\n667,0,2,male,25,0,0,13\\r\\n668,0,3,male,,0,0,7.775\\r\\n669,0,3,male,43,0,0,8.05\\r\\n670,1,1,female,,1,0,52\\r\\n671,1,2,female,40,1,1,39\\r\\n672,0,1,male,31,1,0,52\\r\\n673,0,2,male,70,0,0,10.5\\r\\n674,1,2,male,31,0,0,13\\r\\n675,0,2,male,,0,0,0\\r\\n676,0,3,male,18,0,0,7.775\\r\\n677,0,3,male,24.5,0,0,8.05\\r\\n678,1,3,female,18,0,0,9.8417\\r\\n679,0,3,female,43,1,6,46.9\\r\\n680,1,1,male,36,0,1,512.3292\\r\\n681,0,3,female,,0,0,8.1375\\r\\n682,1,1,male,27,0,0,76.7292\\r\\n683,0,3,male,20,0,0,9.225\\r\\n684,0,3,male,14,5,2,46.9\\r\\n685,0,2,male,60,1,1,39\\r\\n686,0,2,male,25,1,2,41.5792\\r\\n687,0,3,male,14,4,1,39.6875\\r\\n688,0,3,male,19,0,0,10.1708\\r\\n689,0,3,male,18,0,0,7.7958\\r\\n690,1,1,female,15,0,1,211.3375\\r\\n691,1,1,male,31,1,0,57\\r\\n692,1,3,female,4,0,1,13.4167\\r\\n693,1,3,male,,0,0,56.4958\\r\\n694,0,3,male,25,0,0,7.225\\r\\n695,0,1,male,60,0,0,26.55\\r\\n696,0,2,male,52,0,0,13.5\\r\\n697,0,3,male,44,0,0,8.05\\r\\n698,1,3,female,,0,0,7.7333\\r\\n699,0,1,male,49,1,1,110.8833\\r\\n700,0,3,male,42,0,0,7.65\\r\\n701,1,1,female,18,1,0,227.525\\r\\n702,1,1,male,35,0,0,26.2875\\r\\n703,0,3,female,18,0,1,14.4542\\r\\n704,0,3,male,25,0,0,7.7417\\r\\n705,0,3,male,26,1,0,7.8542\\r\\n706,0,2,male,39,0,0,26\\r\\n707,1,2,female,45,0,0,13.5\\r\\n708,1,1,male,42,0,0,26.2875\\r\\n709,1,1,female,22,0,0,151.55\\r\\n710,1,3,male,,1,1,15.2458\\r\\n711,1,1,female,24,0,0,49.5042\\r\\n712,0,1,male,,0,0,26.55\\r\\n713,1,1,male,48,1,0,52\\r\\n714,0,3,male,29,0,0,9.4833\\r\\n715,0,2,male,52,0,0,13\\r\\n716,0,3,male,19,0,0,7.65\\r\\n717,1,1,female,38,0,0,227.525\\r\\n718,1,2,female,27,0,0,10.5\\r\\n719,0,3,male,,0,0,15.5\\r\\n720,0,3,male,33,0,0,7.775\\r\\n721,1,2,female,6,0,1,33\\r\\n722,0,3,male,17,1,0,7.0542\\r\\n723,0,2,male,34,0,0,13\\r\\n724,0,2,male,50,0,0,13\\r\\n725,1,1,male,27,1,0,53.1\\r\\n726,0,3,male,20,0,0,8.6625\\r\\n727,1,2,female,30,3,0,21\\r\\n728,1,3,female,,0,0,7.7375\\r\\n729,0,2,male,25,1,0,26\\r\\n730,0,3,female,25,1,0,7.925\\r\\n731,1,1,female,29,0,0,211.3375\\r\\n732,0,3,male,11,0,0,18.7875\\r\\n733,0,2,male,,0,0,0\\r\\n734,0,2,male,23,0,0,13\\r\\n735,0,2,male,23,0,0,13\\r\\n736,0,3,male,28.5,0,0,16.1\\r\\n737,0,3,female,48,1,3,34.375\\r\\n738,1,1,male,35,0,0,512.3292\\r\\n739,0,3,male,,0,0,7.8958\\r\\n740,0,3,male,,0,0,7.8958\\r\\n741,1,1,male,,0,0,30\\r\\n742,0,1,male,36,1,0,78.85\\r\\n743,1,1,female,21,2,2,262.375\\r\\n744,0,3,male,24,1,0,16.1\\r\\n745,1,3,male,31,0,0,7.925\\r\\n746,0,1,male,70,1,1,71\\r\\n747,0,3,male,16,1,1,20.25\\r\\n748,1,2,female,30,0,0,13\\r\\n749,0,1,male,19,1,0,53.1\\r\\n750,0,3,male,31,0,0,7.75\\r\\n751,1,2,female,4,1,1,23\\r\\n752,1,3,male,6,0,1,12.475\\r\\n753,0,3,male,33,0,0,9.5\\r\\n754,0,3,male,23,0,0,7.8958\\r\\n755,1,2,female,48,1,2,65\\r\\n756,1,2,male,0.67,1,1,14.5\\r\\n757,0,3,male,28,0,0,7.7958\\r\\n758,0,2,male,18,0,0,11.5\\r\\n759,0,3,male,34,0,0,8.05\\r\\n760,1,1,female,33,0,0,86.5\\r\\n761,0,3,male,,0,0,14.5\\r\\n762,0,3,male,41,0,0,7.125\\r\\n763,1,3,male,20,0,0,7.2292\\r\\n764,1,1,female,36,1,2,120\\r\\n765,0,3,male,16,0,0,7.775\\r\\n766,1,1,female,51,1,0,77.9583\\r\\n767,0,1,male,,0,0,39.6\\r\\n768,0,3,female,30.5,0,0,7.75\\r\\n769,0,3,male,,1,0,24.15\\r\\n770,0,3,male,32,0,0,8.3625\\r\\n771,0,3,male,24,0,0,9.5\\r\\n772,0,3,male,48,0,0,7.8542\\r\\n773,0,2,female,57,0,0,10.5\\r\\n774,0,3,male,,0,0,7.225\\r\\n775,1,2,female,54,1,3,23\\r\\n776,0,3,male,18,0,0,7.75\\r\\n777,0,3,male,,0,0,7.75\\r\\n778,1,3,female,5,0,0,12.475\\r\\n779,0,3,male,,0,0,7.7375\\r\\n780,1,1,female,43,0,1,211.3375\\r\\n781,1,3,female,13,0,0,7.2292\\r\\n782,1,1,female,17,1,0,57\\r\\n783,0,1,male,29,0,0,30\\r\\n784,0,3,male,,1,2,23.45\\r\\n785,0,3,male,25,0,0,7.05\\r\\n786,0,3,male,25,0,0,7.25\\r\\n787,1,3,female,18,0,0,7.4958\\r\\n788,0,3,male,8,4,1,29.125\\r\\n789,1,3,male,1,1,2,20.575\\r\\n790,0,1,male,46,0,0,79.2\\r\\n791,0,3,male,,0,0,7.75\\r\\n792,0,2,male,16,0,0,26\\r\\n793,0,3,female,,8,2,69.55\\r\\n794,0,1,male,,0,0,30.6958\\r\\n795,0,3,male,25,0,0,7.8958\\r\\n796,0,2,male,39,0,0,13\\r\\n797,1,1,female,49,0,0,25.9292\\r\\n798,1,3,female,31,0,0,8.6833\\r\\n799,0,3,male,30,0,0,7.2292\\r\\n800,0,3,female,30,1,1,24.15\\r\\n801,0,2,male,34,0,0,13\\r\\n802,1,2,female,31,1,1,26.25\\r\\n803,1,1,male,11,1,2,120\\r\\n804,1,3,male,0.42,0,1,8.5167\\r\\n805,1,3,male,27,0,0,6.975\\r\\n806,0,3,male,31,0,0,7.775\\r\\n807,0,1,male,39,0,0,0\\r\\n808,0,3,female,18,0,0,7.775\\r\\n809,0,2,male,39,0,0,13\\r\\n810,1,1,female,33,1,0,53.1\\r\\n811,0,3,male,26,0,0,7.8875\\r\\n812,0,3,male,39,0,0,24.15\\r\\n813,0,2,male,35,0,0,10.5\\r\\n814,0,3,female,6,4,2,31.275\\r\\n815,0,3,male,30.5,0,0,8.05\\r\\n816,0,1,male,,0,0,0\\r\\n817,0,3,female,23,0,0,7.925\\r\\n818,0,2,male,31,1,1,37.0042\\r\\n819,0,3,male,43,0,0,6.45\\r\\n820,0,3,male,10,3,2,27.9\\r\\n821,1,1,female,52,1,1,93.5\\r\\n822,1,3,male,27,0,0,8.6625\\r\\n823,0,1,male,38,0,0,0\\r\\n824,1,3,female,27,0,1,12.475\\r\\n825,0,3,male,2,4,1,39.6875\\r\\n826,0,3,male,,0,0,6.95\\r\\n827,0,3,male,,0,0,56.4958\\r\\n828,1,2,male,1,0,2,37.0042\\r\\n829,1,3,male,,0,0,7.75\\r\\n830,1,1,female,62,0,0,80\\r\\n831,1,3,female,15,1,0,14.4542\\r\\n832,1,2,male,0.83,1,1,18.75\\r\\n833,0,3,male,,0,0,7.2292\\r\\n834,0,3,male,23,0,0,7.8542\\r\\n835,0,3,male,18,0,0,8.3\\r\\n836,1,1,female,39,1,1,83.1583\\r\\n837,0,3,male,21,0,0,8.6625\\r\\n838,0,3,male,,0,0,8.05\\r\\n839,1,3,male,32,0,0,56.4958\\r\\n840,1,1,male,,0,0,29.7\\r\\n841,0,3,male,20,0,0,7.925\\r\\n842,0,2,male,16,0,0,10.5\\r\\n843,1,1,female,30,0,0,31\\r\\n844,0,3,male,34.5,0,0,6.4375\\r\\n845,0,3,male,17,0,0,8.6625\\r\\n846,0,3,male,42,0,0,7.55\\r\\n847,0,3,male,,8,2,69.55\\r\\n848,0,3,male,35,0,0,7.8958\\r\\n849,0,2,male,28,0,1,33\\r\\n850,1,1,female,,1,0,89.1042\\r\\n851,0,3,male,4,4,2,31.275\\r\\n852,0,3,male,74,0,0,7.775\\r\\n853,0,3,female,9,1,1,15.2458\\r\\n854,1,1,female,16,0,1,39.4\\r\\n855,0,2,female,44,1,0,26\\r\\n856,1,3,female,18,0,1,9.35\\r\\n857,1,1,female,45,1,1,164.8667\\r\\n858,1,1,male,51,0,0,26.55\\r\\n859,1,3,female,24,0,3,19.2583\\r\\n860,0,3,male,,0,0,7.2292\\r\\n861,0,3,male,41,2,0,14.1083\\r\\n862,0,2,male,21,1,0,11.5\\r\\n863,1,1,female,48,0,0,25.9292\\r\\n864,0,3,female,,8,2,69.55\\r\\n865,0,2,male,24,0,0,13\\r\\n866,1,2,female,42,0,0,13\\r\\n867,1,2,female,27,1,0,13.8583\\r\\n868,0,1,male,31,0,0,50.4958\\r\\n869,0,3,male,,0,0,9.5\\r\\n870,1,3,male,4,1,1,11.1333\\r\\n871,0,3,male,26,0,0,7.8958\\r\\n872,1,1,female,47,1,1,52.5542\\r\\n873,0,1,male,33,0,0,5\\r\\n874,0,3,male,47,0,0,9\\r\\n875,1,2,female,28,1,0,24\\r\\n876,1,3,female,15,0,0,7.225\\r\\n877,0,3,male,20,0,0,9.8458\\r\\n878,0,3,male,19,0,0,7.8958\\r\\n879,0,3,male,,0,0,7.8958\\r\\n880,1,1,female,56,0,1,83.1583\\r\\n881,1,2,female,25,0,1,26\\r\\n882,0,3,male,33,0,0,7.8958\\r\\n883,0,3,female,22,0,0,10.5167\\r\\n884,0,2,male,28,0,0,10.5\\r\\n885,0,3,male,25,0,0,7.05\\r\\n886,0,3,female,39,0,5,29.125\\r\\n887,0,2,male,27,0,0,13\\r\\n888,1,1,female,19,0,0,30\\r\\n889,0,3,female,,1,2,23.45\\r\\n890,1,1,male,26,0,0,30\\r\\n891,0,3,male,32,0,0,7.75\\r\\n'}"
            ]
          },
          "metadata": {
            "tags": []
          },
          "execution_count": 25
        }
      ]
    },
    {
      "cell_type": "code",
      "metadata": {
        "colab": {
          "base_uri": "https://localhost:8080/"
        },
        "id": "P2f6hpEDbQ7B",
        "outputId": "4550d783-0c85-4f56-92ad-4a31b1239289"
      },
      "source": [
        "# Converting the file of test set into the dataframe named as df2\n",
        "col_names = ['PassengerId', 'Survived', 'Pclass', 'Sex', ' Age', ' SibSp', 'Parch', 'Fare']\n",
        "df2 = pd.read_csv('/content/test.csv')\n",
        "df2.columns = col_names\n",
        "print(df2.head())"
      ],
      "execution_count": null,
      "outputs": [
        {
          "output_type": "stream",
          "text": [
            "   PassengerId  Survived  Pclass   Sex   Age   SibSp  Parch     Fare\n",
            "0          621         0       3  male  27.0       1      0  14.4542\n",
            "1          622         1       1  male  42.0       1      0  52.5542\n",
            "2          623         1       3  male  20.0       1      1  15.7417\n",
            "3          624         0       3  male  21.0       0      0   7.8542\n",
            "4          625         0       3  male  21.0       0      0  16.1000\n"
          ],
          "name": "stdout"
        }
      ]
    },
    {
      "cell_type": "code",
      "metadata": {
        "colab": {
          "base_uri": "https://localhost:8080/",
          "height": 419
        },
        "id": "6_6qGbv6bVhT",
        "outputId": "e0c3fa2d-eb51-445b-c35c-767b4d9beb15"
      },
      "source": [
        "df2"
      ],
      "execution_count": null,
      "outputs": [
        {
          "output_type": "execute_result",
          "data": {
            "text/html": [
              "<div>\n",
              "<style scoped>\n",
              "    .dataframe tbody tr th:only-of-type {\n",
              "        vertical-align: middle;\n",
              "    }\n",
              "\n",
              "    .dataframe tbody tr th {\n",
              "        vertical-align: top;\n",
              "    }\n",
              "\n",
              "    .dataframe thead th {\n",
              "        text-align: right;\n",
              "    }\n",
              "</style>\n",
              "<table border=\"1\" class=\"dataframe\">\n",
              "  <thead>\n",
              "    <tr style=\"text-align: right;\">\n",
              "      <th></th>\n",
              "      <th>PassengerId</th>\n",
              "      <th>Survived</th>\n",
              "      <th>Pclass</th>\n",
              "      <th>Sex</th>\n",
              "      <th>Age</th>\n",
              "      <th>SibSp</th>\n",
              "      <th>Parch</th>\n",
              "      <th>Fare</th>\n",
              "    </tr>\n",
              "  </thead>\n",
              "  <tbody>\n",
              "    <tr>\n",
              "      <th>0</th>\n",
              "      <td>621</td>\n",
              "      <td>0</td>\n",
              "      <td>3</td>\n",
              "      <td>male</td>\n",
              "      <td>27.0</td>\n",
              "      <td>1</td>\n",
              "      <td>0</td>\n",
              "      <td>14.4542</td>\n",
              "    </tr>\n",
              "    <tr>\n",
              "      <th>1</th>\n",
              "      <td>622</td>\n",
              "      <td>1</td>\n",
              "      <td>1</td>\n",
              "      <td>male</td>\n",
              "      <td>42.0</td>\n",
              "      <td>1</td>\n",
              "      <td>0</td>\n",
              "      <td>52.5542</td>\n",
              "    </tr>\n",
              "    <tr>\n",
              "      <th>2</th>\n",
              "      <td>623</td>\n",
              "      <td>1</td>\n",
              "      <td>3</td>\n",
              "      <td>male</td>\n",
              "      <td>20.0</td>\n",
              "      <td>1</td>\n",
              "      <td>1</td>\n",
              "      <td>15.7417</td>\n",
              "    </tr>\n",
              "    <tr>\n",
              "      <th>3</th>\n",
              "      <td>624</td>\n",
              "      <td>0</td>\n",
              "      <td>3</td>\n",
              "      <td>male</td>\n",
              "      <td>21.0</td>\n",
              "      <td>0</td>\n",
              "      <td>0</td>\n",
              "      <td>7.8542</td>\n",
              "    </tr>\n",
              "    <tr>\n",
              "      <th>4</th>\n",
              "      <td>625</td>\n",
              "      <td>0</td>\n",
              "      <td>3</td>\n",
              "      <td>male</td>\n",
              "      <td>21.0</td>\n",
              "      <td>0</td>\n",
              "      <td>0</td>\n",
              "      <td>16.1000</td>\n",
              "    </tr>\n",
              "    <tr>\n",
              "      <th>...</th>\n",
              "      <td>...</td>\n",
              "      <td>...</td>\n",
              "      <td>...</td>\n",
              "      <td>...</td>\n",
              "      <td>...</td>\n",
              "      <td>...</td>\n",
              "      <td>...</td>\n",
              "      <td>...</td>\n",
              "    </tr>\n",
              "    <tr>\n",
              "      <th>266</th>\n",
              "      <td>887</td>\n",
              "      <td>0</td>\n",
              "      <td>2</td>\n",
              "      <td>male</td>\n",
              "      <td>27.0</td>\n",
              "      <td>0</td>\n",
              "      <td>0</td>\n",
              "      <td>13.0000</td>\n",
              "    </tr>\n",
              "    <tr>\n",
              "      <th>267</th>\n",
              "      <td>888</td>\n",
              "      <td>1</td>\n",
              "      <td>1</td>\n",
              "      <td>female</td>\n",
              "      <td>19.0</td>\n",
              "      <td>0</td>\n",
              "      <td>0</td>\n",
              "      <td>30.0000</td>\n",
              "    </tr>\n",
              "    <tr>\n",
              "      <th>268</th>\n",
              "      <td>889</td>\n",
              "      <td>0</td>\n",
              "      <td>3</td>\n",
              "      <td>female</td>\n",
              "      <td>NaN</td>\n",
              "      <td>1</td>\n",
              "      <td>2</td>\n",
              "      <td>23.4500</td>\n",
              "    </tr>\n",
              "    <tr>\n",
              "      <th>269</th>\n",
              "      <td>890</td>\n",
              "      <td>1</td>\n",
              "      <td>1</td>\n",
              "      <td>male</td>\n",
              "      <td>26.0</td>\n",
              "      <td>0</td>\n",
              "      <td>0</td>\n",
              "      <td>30.0000</td>\n",
              "    </tr>\n",
              "    <tr>\n",
              "      <th>270</th>\n",
              "      <td>891</td>\n",
              "      <td>0</td>\n",
              "      <td>3</td>\n",
              "      <td>male</td>\n",
              "      <td>32.0</td>\n",
              "      <td>0</td>\n",
              "      <td>0</td>\n",
              "      <td>7.7500</td>\n",
              "    </tr>\n",
              "  </tbody>\n",
              "</table>\n",
              "<p>271 rows × 8 columns</p>\n",
              "</div>"
            ],
            "text/plain": [
              "     PassengerId  Survived  Pclass     Sex   Age   SibSp  Parch     Fare\n",
              "0            621         0       3    male  27.0       1      0  14.4542\n",
              "1            622         1       1    male  42.0       1      0  52.5542\n",
              "2            623         1       3    male  20.0       1      1  15.7417\n",
              "3            624         0       3    male  21.0       0      0   7.8542\n",
              "4            625         0       3    male  21.0       0      0  16.1000\n",
              "..           ...       ...     ...     ...   ...     ...    ...      ...\n",
              "266          887         0       2    male  27.0       0      0  13.0000\n",
              "267          888         1       1  female  19.0       0      0  30.0000\n",
              "268          889         0       3  female   NaN       1      2  23.4500\n",
              "269          890         1       1    male  26.0       0      0  30.0000\n",
              "270          891         0       3    male  32.0       0      0   7.7500\n",
              "\n",
              "[271 rows x 8 columns]"
            ]
          },
          "metadata": {
            "tags": []
          },
          "execution_count": 34
        }
      ]
    },
    {
      "cell_type": "code",
      "metadata": {
        "colab": {
          "base_uri": "https://localhost:8080/"
        },
        "id": "ZqVAckwobZYX",
        "outputId": "4721e719-f246-48dc-aabb-5f42d255af2b"
      },
      "source": [
        "# Removing the column of PassengerId for the same reasons as in the training set\n",
        "df2.pop(\"PassengerId\")"
      ],
      "execution_count": null,
      "outputs": [
        {
          "output_type": "execute_result",
          "data": {
            "text/plain": [
              "0      621\n",
              "1      622\n",
              "2      623\n",
              "3      624\n",
              "4      625\n",
              "      ... \n",
              "266    887\n",
              "267    888\n",
              "268    889\n",
              "269    890\n",
              "270    891\n",
              "Name: PassengerId, Length: 271, dtype: int64"
            ]
          },
          "metadata": {
            "tags": []
          },
          "execution_count": 35
        }
      ]
    },
    {
      "cell_type": "code",
      "metadata": {
        "colab": {
          "base_uri": "https://localhost:8080/",
          "height": 419
        },
        "id": "P1CnDgzrbxLr",
        "outputId": "100c0dd6-76a4-443d-85ca-c8d51698835d"
      },
      "source": [
        "# Converting the categorical value of Sex value into the numerical ones.\n",
        "pd.get_dummies(df2['Sex'])"
      ],
      "execution_count": null,
      "outputs": [
        {
          "output_type": "execute_result",
          "data": {
            "text/html": [
              "<div>\n",
              "<style scoped>\n",
              "    .dataframe tbody tr th:only-of-type {\n",
              "        vertical-align: middle;\n",
              "    }\n",
              "\n",
              "    .dataframe tbody tr th {\n",
              "        vertical-align: top;\n",
              "    }\n",
              "\n",
              "    .dataframe thead th {\n",
              "        text-align: right;\n",
              "    }\n",
              "</style>\n",
              "<table border=\"1\" class=\"dataframe\">\n",
              "  <thead>\n",
              "    <tr style=\"text-align: right;\">\n",
              "      <th></th>\n",
              "      <th>female</th>\n",
              "      <th>male</th>\n",
              "    </tr>\n",
              "  </thead>\n",
              "  <tbody>\n",
              "    <tr>\n",
              "      <th>0</th>\n",
              "      <td>0</td>\n",
              "      <td>1</td>\n",
              "    </tr>\n",
              "    <tr>\n",
              "      <th>1</th>\n",
              "      <td>0</td>\n",
              "      <td>1</td>\n",
              "    </tr>\n",
              "    <tr>\n",
              "      <th>2</th>\n",
              "      <td>0</td>\n",
              "      <td>1</td>\n",
              "    </tr>\n",
              "    <tr>\n",
              "      <th>3</th>\n",
              "      <td>0</td>\n",
              "      <td>1</td>\n",
              "    </tr>\n",
              "    <tr>\n",
              "      <th>4</th>\n",
              "      <td>0</td>\n",
              "      <td>1</td>\n",
              "    </tr>\n",
              "    <tr>\n",
              "      <th>...</th>\n",
              "      <td>...</td>\n",
              "      <td>...</td>\n",
              "    </tr>\n",
              "    <tr>\n",
              "      <th>266</th>\n",
              "      <td>0</td>\n",
              "      <td>1</td>\n",
              "    </tr>\n",
              "    <tr>\n",
              "      <th>267</th>\n",
              "      <td>1</td>\n",
              "      <td>0</td>\n",
              "    </tr>\n",
              "    <tr>\n",
              "      <th>268</th>\n",
              "      <td>1</td>\n",
              "      <td>0</td>\n",
              "    </tr>\n",
              "    <tr>\n",
              "      <th>269</th>\n",
              "      <td>0</td>\n",
              "      <td>1</td>\n",
              "    </tr>\n",
              "    <tr>\n",
              "      <th>270</th>\n",
              "      <td>0</td>\n",
              "      <td>1</td>\n",
              "    </tr>\n",
              "  </tbody>\n",
              "</table>\n",
              "<p>271 rows × 2 columns</p>\n",
              "</div>"
            ],
            "text/plain": [
              "     female  male\n",
              "0         0     1\n",
              "1         0     1\n",
              "2         0     1\n",
              "3         0     1\n",
              "4         0     1\n",
              "..      ...   ...\n",
              "266       0     1\n",
              "267       1     0\n",
              "268       1     0\n",
              "269       0     1\n",
              "270       0     1\n",
              "\n",
              "[271 rows x 2 columns]"
            ]
          },
          "metadata": {
            "tags": []
          },
          "execution_count": 36
        }
      ]
    },
    {
      "cell_type": "code",
      "metadata": {
        "colab": {
          "base_uri": "https://localhost:8080/"
        },
        "id": "2oV_gSt2b09q",
        "outputId": "21034d25-1352-464b-d297-3a4c1a092671"
      },
      "source": [
        "df2.columns"
      ],
      "execution_count": null,
      "outputs": [
        {
          "output_type": "execute_result",
          "data": {
            "text/plain": [
              "Index(['Survived', 'Pclass', 'Sex', ' Age', ' SibSp', 'Parch', 'Fare'], dtype='object')"
            ]
          },
          "metadata": {
            "tags": []
          },
          "execution_count": 37
        }
      ]
    },
    {
      "cell_type": "code",
      "metadata": {
        "id": "XD_KodTWb4jC"
      },
      "source": [
        "df2 = df2.rename(columns={' Age': 'Age'})\n",
        "df2 = df2.rename(columns={' SibSp': 'SibSp'})"
      ],
      "execution_count": null,
      "outputs": []
    },
    {
      "cell_type": "code",
      "metadata": {
        "colab": {
          "base_uri": "https://localhost:8080/",
          "height": 419
        },
        "id": "hBUxrP1zcE-3",
        "outputId": "3702cd8b-2ff7-44e8-c554-7edcd3df0753"
      },
      "source": [
        "df2"
      ],
      "execution_count": null,
      "outputs": [
        {
          "output_type": "execute_result",
          "data": {
            "text/html": [
              "<div>\n",
              "<style scoped>\n",
              "    .dataframe tbody tr th:only-of-type {\n",
              "        vertical-align: middle;\n",
              "    }\n",
              "\n",
              "    .dataframe tbody tr th {\n",
              "        vertical-align: top;\n",
              "    }\n",
              "\n",
              "    .dataframe thead th {\n",
              "        text-align: right;\n",
              "    }\n",
              "</style>\n",
              "<table border=\"1\" class=\"dataframe\">\n",
              "  <thead>\n",
              "    <tr style=\"text-align: right;\">\n",
              "      <th></th>\n",
              "      <th>Survived</th>\n",
              "      <th>Pclass</th>\n",
              "      <th>Sex</th>\n",
              "      <th>Age</th>\n",
              "      <th>SibSp</th>\n",
              "      <th>Parch</th>\n",
              "      <th>Fare</th>\n",
              "    </tr>\n",
              "  </thead>\n",
              "  <tbody>\n",
              "    <tr>\n",
              "      <th>0</th>\n",
              "      <td>0</td>\n",
              "      <td>3</td>\n",
              "      <td>male</td>\n",
              "      <td>27.0</td>\n",
              "      <td>1</td>\n",
              "      <td>0</td>\n",
              "      <td>14.4542</td>\n",
              "    </tr>\n",
              "    <tr>\n",
              "      <th>1</th>\n",
              "      <td>1</td>\n",
              "      <td>1</td>\n",
              "      <td>male</td>\n",
              "      <td>42.0</td>\n",
              "      <td>1</td>\n",
              "      <td>0</td>\n",
              "      <td>52.5542</td>\n",
              "    </tr>\n",
              "    <tr>\n",
              "      <th>2</th>\n",
              "      <td>1</td>\n",
              "      <td>3</td>\n",
              "      <td>male</td>\n",
              "      <td>20.0</td>\n",
              "      <td>1</td>\n",
              "      <td>1</td>\n",
              "      <td>15.7417</td>\n",
              "    </tr>\n",
              "    <tr>\n",
              "      <th>3</th>\n",
              "      <td>0</td>\n",
              "      <td>3</td>\n",
              "      <td>male</td>\n",
              "      <td>21.0</td>\n",
              "      <td>0</td>\n",
              "      <td>0</td>\n",
              "      <td>7.8542</td>\n",
              "    </tr>\n",
              "    <tr>\n",
              "      <th>4</th>\n",
              "      <td>0</td>\n",
              "      <td>3</td>\n",
              "      <td>male</td>\n",
              "      <td>21.0</td>\n",
              "      <td>0</td>\n",
              "      <td>0</td>\n",
              "      <td>16.1000</td>\n",
              "    </tr>\n",
              "    <tr>\n",
              "      <th>...</th>\n",
              "      <td>...</td>\n",
              "      <td>...</td>\n",
              "      <td>...</td>\n",
              "      <td>...</td>\n",
              "      <td>...</td>\n",
              "      <td>...</td>\n",
              "      <td>...</td>\n",
              "    </tr>\n",
              "    <tr>\n",
              "      <th>266</th>\n",
              "      <td>0</td>\n",
              "      <td>2</td>\n",
              "      <td>male</td>\n",
              "      <td>27.0</td>\n",
              "      <td>0</td>\n",
              "      <td>0</td>\n",
              "      <td>13.0000</td>\n",
              "    </tr>\n",
              "    <tr>\n",
              "      <th>267</th>\n",
              "      <td>1</td>\n",
              "      <td>1</td>\n",
              "      <td>female</td>\n",
              "      <td>19.0</td>\n",
              "      <td>0</td>\n",
              "      <td>0</td>\n",
              "      <td>30.0000</td>\n",
              "    </tr>\n",
              "    <tr>\n",
              "      <th>268</th>\n",
              "      <td>0</td>\n",
              "      <td>3</td>\n",
              "      <td>female</td>\n",
              "      <td>NaN</td>\n",
              "      <td>1</td>\n",
              "      <td>2</td>\n",
              "      <td>23.4500</td>\n",
              "    </tr>\n",
              "    <tr>\n",
              "      <th>269</th>\n",
              "      <td>1</td>\n",
              "      <td>1</td>\n",
              "      <td>male</td>\n",
              "      <td>26.0</td>\n",
              "      <td>0</td>\n",
              "      <td>0</td>\n",
              "      <td>30.0000</td>\n",
              "    </tr>\n",
              "    <tr>\n",
              "      <th>270</th>\n",
              "      <td>0</td>\n",
              "      <td>3</td>\n",
              "      <td>male</td>\n",
              "      <td>32.0</td>\n",
              "      <td>0</td>\n",
              "      <td>0</td>\n",
              "      <td>7.7500</td>\n",
              "    </tr>\n",
              "  </tbody>\n",
              "</table>\n",
              "<p>271 rows × 7 columns</p>\n",
              "</div>"
            ],
            "text/plain": [
              "     Survived  Pclass     Sex   Age  SibSp  Parch     Fare\n",
              "0           0       3    male  27.0      1      0  14.4542\n",
              "1           1       1    male  42.0      1      0  52.5542\n",
              "2           1       3    male  20.0      1      1  15.7417\n",
              "3           0       3    male  21.0      0      0   7.8542\n",
              "4           0       3    male  21.0      0      0  16.1000\n",
              "..        ...     ...     ...   ...    ...    ...      ...\n",
              "266         0       2    male  27.0      0      0  13.0000\n",
              "267         1       1  female  19.0      0      0  30.0000\n",
              "268         0       3  female   NaN      1      2  23.4500\n",
              "269         1       1    male  26.0      0      0  30.0000\n",
              "270         0       3    male  32.0      0      0   7.7500\n",
              "\n",
              "[271 rows x 7 columns]"
            ]
          },
          "metadata": {
            "tags": []
          },
          "execution_count": 39
        }
      ]
    },
    {
      "cell_type": "code",
      "metadata": {
        "id": "pYz3sUebcI5i"
      },
      "source": [
        "# Including only the value of Male column same as done in the training set.\n",
        "sex_test = pd.get_dummies(df2['Sex'], drop_first = True)"
      ],
      "execution_count": null,
      "outputs": []
    },
    {
      "cell_type": "code",
      "metadata": {
        "id": "Upt28rf2cMvS"
      },
      "source": [
        "df2 = pd.concat([df2, sex_test], axis = 1)"
      ],
      "execution_count": null,
      "outputs": []
    },
    {
      "cell_type": "code",
      "metadata": {
        "colab": {
          "base_uri": "https://localhost:8080/"
        },
        "id": "QS9ylSOdcQgO",
        "outputId": "862bcca9-86ba-4ffe-dc0d-564ba39b31cb"
      },
      "source": [
        "df2.columns"
      ],
      "execution_count": null,
      "outputs": [
        {
          "output_type": "execute_result",
          "data": {
            "text/plain": [
              "Index(['Survived', 'Pclass', 'Sex', 'Age', 'SibSp', 'Parch', 'Fare', 'male'], dtype='object')"
            ]
          },
          "metadata": {
            "tags": []
          },
          "execution_count": 42
        }
      ]
    },
    {
      "cell_type": "code",
      "metadata": {
        "colab": {
          "base_uri": "https://localhost:8080/",
          "height": 419
        },
        "id": "AYpsCSzLcUCt",
        "outputId": "b5b1cf99-3c9b-4fab-c97b-867e439de005"
      },
      "source": [
        "df2"
      ],
      "execution_count": null,
      "outputs": [
        {
          "output_type": "execute_result",
          "data": {
            "text/html": [
              "<div>\n",
              "<style scoped>\n",
              "    .dataframe tbody tr th:only-of-type {\n",
              "        vertical-align: middle;\n",
              "    }\n",
              "\n",
              "    .dataframe tbody tr th {\n",
              "        vertical-align: top;\n",
              "    }\n",
              "\n",
              "    .dataframe thead th {\n",
              "        text-align: right;\n",
              "    }\n",
              "</style>\n",
              "<table border=\"1\" class=\"dataframe\">\n",
              "  <thead>\n",
              "    <tr style=\"text-align: right;\">\n",
              "      <th></th>\n",
              "      <th>Survived</th>\n",
              "      <th>Pclass</th>\n",
              "      <th>Sex</th>\n",
              "      <th>Age</th>\n",
              "      <th>SibSp</th>\n",
              "      <th>Parch</th>\n",
              "      <th>Fare</th>\n",
              "      <th>male</th>\n",
              "    </tr>\n",
              "  </thead>\n",
              "  <tbody>\n",
              "    <tr>\n",
              "      <th>0</th>\n",
              "      <td>0</td>\n",
              "      <td>3</td>\n",
              "      <td>male</td>\n",
              "      <td>27.0</td>\n",
              "      <td>1</td>\n",
              "      <td>0</td>\n",
              "      <td>14.4542</td>\n",
              "      <td>1</td>\n",
              "    </tr>\n",
              "    <tr>\n",
              "      <th>1</th>\n",
              "      <td>1</td>\n",
              "      <td>1</td>\n",
              "      <td>male</td>\n",
              "      <td>42.0</td>\n",
              "      <td>1</td>\n",
              "      <td>0</td>\n",
              "      <td>52.5542</td>\n",
              "      <td>1</td>\n",
              "    </tr>\n",
              "    <tr>\n",
              "      <th>2</th>\n",
              "      <td>1</td>\n",
              "      <td>3</td>\n",
              "      <td>male</td>\n",
              "      <td>20.0</td>\n",
              "      <td>1</td>\n",
              "      <td>1</td>\n",
              "      <td>15.7417</td>\n",
              "      <td>1</td>\n",
              "    </tr>\n",
              "    <tr>\n",
              "      <th>3</th>\n",
              "      <td>0</td>\n",
              "      <td>3</td>\n",
              "      <td>male</td>\n",
              "      <td>21.0</td>\n",
              "      <td>0</td>\n",
              "      <td>0</td>\n",
              "      <td>7.8542</td>\n",
              "      <td>1</td>\n",
              "    </tr>\n",
              "    <tr>\n",
              "      <th>4</th>\n",
              "      <td>0</td>\n",
              "      <td>3</td>\n",
              "      <td>male</td>\n",
              "      <td>21.0</td>\n",
              "      <td>0</td>\n",
              "      <td>0</td>\n",
              "      <td>16.1000</td>\n",
              "      <td>1</td>\n",
              "    </tr>\n",
              "    <tr>\n",
              "      <th>...</th>\n",
              "      <td>...</td>\n",
              "      <td>...</td>\n",
              "      <td>...</td>\n",
              "      <td>...</td>\n",
              "      <td>...</td>\n",
              "      <td>...</td>\n",
              "      <td>...</td>\n",
              "      <td>...</td>\n",
              "    </tr>\n",
              "    <tr>\n",
              "      <th>266</th>\n",
              "      <td>0</td>\n",
              "      <td>2</td>\n",
              "      <td>male</td>\n",
              "      <td>27.0</td>\n",
              "      <td>0</td>\n",
              "      <td>0</td>\n",
              "      <td>13.0000</td>\n",
              "      <td>1</td>\n",
              "    </tr>\n",
              "    <tr>\n",
              "      <th>267</th>\n",
              "      <td>1</td>\n",
              "      <td>1</td>\n",
              "      <td>female</td>\n",
              "      <td>19.0</td>\n",
              "      <td>0</td>\n",
              "      <td>0</td>\n",
              "      <td>30.0000</td>\n",
              "      <td>0</td>\n",
              "    </tr>\n",
              "    <tr>\n",
              "      <th>268</th>\n",
              "      <td>0</td>\n",
              "      <td>3</td>\n",
              "      <td>female</td>\n",
              "      <td>NaN</td>\n",
              "      <td>1</td>\n",
              "      <td>2</td>\n",
              "      <td>23.4500</td>\n",
              "      <td>0</td>\n",
              "    </tr>\n",
              "    <tr>\n",
              "      <th>269</th>\n",
              "      <td>1</td>\n",
              "      <td>1</td>\n",
              "      <td>male</td>\n",
              "      <td>26.0</td>\n",
              "      <td>0</td>\n",
              "      <td>0</td>\n",
              "      <td>30.0000</td>\n",
              "      <td>1</td>\n",
              "    </tr>\n",
              "    <tr>\n",
              "      <th>270</th>\n",
              "      <td>0</td>\n",
              "      <td>3</td>\n",
              "      <td>male</td>\n",
              "      <td>32.0</td>\n",
              "      <td>0</td>\n",
              "      <td>0</td>\n",
              "      <td>7.7500</td>\n",
              "      <td>1</td>\n",
              "    </tr>\n",
              "  </tbody>\n",
              "</table>\n",
              "<p>271 rows × 8 columns</p>\n",
              "</div>"
            ],
            "text/plain": [
              "     Survived  Pclass     Sex   Age  SibSp  Parch     Fare  male\n",
              "0           0       3    male  27.0      1      0  14.4542     1\n",
              "1           1       1    male  42.0      1      0  52.5542     1\n",
              "2           1       3    male  20.0      1      1  15.7417     1\n",
              "3           0       3    male  21.0      0      0   7.8542     1\n",
              "4           0       3    male  21.0      0      0  16.1000     1\n",
              "..        ...     ...     ...   ...    ...    ...      ...   ...\n",
              "266         0       2    male  27.0      0      0  13.0000     1\n",
              "267         1       1  female  19.0      0      0  30.0000     0\n",
              "268         0       3  female   NaN      1      2  23.4500     0\n",
              "269         1       1    male  26.0      0      0  30.0000     1\n",
              "270         0       3    male  32.0      0      0   7.7500     1\n",
              "\n",
              "[271 rows x 8 columns]"
            ]
          },
          "metadata": {
            "tags": []
          },
          "execution_count": 43
        }
      ]
    },
    {
      "cell_type": "code",
      "metadata": {
        "colab": {
          "base_uri": "https://localhost:8080/"
        },
        "id": "-UW25q7xcYdm",
        "outputId": "9a1eab66-12be-4b73-8401-6694c344f6d1"
      },
      "source": [
        "# Removing the column of Sex\n",
        "df2.pop('Sex')"
      ],
      "execution_count": null,
      "outputs": [
        {
          "output_type": "execute_result",
          "data": {
            "text/plain": [
              "0        male\n",
              "1        male\n",
              "2        male\n",
              "3        male\n",
              "4        male\n",
              "        ...  \n",
              "266      male\n",
              "267    female\n",
              "268    female\n",
              "269      male\n",
              "270      male\n",
              "Name: Sex, Length: 271, dtype: object"
            ]
          },
          "metadata": {
            "tags": []
          },
          "execution_count": 44
        }
      ]
    },
    {
      "cell_type": "code",
      "metadata": {
        "colab": {
          "base_uri": "https://localhost:8080/"
        },
        "id": "RZp75phrUAC9",
        "outputId": "d3917cc5-d1c2-4f07-9a66-dc3cb3a17faf"
      },
      "source": [
        "df2.isnull().sum()"
      ],
      "execution_count": null,
      "outputs": [
        {
          "output_type": "execute_result",
          "data": {
            "text/plain": [
              "Survived     0\n",
              "Pclass       0\n",
              "Age         46\n",
              "SibSp        0\n",
              "Parch        0\n",
              "Fare         0\n",
              "male         0\n",
              "dtype: int64"
            ]
          },
          "metadata": {
            "tags": []
          },
          "execution_count": 45
        }
      ]
    },
    {
      "cell_type": "code",
      "metadata": {
        "colab": {
          "base_uri": "https://localhost:8080/"
        },
        "id": "BpRu4_O6imtg",
        "outputId": "0f4c4e0e-7bcb-4317-ece6-dc803932dd83"
      },
      "source": [
        "df2.columns"
      ],
      "execution_count": null,
      "outputs": [
        {
          "output_type": "execute_result",
          "data": {
            "text/plain": [
              "Index(['Survived', 'Pclass', 'Age', 'SibSp', 'Parch', 'Fare', 'male'], dtype='object')"
            ]
          },
          "metadata": {
            "tags": []
          },
          "execution_count": 46
        }
      ]
    },
    {
      "cell_type": "code",
      "metadata": {
        "id": "_OzcL8iVipfX"
      },
      "source": [
        "df2 = df2.rename(columns={' Age': 'Age'})"
      ],
      "execution_count": null,
      "outputs": []
    },
    {
      "cell_type": "code",
      "metadata": {
        "id": "nU7urc8uiYkZ"
      },
      "source": [
        "df2['Age'] = df2['Age'].fillna(df2['Age'].median())"
      ],
      "execution_count": null,
      "outputs": []
    },
    {
      "cell_type": "code",
      "metadata": {
        "colab": {
          "base_uri": "https://localhost:8080/",
          "height": 419
        },
        "id": "ivgoveJ0cccd",
        "outputId": "e5481fe0-6da0-4e31-ef32-940611ae670f"
      },
      "source": [
        "# Final dataframe of the testing set\n",
        "df2"
      ],
      "execution_count": null,
      "outputs": [
        {
          "output_type": "execute_result",
          "data": {
            "text/html": [
              "<div>\n",
              "<style scoped>\n",
              "    .dataframe tbody tr th:only-of-type {\n",
              "        vertical-align: middle;\n",
              "    }\n",
              "\n",
              "    .dataframe tbody tr th {\n",
              "        vertical-align: top;\n",
              "    }\n",
              "\n",
              "    .dataframe thead th {\n",
              "        text-align: right;\n",
              "    }\n",
              "</style>\n",
              "<table border=\"1\" class=\"dataframe\">\n",
              "  <thead>\n",
              "    <tr style=\"text-align: right;\">\n",
              "      <th></th>\n",
              "      <th>Survived</th>\n",
              "      <th>Pclass</th>\n",
              "      <th>Age</th>\n",
              "      <th>SibSp</th>\n",
              "      <th>Parch</th>\n",
              "      <th>Fare</th>\n",
              "      <th>male</th>\n",
              "    </tr>\n",
              "  </thead>\n",
              "  <tbody>\n",
              "    <tr>\n",
              "      <th>0</th>\n",
              "      <td>0</td>\n",
              "      <td>3</td>\n",
              "      <td>27.0</td>\n",
              "      <td>1</td>\n",
              "      <td>0</td>\n",
              "      <td>14.4542</td>\n",
              "      <td>1</td>\n",
              "    </tr>\n",
              "    <tr>\n",
              "      <th>1</th>\n",
              "      <td>1</td>\n",
              "      <td>1</td>\n",
              "      <td>42.0</td>\n",
              "      <td>1</td>\n",
              "      <td>0</td>\n",
              "      <td>52.5542</td>\n",
              "      <td>1</td>\n",
              "    </tr>\n",
              "    <tr>\n",
              "      <th>2</th>\n",
              "      <td>1</td>\n",
              "      <td>3</td>\n",
              "      <td>20.0</td>\n",
              "      <td>1</td>\n",
              "      <td>1</td>\n",
              "      <td>15.7417</td>\n",
              "      <td>1</td>\n",
              "    </tr>\n",
              "    <tr>\n",
              "      <th>3</th>\n",
              "      <td>0</td>\n",
              "      <td>3</td>\n",
              "      <td>21.0</td>\n",
              "      <td>0</td>\n",
              "      <td>0</td>\n",
              "      <td>7.8542</td>\n",
              "      <td>1</td>\n",
              "    </tr>\n",
              "    <tr>\n",
              "      <th>4</th>\n",
              "      <td>0</td>\n",
              "      <td>3</td>\n",
              "      <td>21.0</td>\n",
              "      <td>0</td>\n",
              "      <td>0</td>\n",
              "      <td>16.1000</td>\n",
              "      <td>1</td>\n",
              "    </tr>\n",
              "    <tr>\n",
              "      <th>...</th>\n",
              "      <td>...</td>\n",
              "      <td>...</td>\n",
              "      <td>...</td>\n",
              "      <td>...</td>\n",
              "      <td>...</td>\n",
              "      <td>...</td>\n",
              "      <td>...</td>\n",
              "    </tr>\n",
              "    <tr>\n",
              "      <th>266</th>\n",
              "      <td>0</td>\n",
              "      <td>2</td>\n",
              "      <td>27.0</td>\n",
              "      <td>0</td>\n",
              "      <td>0</td>\n",
              "      <td>13.0000</td>\n",
              "      <td>1</td>\n",
              "    </tr>\n",
              "    <tr>\n",
              "      <th>267</th>\n",
              "      <td>1</td>\n",
              "      <td>1</td>\n",
              "      <td>19.0</td>\n",
              "      <td>0</td>\n",
              "      <td>0</td>\n",
              "      <td>30.0000</td>\n",
              "      <td>0</td>\n",
              "    </tr>\n",
              "    <tr>\n",
              "      <th>268</th>\n",
              "      <td>0</td>\n",
              "      <td>3</td>\n",
              "      <td>28.0</td>\n",
              "      <td>1</td>\n",
              "      <td>2</td>\n",
              "      <td>23.4500</td>\n",
              "      <td>0</td>\n",
              "    </tr>\n",
              "    <tr>\n",
              "      <th>269</th>\n",
              "      <td>1</td>\n",
              "      <td>1</td>\n",
              "      <td>26.0</td>\n",
              "      <td>0</td>\n",
              "      <td>0</td>\n",
              "      <td>30.0000</td>\n",
              "      <td>1</td>\n",
              "    </tr>\n",
              "    <tr>\n",
              "      <th>270</th>\n",
              "      <td>0</td>\n",
              "      <td>3</td>\n",
              "      <td>32.0</td>\n",
              "      <td>0</td>\n",
              "      <td>0</td>\n",
              "      <td>7.7500</td>\n",
              "      <td>1</td>\n",
              "    </tr>\n",
              "  </tbody>\n",
              "</table>\n",
              "<p>271 rows × 7 columns</p>\n",
              "</div>"
            ],
            "text/plain": [
              "     Survived  Pclass   Age  SibSp  Parch     Fare  male\n",
              "0           0       3  27.0      1      0  14.4542     1\n",
              "1           1       1  42.0      1      0  52.5542     1\n",
              "2           1       3  20.0      1      1  15.7417     1\n",
              "3           0       3  21.0      0      0   7.8542     1\n",
              "4           0       3  21.0      0      0  16.1000     1\n",
              "..        ...     ...   ...    ...    ...      ...   ...\n",
              "266         0       2  27.0      0      0  13.0000     1\n",
              "267         1       1  19.0      0      0  30.0000     0\n",
              "268         0       3  28.0      1      2  23.4500     0\n",
              "269         1       1  26.0      0      0  30.0000     1\n",
              "270         0       3  32.0      0      0   7.7500     1\n",
              "\n",
              "[271 rows x 7 columns]"
            ]
          },
          "metadata": {
            "tags": []
          },
          "execution_count": 67
        }
      ]
    },
    {
      "cell_type": "code",
      "metadata": {
        "colab": {
          "base_uri": "https://localhost:8080/"
        },
        "id": "YylvuXjRU0ij",
        "outputId": "e71c55dc-7d73-4069-a99b-f73fc293f059"
      },
      "source": [
        "df2['Age'].isnull().sum()"
      ],
      "execution_count": null,
      "outputs": [
        {
          "output_type": "execute_result",
          "data": {
            "text/plain": [
              "0"
            ]
          },
          "metadata": {
            "tags": []
          },
          "execution_count": 68
        }
      ]
    },
    {
      "cell_type": "code",
      "metadata": {
        "colab": {
          "base_uri": "https://localhost:8080/"
        },
        "id": "pst8i2YN8mxm",
        "outputId": "ae7c0864-4190-4dce-9345-8433c2ad4635"
      },
      "source": [
        "df2.columns"
      ],
      "execution_count": null,
      "outputs": [
        {
          "output_type": "execute_result",
          "data": {
            "text/plain": [
              "Index(['Survived', 'Pclass', 'Age', 'SibSp', 'Parch', 'Fare', 'male'], dtype='object')"
            ]
          },
          "metadata": {
            "tags": []
          },
          "execution_count": 69
        }
      ]
    },
    {
      "cell_type": "code",
      "metadata": {
        "colab": {
          "base_uri": "https://localhost:8080/"
        },
        "id": "58QDLZRHcgEj",
        "outputId": "32640266-e865-409b-b3ce-5111b169fc31"
      },
      "source": [
        "# Converting the variables of test set into the numpy arrays and seperate arrays for dependent and independent variables. Also, calculated the\n",
        "# shape and length of them.\n",
        "X_test = df2[['Pclass','Age','SibSp','Parch','Fare','male']]\n",
        "X_test = X_test.to_numpy()\n",
        "Y_test = df2['Survived'].to_numpy()\n",
        "X_test.shape,len(Y_test)"
      ],
      "execution_count": null,
      "outputs": [
        {
          "output_type": "execute_result",
          "data": {
            "text/plain": [
              "((271, 6), 271)"
            ]
          },
          "metadata": {
            "tags": []
          },
          "execution_count": 70
        }
      ]
    },
    {
      "cell_type": "code",
      "metadata": {
        "id": "HmtszYs_ckPc"
      },
      "source": [
        "# Defining the sigmoid sunction to start with the logistic regression using numpy library.\n",
        "def sigmoid(z):\n",
        "    return 1 / (1 + np.exp(-z))         # Returns a numpy array"
      ],
      "execution_count": null,
      "outputs": []
    },
    {
      "cell_type": "markdown",
      "metadata": {
        "id": "eQlnCy5Qcs_b"
      },
      "source": [
        "Defined a function to calculate the sigmoid value and loss. Also, calculated the derivatives of weights and biases to estimate the difference between the minimum value and present value of loss function. This function returns the value of parameters ie. weights and biases which suits best.\n",
        "Reference: https://dhirajkumarblog.medium.com/logistic-regression-in-python-from-scratch-5b901d72d68e"
      ]
    },
    {
      "cell_type": "code",
      "metadata": {
        "id": "2aFnkONOcoCh"
      },
      "source": [
        "def optimize(x, y,learning_rate,iterations,parameters): \n",
        "    size = x.shape[0]\n",
        "    w = parameters[\"w\"]                   # Here, parameters is a dictionary with a key w which has a numpy array as value and name of that array is w.\n",
        "    b = parameters[\"b\"]                   # Here, parameters is a dictionary with a key b which has a numpy array as value and name of that array is b.\n",
        "    for i in range(iterations): \n",
        "        s = sigmoid(np.dot(x, w) + b)     # s is a numpy array returned by the sigmoid function and hence becomes the hypothesis function.\n",
        "        loss = -1/size * np.sum(y * np.log(s)) + (1 - y) * np.log(1-s)       \n",
        "        dw = 1/size * np.dot(x.T, (s - y))\n",
        "        db = 1/size * np.sum(s - y)\n",
        "        w = w - learning_rate * dw\n",
        "        b = b - learning_rate * db \n",
        "    \n",
        "    parameters[\"w\"] = w\n",
        "    parameters[\"b\"] = b\n",
        "    return parameters"
      ],
      "execution_count": null,
      "outputs": []
    },
    {
      "cell_type": "code",
      "metadata": {
        "id": "ptd8zAphcxt2"
      },
      "source": [
        "# Here, the values of parameters set which has weight as w and bias as b and has been initialized with value=0\n",
        "initial_parameters = {} \n",
        "initial_parameters[\"w\"] = np.zeros(X_train.shape[1])\n",
        "initial_parameters[\"b\"] = 0"
      ],
      "execution_count": null,
      "outputs": []
    },
    {
      "cell_type": "code",
      "metadata": {
        "id": "hjJDil20c23L"
      },
      "source": [
        "# Training the model\n",
        "def train(x, y, learning_rate,iterations):\n",
        "    parameters_out = optimize(x, y, learning_rate, iterations ,initial_parameters)\n",
        "    return parameters_out"
      ],
      "execution_count": null,
      "outputs": []
    },
    {
      "cell_type": "code",
      "metadata": {
        "colab": {
          "base_uri": "https://localhost:8080/"
        },
        "id": "qHIBycvnc5_H",
        "outputId": "7a494125-2ce1-414f-acf3-d45dfb0c0ac5"
      },
      "source": [
        "# Calculated the value of parameters using the model. Parameters_out is also a dictionary having key as b and w and both have numpy array as their respective value.\n",
        "parameters_out = train(X_train, Y_train, learning_rate = 0.005, iterations = 5000)\n",
        "parameters_out"
      ],
      "execution_count": null,
      "outputs": [
        {
          "output_type": "execute_result",
          "data": {
            "text/plain": [
              "{'b': 0.354378640639931,\n",
              " 'w': array([-0.06204788,  0.00468488, -0.31236042,  0.06896576,  0.03489376,\n",
              "        -1.67715314])}"
            ]
          },
          "metadata": {
            "tags": []
          },
          "execution_count": 75
        }
      ]
    },
    {
      "cell_type": "code",
      "metadata": {
        "colab": {
          "base_uri": "https://localhost:8080/"
        },
        "id": "Ts14dpVodEEv",
        "outputId": "bf5d50ee-3200-4cdf-a256-1ec0a258c443"
      },
      "source": [
        "# Make predictions dor the X_test values and saving them into list \n",
        "output_values = np.dot(X_test, parameters_out['w']) + parameters_out['b']\n",
        "#output_values\n",
        "Y_pred = sigmoid(output_values)\n",
        "print(Y_pred)\n",
        "Y_pred = [1 if p >= 0.5 else 0 for p in Y_pred]\n",
        "Y_pred"
      ],
      "execution_count": 78,
      "outputs": [
        {
          "output_type": "stream",
          "text": [
            "[0.23318287 0.58258539 0.24799618 0.24296851 0.29969596 0.50718693\n",
            " 0.32106235 0.95734303 0.24757328 0.24826307 0.50919423 0.2642798\n",
            " 0.45744159 0.2220697  0.59502667 0.69319064 0.2530391  0.3477209\n",
            " 0.88992645 0.24447269 0.24210783 0.9439011  0.58710027 0.64419285\n",
            " 0.57150349 0.76942399 0.24151504 0.52903218 0.24707131 0.63168102\n",
            " 0.24932281 0.76604873 0.24670455 0.63936335 0.61965775 0.6469221\n",
            " 0.24932281 0.64921943 0.29203953 0.95154367 0.9472626  0.25551428\n",
            " 0.43246799 0.25375103 0.18984035 0.65543497 0.29398052 0.24853473\n",
            " 0.26374897 0.87276409 0.82275713 0.56525662 0.32026725 0.29984837\n",
            " 0.21153568 0.23988843 0.24726665 0.64473533 0.89164318 0.99999995\n",
            " 0.64184011 0.80518779 0.25099257 0.22606187 0.48792351 0.48667251\n",
            " 0.22461711 0.2563536  0.2400208  0.99959285 0.60754222 0.67350908\n",
            " 0.64419285 0.24237753 0.45579073 0.32471421 0.26465971 0.63859141\n",
            " 0.92204606 0.26014487 0.99966582 0.42468211 0.6954852  0.24570368\n",
            " 0.19381502 0.41170484 0.71344368 0.43271375 0.99661006 0.25177785\n",
            " 0.89398946 0.41891807 0.58471681 0.26073565 0.32090031 0.23994737\n",
            " 0.99977732 0.67330232 0.30219058 0.25293532 0.8143991  0.18309944\n",
            " 0.30280727 0.31886185 0.57007754 0.24732072 0.54153333 0.63862523\n",
            " 0.32412675 0.56206075 0.99959148 0.30963677 0.21153568 0.29203953\n",
            " 0.29203953 0.30712188 0.81564549 0.99999994 0.24932281 0.24932281\n",
            " 0.44847532 0.77256395 0.99988369 0.24102799 0.25215464 0.76444066\n",
            " 0.27472982 0.69517976 0.56086871 0.25100488 0.69172242 0.27357817\n",
            " 0.26447725 0.24496446 0.92749437 0.23484251 0.2486703  0.27662516\n",
            " 0.25564329 0.96968245 0.29488366 0.25574177 0.23812867 0.98872478\n",
            " 0.2381841  0.94974852 0.53199301 0.64142412 0.29997486 0.2559354\n",
            " 0.25635697 0.26698354 0.70343431 0.24496773 0.76501251 0.23972941\n",
            " 0.24837184 0.65179961 0.24829042 0.99964289 0.61807663 0.88580178\n",
            " 0.44963438 0.32433692 0.24125797 0.24253776 0.6257717  0.16305997\n",
            " 0.27673344 0.8312157  0.24837184 0.3858775  0.5903278  0.45448786\n",
            " 0.2467016  0.30777524 0.80637995 0.64941286 0.24673213 0.71260529\n",
            " 0.30280727 0.74040618 0.93580808 0.24217258 0.24249624 0.25116891\n",
            " 0.23109974 0.62805036 0.30777524 0.87947097 0.24751933 0.38142046\n",
            " 0.28566855 0.5439206  0.25253561 0.2220697  0.63472014 0.43688399\n",
            " 0.25305147 0.2162452  0.97221596 0.25347591 0.23026832 0.68975888\n",
            " 0.21497761 0.24319726 0.64419285 0.49674046 0.24837184 0.96689143\n",
            " 0.60599525 0.26267359 0.24499484 0.24469608 0.2432447  0.95824771\n",
            " 0.24819385 0.25033121 0.64847641 0.4458875  0.24256143 0.267856\n",
            " 0.81973952 0.24551802 0.2447137  0.25947383 0.21218036 0.25551092\n",
            " 0.47620953 0.9615921  0.18088151 0.29091635 0.62222137 0.85949098\n",
            " 0.73716689 0.65651121 0.9975582  0.44535315 0.76125347 0.24499484\n",
            " 0.19011438 0.22104794 0.80564744 0.5903278  0.29300908 0.70696039\n",
            " 0.62901244 0.62770813 0.25994572 0.20667416 0.24757328 0.89118852\n",
            " 0.25812201 0.27394772 0.70817757 0.62025146 0.25508686 0.24151504\n",
            " 0.24932281 0.97140066 0.78978143 0.25373264 0.6543622  0.2790238\n",
            " 0.24125797 0.84710263 0.29592902 0.80661387 0.71975395 0.44615889\n",
            " 0.25188667]\n"
          ],
          "name": "stdout"
        },
        {
          "output_type": "execute_result",
          "data": {
            "text/plain": [
              "[0,\n",
              " 1,\n",
              " 0,\n",
              " 0,\n",
              " 0,\n",
              " 1,\n",
              " 0,\n",
              " 1,\n",
              " 0,\n",
              " 0,\n",
              " 1,\n",
              " 0,\n",
              " 0,\n",
              " 0,\n",
              " 1,\n",
              " 1,\n",
              " 0,\n",
              " 0,\n",
              " 1,\n",
              " 0,\n",
              " 0,\n",
              " 1,\n",
              " 1,\n",
              " 1,\n",
              " 1,\n",
              " 1,\n",
              " 0,\n",
              " 1,\n",
              " 0,\n",
              " 1,\n",
              " 0,\n",
              " 1,\n",
              " 0,\n",
              " 1,\n",
              " 1,\n",
              " 1,\n",
              " 0,\n",
              " 1,\n",
              " 0,\n",
              " 1,\n",
              " 1,\n",
              " 0,\n",
              " 0,\n",
              " 0,\n",
              " 0,\n",
              " 1,\n",
              " 0,\n",
              " 0,\n",
              " 0,\n",
              " 1,\n",
              " 1,\n",
              " 1,\n",
              " 0,\n",
              " 0,\n",
              " 0,\n",
              " 0,\n",
              " 0,\n",
              " 1,\n",
              " 1,\n",
              " 1,\n",
              " 1,\n",
              " 1,\n",
              " 0,\n",
              " 0,\n",
              " 0,\n",
              " 0,\n",
              " 0,\n",
              " 0,\n",
              " 0,\n",
              " 1,\n",
              " 1,\n",
              " 1,\n",
              " 1,\n",
              " 0,\n",
              " 0,\n",
              " 0,\n",
              " 0,\n",
              " 1,\n",
              " 1,\n",
              " 0,\n",
              " 1,\n",
              " 0,\n",
              " 1,\n",
              " 0,\n",
              " 0,\n",
              " 0,\n",
              " 1,\n",
              " 0,\n",
              " 1,\n",
              " 0,\n",
              " 1,\n",
              " 0,\n",
              " 1,\n",
              " 0,\n",
              " 0,\n",
              " 0,\n",
              " 1,\n",
              " 1,\n",
              " 0,\n",
              " 0,\n",
              " 1,\n",
              " 0,\n",
              " 0,\n",
              " 0,\n",
              " 1,\n",
              " 0,\n",
              " 1,\n",
              " 1,\n",
              " 0,\n",
              " 1,\n",
              " 1,\n",
              " 0,\n",
              " 0,\n",
              " 0,\n",
              " 0,\n",
              " 0,\n",
              " 1,\n",
              " 1,\n",
              " 0,\n",
              " 0,\n",
              " 0,\n",
              " 1,\n",
              " 1,\n",
              " 0,\n",
              " 0,\n",
              " 1,\n",
              " 0,\n",
              " 1,\n",
              " 1,\n",
              " 0,\n",
              " 1,\n",
              " 0,\n",
              " 0,\n",
              " 0,\n",
              " 1,\n",
              " 0,\n",
              " 0,\n",
              " 0,\n",
              " 0,\n",
              " 1,\n",
              " 0,\n",
              " 0,\n",
              " 0,\n",
              " 1,\n",
              " 0,\n",
              " 1,\n",
              " 1,\n",
              " 1,\n",
              " 0,\n",
              " 0,\n",
              " 0,\n",
              " 0,\n",
              " 1,\n",
              " 0,\n",
              " 1,\n",
              " 0,\n",
              " 0,\n",
              " 1,\n",
              " 0,\n",
              " 1,\n",
              " 1,\n",
              " 1,\n",
              " 0,\n",
              " 0,\n",
              " 0,\n",
              " 0,\n",
              " 1,\n",
              " 0,\n",
              " 0,\n",
              " 1,\n",
              " 0,\n",
              " 0,\n",
              " 1,\n",
              " 0,\n",
              " 0,\n",
              " 0,\n",
              " 1,\n",
              " 1,\n",
              " 0,\n",
              " 1,\n",
              " 0,\n",
              " 1,\n",
              " 1,\n",
              " 0,\n",
              " 0,\n",
              " 0,\n",
              " 0,\n",
              " 1,\n",
              " 0,\n",
              " 1,\n",
              " 0,\n",
              " 0,\n",
              " 0,\n",
              " 1,\n",
              " 0,\n",
              " 0,\n",
              " 1,\n",
              " 0,\n",
              " 0,\n",
              " 0,\n",
              " 1,\n",
              " 0,\n",
              " 0,\n",
              " 1,\n",
              " 0,\n",
              " 0,\n",
              " 1,\n",
              " 0,\n",
              " 0,\n",
              " 1,\n",
              " 1,\n",
              " 0,\n",
              " 0,\n",
              " 0,\n",
              " 0,\n",
              " 1,\n",
              " 0,\n",
              " 0,\n",
              " 1,\n",
              " 0,\n",
              " 0,\n",
              " 0,\n",
              " 1,\n",
              " 0,\n",
              " 0,\n",
              " 0,\n",
              " 0,\n",
              " 0,\n",
              " 0,\n",
              " 1,\n",
              " 0,\n",
              " 0,\n",
              " 1,\n",
              " 1,\n",
              " 1,\n",
              " 1,\n",
              " 1,\n",
              " 0,\n",
              " 1,\n",
              " 0,\n",
              " 0,\n",
              " 0,\n",
              " 1,\n",
              " 1,\n",
              " 0,\n",
              " 1,\n",
              " 1,\n",
              " 1,\n",
              " 0,\n",
              " 0,\n",
              " 0,\n",
              " 1,\n",
              " 0,\n",
              " 0,\n",
              " 1,\n",
              " 1,\n",
              " 0,\n",
              " 0,\n",
              " 0,\n",
              " 1,\n",
              " 1,\n",
              " 0,\n",
              " 1,\n",
              " 0,\n",
              " 0,\n",
              " 1,\n",
              " 0,\n",
              " 1,\n",
              " 1,\n",
              " 0,\n",
              " 0]"
            ]
          },
          "metadata": {
            "tags": []
          },
          "execution_count": 78
        }
      ]
    },
    {
      "cell_type": "markdown",
      "metadata": {
        "id": "6_1_-SKXdQBo"
      },
      "source": [
        "Initializing the accuracy with value equals to 0. Then comparing the value in Y_pred and Y_test, if they have same value then it adds up the accuracy. Now, Accuracy is being calculated using the accuracy/length of list of Y_pred values."
      ]
    },
    {
      "cell_type": "code",
      "metadata": {
        "colab": {
          "base_uri": "https://localhost:8080/"
        },
        "id": "zKipC0qbdKwY",
        "outputId": "1f82b061-2188-41cd-8bf8-cdd6e5d0c930"
      },
      "source": [
        "accuracy = 0\n",
        "for i in range(len(Y_pred)):\n",
        "    if Y_pred[i] == Y_test[i]:\n",
        "        accuracy += 1\n",
        "print(f\"Accuracy = {accuracy / len(Y_pred)}\")"
      ],
      "execution_count": 79,
      "outputs": [
        {
          "output_type": "stream",
          "text": [
            "Accuracy = 0.7822878228782287\n"
          ],
          "name": "stdout"
        }
      ]
    }
  ]
}