{
  "nbformat": 4,
  "nbformat_minor": 0,
  "metadata": {
    "colab": {
      "name": "ICG_Assignment3_Fashion",
      "provenance": [],
      "collapsed_sections": []
    },
    "kernelspec": {
      "name": "python3",
      "display_name": "Python 3"
    },
    "language_info": {
      "name": "python"
    }
  },
  "cells": [
    {
      "cell_type": "code",
      "metadata": {
        "id": "RA-7eBUr0juN"
      },
      "source": [
        "import tensorflow as tf\n",
        "import numpy as np\n",
        "import matplotlib.pyplot as plt\n",
        "\n",
        "#fashion_mnist = tf.keras.datasets.fashion_mnist\n",
        "#(train_images, train_labels), (test_images, test_labels) = fashion_mnist.load_data()"
      ],
      "execution_count": 9,
      "outputs": []
    },
    {
      "cell_type": "code",
      "metadata": {
        "id": "2syDNZNR1MSv"
      },
      "source": [
        "class_names = ['T-shirt/top', 'Trouser', 'Pullover', 'Dress', 'Coat',\n",
        "               'Sandal', 'Shirt', 'Sneaker', 'Bag', 'Ankle boot']"
      ],
      "execution_count": 10,
      "outputs": []
    },
    {
      "cell_type": "code",
      "metadata": {
        "id": "M3cy5OJz2moW"
      },
      "source": [
        "import torch\n",
        "from torch import nn\n",
        "import torch.nn.functional as F\n",
        "from torchvision import datasets, transforms\n",
        "\n",
        "device = torch.device(\"cuda:0\" if torch.cuda.is_available() else \"cpu\")"
      ],
      "execution_count": 11,
      "outputs": []
    },
    {
      "cell_type": "code",
      "metadata": {
        "id": "2KFijU8u2qg_"
      },
      "source": [
        "'''\n",
        "plt.figure()\n",
        "plt.imshow(train_images[5])\n",
        "plt.colorbar()\n",
        "plt.grid(False)\n",
        "plt.show()\n",
        "\n",
        "'''\n",
        "#taken from official Pytorch documentation for FashionMNIST\n",
        "\n",
        "transform = transforms.Compose([transforms.ToTensor(),transforms.Normalize((0.5,), (0.5,)),])\n",
        "trainset = datasets.FashionMNIST('~/.pytorch/F_MNIST_data/', download=True, train=True, transform=transform)\n",
        "trainloader = torch.utils.data.DataLoader(trainset, batch_size=64, shuffle=True)\n",
        "\n",
        "\n",
        "testset = datasets.FashionMNIST('~/.pytorch/F_MNIST_data/', download=True, train=False, transform=transform)\n",
        "testloader = torch.utils.data.DataLoader(testset, batch_size=64, shuffle=True)\n",
        "\n",
        "images, labels = next(iter(trainloader))\n",
        "\n"
      ],
      "execution_count": 18,
      "outputs": []
    },
    {
      "cell_type": "code",
      "metadata": {
        "colab": {
          "base_uri": "https://localhost:8080/"
        },
        "id": "QMANcxKfXige",
        "outputId": "01a06e39-cc00-4932-c4f1-46443261f59f"
      },
      "source": [
        "from torch import optim\n",
        "\n",
        "\n",
        "model = nn.Sequential(nn.Linear(784, 128),\n",
        "                      nn.ReLU(),\n",
        "                      nn.Linear(128, 64),\n",
        "                      nn.ReLU(),\n",
        "                      nn.Linear(64, 10),\n",
        "                      nn.LogSoftmax(dim=1))\n",
        "\n",
        "model.to(device)\n",
        "criterion = nn.NLLLoss()  #Negative log-likelihood loss, used with logSoftmax activation\n",
        "optimizer = optim.Adam(model.parameters(), lr=0.003)    #Adam optimisation does better than SGD due to changing learnrates\n",
        "\n",
        "torch.set_grad_enabled(True)    #Store the gradients for all operations\n",
        "\n",
        "\n",
        "count = 0\n",
        "correct = 0\n",
        "loss_tensor = []\n",
        "accuracy = []\n",
        "\n",
        "epochs = 10\n",
        "for e in range(epochs):\n",
        "    running_loss = 0\n",
        "    for images, labels in trainloader:\n",
        "        images, labels = images.to(device), labels.to(device)\n",
        "        images = images.view(images.shape[0], -1)\n",
        "    \n",
        "        optimizer.zero_grad()\n",
        "        \n",
        "        output = model(images)\n",
        "        loss = criterion(output, labels)\n",
        "        loss.backward()   #back-propagation done using autograd\n",
        "        optimizer.step()  #update the weights for each layer\n",
        "\n",
        "        ps = torch.argmax(torch.exp(model(images)),dim=1).to(device)    #we need to apply exp as we used logSoftmax, and then find the class with the maximum probability\n",
        "        correct += torch.eq(ps,labels).sum().item()   #no of correct predictions\n",
        "        count += torch.numel(labels)    #no. of elements per batch\n",
        "        running_loss += loss.item()\n",
        "        loss_tensor.append(running_loss/len(testloader))\n",
        "        accuracy.append((correct*100.0)/count)\n",
        "\n",
        "    else:\n",
        "        print(f\"Training loss: {running_loss/len(trainloader)}\")\n",
        "\n",
        "\n"
      ],
      "execution_count": 13,
      "outputs": [
        {
          "output_type": "stream",
          "text": [
            "Training loss: 0.5032806059540208\n",
            "Training loss: 0.37524702666061266\n",
            "Training loss: 0.33598637867615677\n",
            "Training loss: 0.3167994542003695\n",
            "Training loss: 0.30266417132448287\n",
            "Training loss: 0.29148315656175616\n",
            "Training loss: 0.2797167612942678\n",
            "Training loss: 0.27263370432706274\n",
            "Training loss: 0.2626236168496898\n",
            "Training loss: 0.2527519720537004\n"
          ],
          "name": "stdout"
        }
      ]
    },
    {
      "cell_type": "code",
      "metadata": {
        "colab": {
          "base_uri": "https://localhost:8080/",
          "height": 545
        },
        "id": "ammzkJtZKQSF",
        "outputId": "37e2db93-f77c-4d1b-b218-a99851be0c34"
      },
      "source": [
        "plt.plot(accuracy)\n",
        "plt.title(\"Accuracy\")\n",
        "plt.show()\n",
        "\n",
        "plt.plot(loss_tensor)\n",
        "plt.title(\"Epochwise Loss\")\n",
        "plt.show()    #the peaks of the loss graph are where we move to a new epoch, we can clearly see the loss per epoch decreasing"
      ],
      "execution_count": 14,
      "outputs": [
        {
          "output_type": "display_data",
          "data": {
            "image/png": "[encoded data removed]",
            "text/plain": [
              "<Figure size 432x288 with 1 Axes>"
            ]
          },
          "metadata": {
            "tags": [],
            "needs_background": "light"
          }
        },
        {
          "output_type": "display_data",
          "data": {
            "image/png": "[encoded data removed]",
            "text/plain": [
              "<Figure size 432x288 with 1 Axes>"
            ]
          },
          "metadata": {
            "tags": [],
            "needs_background": "light"
          }
        }
      ]
    },
    {
      "cell_type": "code",
      "metadata": {
        "colab": {
          "base_uri": "https://localhost:8080/",
          "height": 302
        },
        "id": "Fw-GBOOUmpc9",
        "outputId": "20fdc1d1-3f32-4ec5-b5e5-2ebbaeb020e3"
      },
      "source": [
        "dataiter = iter(testloader)\n",
        "images, labels = dataiter.next()\n",
        "\n",
        "torch.set_grad_enabled(False)\n",
        "\n",
        "i=0   #set it to any value in [0,63], doesn't matter as it's shuffled each time\n",
        "img=images[i].view(images[i].shape[0],-1)\n",
        "ps = torch.exp(model(img))\n",
        "torch.reshape(images,(-1,28,28))\n",
        "\n",
        "print('Predicted Label:',class_names[torch.argmax(ps)])\n",
        "print('Correct label:', class_names[labels[i]])\n",
        "plt.figure()\n",
        "plt.imshow(img.view(28,28))\n",
        "plt.colorbar()\n",
        "plt.grid(False)\n",
        "plt.show()\n",
        "\n",
        "\n"
      ],
      "execution_count": 15,
      "outputs": [
        {
          "output_type": "stream",
          "text": [
            "Predicted Label: T-shirt/top\n",
            "Correct label: T-shirt/top\n"
          ],
          "name": "stdout"
        },
        {
          "output_type": "display_data",
          "data": {
            "image/png": "[encoded data removed]",
            "text/plain": [
              "<Figure size 432x288 with 2 Axes>"
            ]
          },
          "metadata": {
            "tags": [],
            "needs_background": "light"
          }
        }
      ]
    },
    {
      "cell_type": "code",
      "metadata": {
        "colab": {
          "base_uri": "https://localhost:8080/"
        },
        "id": "GrCYmQ8uaMst",
        "outputId": "fb14ff27-5422-4290-bc67-f49a7ffea77f"
      },
      "source": [
        "\n",
        "\n",
        "count = 0\n",
        "correct = 0\n",
        "loss_tensor = []\n",
        "accuracy = []\n",
        "test_epochs = 1\n",
        "for e in range(test_epochs):\n",
        "    running_loss = 0\n",
        "    for images, labels in testloader:\n",
        "        images, labels = images.to(device), labels.to(device)\n",
        "        images = images.view(images.shape[0], -1)\n",
        "        output = model(images)\n",
        "        loss = criterion(output, labels)\n",
        "        ps = torch.argmax(torch.exp(model(images)),dim=1).to(device)\n",
        "        correct += torch.eq(ps,labels).sum().item()\n",
        "        count += torch.numel(labels)\n",
        "        running_loss += loss.item()\n",
        "        loss_tensor.append(running_loss/len(testloader))\n",
        "        accuracy.append((correct*100.0)/count)\n",
        "        \n",
        "    else:\n",
        "        print(f\"Test loss: {running_loss/len(testloader)}\")\n",
        "        print(\"OVerall accuracy over test set is \", sum(accuracy)/len(accuracy))\n"
      ],
      "execution_count": 16,
      "outputs": [
        {
          "output_type": "stream",
          "text": [
            "Test loss: 0.37027667182835805\n",
            "OVerall accuracy over test set is  87.74485341475543\n"
          ],
          "name": "stdout"
        }
      ]
    }
  ]
}