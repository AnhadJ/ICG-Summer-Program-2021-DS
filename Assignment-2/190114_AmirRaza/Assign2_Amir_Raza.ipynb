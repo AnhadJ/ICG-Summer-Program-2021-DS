{
 "cells": [
  {
   "cell_type": "markdown",
   "id": "ad644aae",
   "metadata": {},
   "source": [
    "<h1>Decision Tree on Titanic Survival Data</h1>"
   ]
  },
  {
   "cell_type": "markdown",
   "id": "f895284d",
   "metadata": {},
   "source": [
    "<h2>Setting up libraries and files</h2>"
   ]
  },
  {
   "cell_type": "code",
   "execution_count": 1,
   "id": "6aa6d5d1",
   "metadata": {},
   "outputs": [],
   "source": [
    "#Import libraries and set configurations"
   ]
  },
  {
   "cell_type": "code",
   "execution_count": 2,
   "id": "1ff33daa",
   "metadata": {},
   "outputs": [],
   "source": [
    "import numpy as np\n",
    "import pandas as pd\n",
    "import seaborn as sns\n",
    "import matplotlib.pyplot as plt\n",
    "from IPython.core.interactiveshell import InteractiveShell\n",
    "InteractiveShell.ast_node_interactivity = \"all\"\n",
    "%matplotlib inline\n",
    "%config InlineBackend.figure_format = 'retina'"
   ]
  },
  {
   "cell_type": "code",
   "execution_count": 3,
   "id": "ff2b9fdf",
   "metadata": {},
   "outputs": [],
   "source": [
    "#Load the train and test data"
   ]
  },
  {
   "cell_type": "code",
   "execution_count": 4,
   "id": "c4a31690",
   "metadata": {},
   "outputs": [],
   "source": [
    "trainData = pd.read_csv('../data/train.csv')\n",
    "testData = pd.read_csv('../data/test.csv')"
   ]
  },
  {
   "cell_type": "code",
   "execution_count": 5,
   "id": "3f6cd70b",
   "metadata": {},
   "outputs": [],
   "source": [
    "#View the data using head functions"
   ]
  },
  {
   "cell_type": "code",
   "execution_count": 6,
   "id": "5e0381aa",
   "metadata": {},
   "outputs": [
    {
     "name": "stdout",
     "output_type": "stream",
     "text": [
      "Train Data\n"
     ]
    },
    {
     "data": {
      "text/html": [
       "<div>\n",
       "<style scoped>\n",
       "    .dataframe tbody tr th:only-of-type {\n",
       "        vertical-align: middle;\n",
       "    }\n",
       "\n",
       "    .dataframe tbody tr th {\n",
       "        vertical-align: top;\n",
       "    }\n",
       "\n",
       "    .dataframe thead th {\n",
       "        text-align: right;\n",
       "    }\n",
       "</style>\n",
       "<table border=\"1\" class=\"dataframe\">\n",
       "  <thead>\n",
       "    <tr style=\"text-align: right;\">\n",
       "      <th></th>\n",
       "      <th>PassengerId</th>\n",
       "      <th>Survived</th>\n",
       "      <th>Pclass</th>\n",
       "      <th>Sex</th>\n",
       "      <th>Age</th>\n",
       "      <th>SibSp</th>\n",
       "      <th>Parch</th>\n",
       "      <th>Fare</th>\n",
       "    </tr>\n",
       "  </thead>\n",
       "  <tbody>\n",
       "    <tr>\n",
       "      <th>0</th>\n",
       "      <td>1</td>\n",
       "      <td>0</td>\n",
       "      <td>3</td>\n",
       "      <td>male</td>\n",
       "      <td>22.0</td>\n",
       "      <td>1</td>\n",
       "      <td>0</td>\n",
       "      <td>7.2500</td>\n",
       "    </tr>\n",
       "    <tr>\n",
       "      <th>1</th>\n",
       "      <td>2</td>\n",
       "      <td>1</td>\n",
       "      <td>1</td>\n",
       "      <td>female</td>\n",
       "      <td>38.0</td>\n",
       "      <td>1</td>\n",
       "      <td>0</td>\n",
       "      <td>71.2833</td>\n",
       "    </tr>\n",
       "    <tr>\n",
       "      <th>2</th>\n",
       "      <td>3</td>\n",
       "      <td>1</td>\n",
       "      <td>3</td>\n",
       "      <td>female</td>\n",
       "      <td>26.0</td>\n",
       "      <td>0</td>\n",
       "      <td>0</td>\n",
       "      <td>7.9250</td>\n",
       "    </tr>\n",
       "    <tr>\n",
       "      <th>3</th>\n",
       "      <td>4</td>\n",
       "      <td>1</td>\n",
       "      <td>1</td>\n",
       "      <td>female</td>\n",
       "      <td>35.0</td>\n",
       "      <td>1</td>\n",
       "      <td>0</td>\n",
       "      <td>53.1000</td>\n",
       "    </tr>\n",
       "    <tr>\n",
       "      <th>4</th>\n",
       "      <td>5</td>\n",
       "      <td>0</td>\n",
       "      <td>3</td>\n",
       "      <td>male</td>\n",
       "      <td>35.0</td>\n",
       "      <td>0</td>\n",
       "      <td>0</td>\n",
       "      <td>8.0500</td>\n",
       "    </tr>\n",
       "  </tbody>\n",
       "</table>\n",
       "</div>"
      ],
      "text/plain": [
       "   PassengerId  Survived  Pclass     Sex   Age  SibSp  Parch     Fare\n",
       "0            1         0       3    male  22.0      1      0   7.2500\n",
       "1            2         1       1  female  38.0      1      0  71.2833\n",
       "2            3         1       3  female  26.0      0      0   7.9250\n",
       "3            4         1       1  female  35.0      1      0  53.1000\n",
       "4            5         0       3    male  35.0      0      0   8.0500"
      ]
     },
     "execution_count": 6,
     "metadata": {},
     "output_type": "execute_result"
    },
    {
     "name": "stdout",
     "output_type": "stream",
     "text": [
      "Test Data\n"
     ]
    },
    {
     "data": {
      "text/html": [
       "<div>\n",
       "<style scoped>\n",
       "    .dataframe tbody tr th:only-of-type {\n",
       "        vertical-align: middle;\n",
       "    }\n",
       "\n",
       "    .dataframe tbody tr th {\n",
       "        vertical-align: top;\n",
       "    }\n",
       "\n",
       "    .dataframe thead th {\n",
       "        text-align: right;\n",
       "    }\n",
       "</style>\n",
       "<table border=\"1\" class=\"dataframe\">\n",
       "  <thead>\n",
       "    <tr style=\"text-align: right;\">\n",
       "      <th></th>\n",
       "      <th>PassengerId</th>\n",
       "      <th>Survived</th>\n",
       "      <th>Pclass</th>\n",
       "      <th>Sex</th>\n",
       "      <th>Age</th>\n",
       "      <th>SibSp</th>\n",
       "      <th>Parch</th>\n",
       "      <th>Fare</th>\n",
       "    </tr>\n",
       "  </thead>\n",
       "  <tbody>\n",
       "    <tr>\n",
       "      <th>0</th>\n",
       "      <td>621</td>\n",
       "      <td>0</td>\n",
       "      <td>3</td>\n",
       "      <td>male</td>\n",
       "      <td>27.0</td>\n",
       "      <td>1</td>\n",
       "      <td>0</td>\n",
       "      <td>14.4542</td>\n",
       "    </tr>\n",
       "    <tr>\n",
       "      <th>1</th>\n",
       "      <td>622</td>\n",
       "      <td>1</td>\n",
       "      <td>1</td>\n",
       "      <td>male</td>\n",
       "      <td>42.0</td>\n",
       "      <td>1</td>\n",
       "      <td>0</td>\n",
       "      <td>52.5542</td>\n",
       "    </tr>\n",
       "    <tr>\n",
       "      <th>2</th>\n",
       "      <td>623</td>\n",
       "      <td>1</td>\n",
       "      <td>3</td>\n",
       "      <td>male</td>\n",
       "      <td>20.0</td>\n",
       "      <td>1</td>\n",
       "      <td>1</td>\n",
       "      <td>15.7417</td>\n",
       "    </tr>\n",
       "    <tr>\n",
       "      <th>3</th>\n",
       "      <td>624</td>\n",
       "      <td>0</td>\n",
       "      <td>3</td>\n",
       "      <td>male</td>\n",
       "      <td>21.0</td>\n",
       "      <td>0</td>\n",
       "      <td>0</td>\n",
       "      <td>7.8542</td>\n",
       "    </tr>\n",
       "    <tr>\n",
       "      <th>4</th>\n",
       "      <td>625</td>\n",
       "      <td>0</td>\n",
       "      <td>3</td>\n",
       "      <td>male</td>\n",
       "      <td>21.0</td>\n",
       "      <td>0</td>\n",
       "      <td>0</td>\n",
       "      <td>16.1000</td>\n",
       "    </tr>\n",
       "  </tbody>\n",
       "</table>\n",
       "</div>"
      ],
      "text/plain": [
       "   PassengerId  Survived  Pclass   Sex   Age  SibSp  Parch     Fare\n",
       "0          621         0       3  male  27.0      1      0  14.4542\n",
       "1          622         1       1  male  42.0      1      0  52.5542\n",
       "2          623         1       3  male  20.0      1      1  15.7417\n",
       "3          624         0       3  male  21.0      0      0   7.8542\n",
       "4          625         0       3  male  21.0      0      0  16.1000"
      ]
     },
     "execution_count": 6,
     "metadata": {},
     "output_type": "execute_result"
    }
   ],
   "source": [
    "print('Train Data')\n",
    "trainData.head()\n",
    "print('Test Data')\n",
    "testData.head()"
   ]
  },
  {
   "cell_type": "code",
   "execution_count": 7,
   "id": "0d1d38df",
   "metadata": {},
   "outputs": [
    {
     "name": "stdout",
     "output_type": "stream",
     "text": [
      "<class 'pandas.core.frame.DataFrame'>\n",
      "RangeIndex: 620 entries, 0 to 619\n",
      "Data columns (total 8 columns):\n",
      " #   Column       Non-Null Count  Dtype  \n",
      "---  ------       --------------  -----  \n",
      " 0   PassengerId  620 non-null    int64  \n",
      " 1   Survived     620 non-null    int64  \n",
      " 2   Pclass       620 non-null    int64  \n",
      " 3   Sex          620 non-null    object \n",
      " 4   Age          489 non-null    float64\n",
      " 5   SibSp        620 non-null    int64  \n",
      " 6   Parch        620 non-null    int64  \n",
      " 7   Fare         620 non-null    float64\n",
      "dtypes: float64(2), int64(5), object(1)\n",
      "memory usage: 38.9+ KB\n",
      "\n",
      "<class 'pandas.core.frame.DataFrame'>\n",
      "RangeIndex: 271 entries, 0 to 270\n",
      "Data columns (total 8 columns):\n",
      " #   Column       Non-Null Count  Dtype  \n",
      "---  ------       --------------  -----  \n",
      " 0   PassengerId  271 non-null    int64  \n",
      " 1   Survived     271 non-null    int64  \n",
      " 2   Pclass       271 non-null    int64  \n",
      " 3   Sex          271 non-null    object \n",
      " 4   Age          225 non-null    float64\n",
      " 5   SibSp        271 non-null    int64  \n",
      " 6   Parch        271 non-null    int64  \n",
      " 7   Fare         271 non-null    float64\n",
      "dtypes: float64(2), int64(5), object(1)\n",
      "memory usage: 17.1+ KB\n"
     ]
    }
   ],
   "source": [
    "trainData.info()\n",
    "print()\n",
    "testData.info()"
   ]
  },
  {
   "cell_type": "code",
   "execution_count": 8,
   "id": "6fe533d5",
   "metadata": {},
   "outputs": [
    {
     "data": {
      "text/plain": [
       "RangeIndex(start=0, stop=620, step=1)"
      ]
     },
     "execution_count": 8,
     "metadata": {},
     "output_type": "execute_result"
    },
    {
     "data": {
      "text/plain": [
       "RangeIndex(start=0, stop=271, step=1)"
      ]
     },
     "execution_count": 8,
     "metadata": {},
     "output_type": "execute_result"
    }
   ],
   "source": [
    "trainData.index\n",
    "testData.index"
   ]
  },
  {
   "cell_type": "code",
   "execution_count": 9,
   "id": "03436ae2",
   "metadata": {},
   "outputs": [
    {
     "data": {
      "text/plain": [
       "Index(['PassengerId', 'Survived', 'Pclass', 'Sex', 'Age', 'SibSp', 'Parch',\n",
       "       'Fare'],\n",
       "      dtype='object')"
      ]
     },
     "execution_count": 9,
     "metadata": {},
     "output_type": "execute_result"
    },
    {
     "data": {
      "text/plain": [
       "Index(['PassengerId', 'Survived', 'Pclass', 'Sex', 'Age', 'SibSp', 'Parch',\n",
       "       'Fare'],\n",
       "      dtype='object')"
      ]
     },
     "execution_count": 9,
     "metadata": {},
     "output_type": "execute_result"
    }
   ],
   "source": [
    "trainData.columns\n",
    "testData.columns"
   ]
  },
  {
   "cell_type": "code",
   "execution_count": 10,
   "id": "767938f6",
   "metadata": {},
   "outputs": [
    {
     "data": {
      "text/html": [
       "<div>\n",
       "<style scoped>\n",
       "    .dataframe tbody tr th:only-of-type {\n",
       "        vertical-align: middle;\n",
       "    }\n",
       "\n",
       "    .dataframe tbody tr th {\n",
       "        vertical-align: top;\n",
       "    }\n",
       "\n",
       "    .dataframe thead th {\n",
       "        text-align: right;\n",
       "    }\n",
       "</style>\n",
       "<table border=\"1\" class=\"dataframe\">\n",
       "  <thead>\n",
       "    <tr style=\"text-align: right;\">\n",
       "      <th></th>\n",
       "      <th>PassengerId</th>\n",
       "      <th>Survived</th>\n",
       "      <th>Pclass</th>\n",
       "      <th>Age</th>\n",
       "      <th>SibSp</th>\n",
       "      <th>Parch</th>\n",
       "      <th>Fare</th>\n",
       "    </tr>\n",
       "  </thead>\n",
       "  <tbody>\n",
       "    <tr>\n",
       "      <th>count</th>\n",
       "      <td>620.000000</td>\n",
       "      <td>620.000000</td>\n",
       "      <td>620.000000</td>\n",
       "      <td>489.000000</td>\n",
       "      <td>620.000000</td>\n",
       "      <td>620.000000</td>\n",
       "      <td>620.000000</td>\n",
       "    </tr>\n",
       "    <tr>\n",
       "      <th>mean</th>\n",
       "      <td>310.500000</td>\n",
       "      <td>0.393548</td>\n",
       "      <td>2.309677</td>\n",
       "      <td>29.781186</td>\n",
       "      <td>0.538710</td>\n",
       "      <td>0.382258</td>\n",
       "      <td>31.746982</td>\n",
       "    </tr>\n",
       "    <tr>\n",
       "      <th>std</th>\n",
       "      <td>179.122863</td>\n",
       "      <td>0.488931</td>\n",
       "      <td>0.833993</td>\n",
       "      <td>14.404998</td>\n",
       "      <td>1.086018</td>\n",
       "      <td>0.792131</td>\n",
       "      <td>45.907139</td>\n",
       "    </tr>\n",
       "    <tr>\n",
       "      <th>min</th>\n",
       "      <td>1.000000</td>\n",
       "      <td>0.000000</td>\n",
       "      <td>1.000000</td>\n",
       "      <td>0.750000</td>\n",
       "      <td>0.000000</td>\n",
       "      <td>0.000000</td>\n",
       "      <td>0.000000</td>\n",
       "    </tr>\n",
       "    <tr>\n",
       "      <th>25%</th>\n",
       "      <td>155.750000</td>\n",
       "      <td>0.000000</td>\n",
       "      <td>2.000000</td>\n",
       "      <td>21.000000</td>\n",
       "      <td>0.000000</td>\n",
       "      <td>0.000000</td>\n",
       "      <td>7.925000</td>\n",
       "    </tr>\n",
       "    <tr>\n",
       "      <th>50%</th>\n",
       "      <td>310.500000</td>\n",
       "      <td>0.000000</td>\n",
       "      <td>3.000000</td>\n",
       "      <td>28.000000</td>\n",
       "      <td>0.000000</td>\n",
       "      <td>0.000000</td>\n",
       "      <td>14.750000</td>\n",
       "    </tr>\n",
       "    <tr>\n",
       "      <th>75%</th>\n",
       "      <td>465.250000</td>\n",
       "      <td>1.000000</td>\n",
       "      <td>3.000000</td>\n",
       "      <td>38.000000</td>\n",
       "      <td>1.000000</td>\n",
       "      <td>0.000000</td>\n",
       "      <td>30.548950</td>\n",
       "    </tr>\n",
       "    <tr>\n",
       "      <th>max</th>\n",
       "      <td>620.000000</td>\n",
       "      <td>1.000000</td>\n",
       "      <td>3.000000</td>\n",
       "      <td>71.000000</td>\n",
       "      <td>8.000000</td>\n",
       "      <td>5.000000</td>\n",
       "      <td>512.329200</td>\n",
       "    </tr>\n",
       "  </tbody>\n",
       "</table>\n",
       "</div>"
      ],
      "text/plain": [
       "       PassengerId    Survived      Pclass         Age       SibSp  \\\n",
       "count   620.000000  620.000000  620.000000  489.000000  620.000000   \n",
       "mean    310.500000    0.393548    2.309677   29.781186    0.538710   \n",
       "std     179.122863    0.488931    0.833993   14.404998    1.086018   \n",
       "min       1.000000    0.000000    1.000000    0.750000    0.000000   \n",
       "25%     155.750000    0.000000    2.000000   21.000000    0.000000   \n",
       "50%     310.500000    0.000000    3.000000   28.000000    0.000000   \n",
       "75%     465.250000    1.000000    3.000000   38.000000    1.000000   \n",
       "max     620.000000    1.000000    3.000000   71.000000    8.000000   \n",
       "\n",
       "            Parch        Fare  \n",
       "count  620.000000  620.000000  \n",
       "mean     0.382258   31.746982  \n",
       "std      0.792131   45.907139  \n",
       "min      0.000000    0.000000  \n",
       "25%      0.000000    7.925000  \n",
       "50%      0.000000   14.750000  \n",
       "75%      0.000000   30.548950  \n",
       "max      5.000000  512.329200  "
      ]
     },
     "execution_count": 10,
     "metadata": {},
     "output_type": "execute_result"
    },
    {
     "data": {
      "text/html": [
       "<div>\n",
       "<style scoped>\n",
       "    .dataframe tbody tr th:only-of-type {\n",
       "        vertical-align: middle;\n",
       "    }\n",
       "\n",
       "    .dataframe tbody tr th {\n",
       "        vertical-align: top;\n",
       "    }\n",
       "\n",
       "    .dataframe thead th {\n",
       "        text-align: right;\n",
       "    }\n",
       "</style>\n",
       "<table border=\"1\" class=\"dataframe\">\n",
       "  <thead>\n",
       "    <tr style=\"text-align: right;\">\n",
       "      <th></th>\n",
       "      <th>PassengerId</th>\n",
       "      <th>Survived</th>\n",
       "      <th>Pclass</th>\n",
       "      <th>Age</th>\n",
       "      <th>SibSp</th>\n",
       "      <th>Parch</th>\n",
       "      <th>Fare</th>\n",
       "    </tr>\n",
       "  </thead>\n",
       "  <tbody>\n",
       "    <tr>\n",
       "      <th>count</th>\n",
       "      <td>271.000000</td>\n",
       "      <td>271.000000</td>\n",
       "      <td>271.000000</td>\n",
       "      <td>225.000000</td>\n",
       "      <td>271.000000</td>\n",
       "      <td>271.000000</td>\n",
       "      <td>271.000000</td>\n",
       "    </tr>\n",
       "    <tr>\n",
       "      <th>mean</th>\n",
       "      <td>756.000000</td>\n",
       "      <td>0.361624</td>\n",
       "      <td>2.306273</td>\n",
       "      <td>29.520756</td>\n",
       "      <td>0.487085</td>\n",
       "      <td>0.380074</td>\n",
       "      <td>33.250261</td>\n",
       "    </tr>\n",
       "    <tr>\n",
       "      <th>std</th>\n",
       "      <td>78.375166</td>\n",
       "      <td>0.481360</td>\n",
       "      <td>0.842350</td>\n",
       "      <td>14.817980</td>\n",
       "      <td>1.141320</td>\n",
       "      <td>0.838545</td>\n",
       "      <td>57.505283</td>\n",
       "    </tr>\n",
       "    <tr>\n",
       "      <th>min</th>\n",
       "      <td>621.000000</td>\n",
       "      <td>0.000000</td>\n",
       "      <td>1.000000</td>\n",
       "      <td>0.420000</td>\n",
       "      <td>0.000000</td>\n",
       "      <td>0.000000</td>\n",
       "      <td>0.000000</td>\n",
       "    </tr>\n",
       "    <tr>\n",
       "      <th>25%</th>\n",
       "      <td>688.500000</td>\n",
       "      <td>0.000000</td>\n",
       "      <td>2.000000</td>\n",
       "      <td>20.000000</td>\n",
       "      <td>0.000000</td>\n",
       "      <td>0.000000</td>\n",
       "      <td>7.895800</td>\n",
       "    </tr>\n",
       "    <tr>\n",
       "      <th>50%</th>\n",
       "      <td>756.000000</td>\n",
       "      <td>0.000000</td>\n",
       "      <td>3.000000</td>\n",
       "      <td>28.000000</td>\n",
       "      <td>0.000000</td>\n",
       "      <td>0.000000</td>\n",
       "      <td>13.000000</td>\n",
       "    </tr>\n",
       "    <tr>\n",
       "      <th>75%</th>\n",
       "      <td>823.500000</td>\n",
       "      <td>1.000000</td>\n",
       "      <td>3.000000</td>\n",
       "      <td>39.000000</td>\n",
       "      <td>1.000000</td>\n",
       "      <td>0.000000</td>\n",
       "      <td>31.797900</td>\n",
       "    </tr>\n",
       "    <tr>\n",
       "      <th>max</th>\n",
       "      <td>891.000000</td>\n",
       "      <td>1.000000</td>\n",
       "      <td>3.000000</td>\n",
       "      <td>80.000000</td>\n",
       "      <td>8.000000</td>\n",
       "      <td>6.000000</td>\n",
       "      <td>512.329200</td>\n",
       "    </tr>\n",
       "  </tbody>\n",
       "</table>\n",
       "</div>"
      ],
      "text/plain": [
       "       PassengerId    Survived      Pclass         Age       SibSp  \\\n",
       "count   271.000000  271.000000  271.000000  225.000000  271.000000   \n",
       "mean    756.000000    0.361624    2.306273   29.520756    0.487085   \n",
       "std      78.375166    0.481360    0.842350   14.817980    1.141320   \n",
       "min     621.000000    0.000000    1.000000    0.420000    0.000000   \n",
       "25%     688.500000    0.000000    2.000000   20.000000    0.000000   \n",
       "50%     756.000000    0.000000    3.000000   28.000000    0.000000   \n",
       "75%     823.500000    1.000000    3.000000   39.000000    1.000000   \n",
       "max     891.000000    1.000000    3.000000   80.000000    8.000000   \n",
       "\n",
       "            Parch        Fare  \n",
       "count  271.000000  271.000000  \n",
       "mean     0.380074   33.250261  \n",
       "std      0.838545   57.505283  \n",
       "min      0.000000    0.000000  \n",
       "25%      0.000000    7.895800  \n",
       "50%      0.000000   13.000000  \n",
       "75%      0.000000   31.797900  \n",
       "max      6.000000  512.329200  "
      ]
     },
     "execution_count": 10,
     "metadata": {},
     "output_type": "execute_result"
    }
   ],
   "source": [
    "trainData.describe()\n",
    "testData.describe()"
   ]
  },
  {
   "cell_type": "markdown",
   "id": "8857382a",
   "metadata": {},
   "source": [
    "<h1>Data Analysis</h1>"
   ]
  },
  {
   "cell_type": "code",
   "execution_count": 11,
   "id": "ac4e71f8",
   "metadata": {},
   "outputs": [
    {
     "data": {
      "text/plain": [
       "<AxesSubplot:xlabel='Survived', ylabel='count'>"
      ]
     },
     "execution_count": 11,
     "metadata": {},
     "output_type": "execute_result"
    },
    {
     "data": {
      "image/png": "[encoded data removed]",
      "text/plain": [
       "<Figure size 432x288 with 1 Axes>"
      ]
     },
     "metadata": {
      "image/png": {
       "height": 261,
       "width": 388
      },
      "needs_background": "light"
     },
     "output_type": "display_data"
    }
   ],
   "source": [
    "sns.countplot(x='Survived',data=trainData)"
   ]
  },
  {
   "cell_type": "code",
   "execution_count": 12,
   "id": "1cf54810",
   "metadata": {},
   "outputs": [
    {
     "data": {
      "text/plain": [
       "<AxesSubplot:xlabel='Survived', ylabel='count'>"
      ]
     },
     "execution_count": 12,
     "metadata": {},
     "output_type": "execute_result"
    },
    {
     "data": {
      "image/png": "[encoded data removed]",
      "text/plain": [
       "<Figure size 432x288 with 1 Axes>"
      ]
     },
     "metadata": {
      "image/png": {
       "height": 261,
       "width": 388
      },
      "needs_background": "light"
     },
     "output_type": "display_data"
    }
   ],
   "source": [
    "sns.countplot(x='Survived',data=trainData,hue='Sex')"
   ]
  },
  {
   "cell_type": "code",
   "execution_count": 13,
   "id": "396cf58a",
   "metadata": {
    "scrolled": true
   },
   "outputs": [
    {
     "data": {
      "text/plain": [
       "Text(0.5, 0.98, 'Countplots for different hues')"
      ]
     },
     "execution_count": 13,
     "metadata": {},
     "output_type": "execute_result"
    },
    {
     "data": {
      "text/plain": [
       "<AxesSubplot:xlabel='Survived', ylabel='count'>"
      ]
     },
     "execution_count": 13,
     "metadata": {},
     "output_type": "execute_result"
    },
    {
     "data": {
      "text/plain": [
       "Text(0.5, 1.0, 'Pclass')"
      ]
     },
     "execution_count": 13,
     "metadata": {},
     "output_type": "execute_result"
    },
    {
     "data": {
      "text/plain": [
       "<AxesSubplot:xlabel='Survived', ylabel='count'>"
      ]
     },
     "execution_count": 13,
     "metadata": {},
     "output_type": "execute_result"
    },
    {
     "data": {
      "text/plain": [
       "Text(0.5, 1.0, 'SibSp')"
      ]
     },
     "execution_count": 13,
     "metadata": {},
     "output_type": "execute_result"
    },
    {
     "data": {
      "image/png": "[encoded data removed]",
      "text/plain": [
       "<Figure size 720x360 with 2 Axes>"
      ]
     },
     "metadata": {
      "image/png": {
       "height": 352,
       "width": 612
      },
      "needs_background": "light"
     },
     "output_type": "display_data"
    }
   ],
   "source": [
    "fig, axes = plt.subplots(1,2,figsize=(10,5))\n",
    "fig.suptitle('Countplots for different hues')\n",
    "sns.countplot(ax=axes[0],x='Survived',data=trainData,hue='Pclass')\n",
    "axes[0].set_title('Pclass')\n",
    "sns.countplot(ax=axes[1],x='Survived',data=trainData,hue='SibSp')\n",
    "axes[1].set_title('SibSp')"
   ]
  },
  {
   "cell_type": "code",
   "execution_count": 14,
   "id": "f54b8b7f",
   "metadata": {
    "scrolled": false
   },
   "outputs": [
    {
     "data": {
      "text/plain": [
       "<AxesSubplot:xlabel='Survived', ylabel='Fare'>"
      ]
     },
     "execution_count": 14,
     "metadata": {},
     "output_type": "execute_result"
    },
    {
     "data": {
      "image/png": "[encoded data removed]",
      "text/plain": [
       "<Figure size 432x288 with 1 Axes>"
      ]
     },
     "metadata": {
      "image/png": {
       "height": 261,
       "width": 388
      },
      "needs_background": "light"
     },
     "output_type": "display_data"
    }
   ],
   "source": [
    "sns.scatterplot(data=trainData, x=\"Survived\", y=\"Fare\", hue=\"Sex\", palette=\"deep\")"
   ]
  },
  {
   "cell_type": "markdown",
   "id": "7fc9e39f",
   "metadata": {},
   "source": [
    "<p>Irrespecitve of <b>Fares</b> <i>females</i> were given priority against <i>male</i>.</p>"
   ]
  },
  {
   "cell_type": "markdown",
   "id": "e4222a4d",
   "metadata": {},
   "source": [
    "<h2>Data Cleaning</h2>"
   ]
  },
  {
   "cell_type": "code",
   "execution_count": 15,
   "id": "f334b2d2",
   "metadata": {
    "scrolled": true
   },
   "outputs": [
    {
     "data": {
      "text/plain": [
       "PassengerId      0\n",
       "Survived         0\n",
       "Pclass           0\n",
       "Sex              0\n",
       "Age            131\n",
       "SibSp            0\n",
       "Parch            0\n",
       "Fare             0\n",
       "dtype: int64"
      ]
     },
     "execution_count": 15,
     "metadata": {},
     "output_type": "execute_result"
    },
    {
     "data": {
      "text/plain": [
       "PassengerId     0\n",
       "Survived        0\n",
       "Pclass          0\n",
       "Sex             0\n",
       "Age            46\n",
       "SibSp           0\n",
       "Parch           0\n",
       "Fare            0\n",
       "dtype: int64"
      ]
     },
     "execution_count": 15,
     "metadata": {},
     "output_type": "execute_result"
    }
   ],
   "source": [
    "trainData.isna().sum()\n",
    "testData.isna().sum()"
   ]
  },
  {
   "cell_type": "code",
   "execution_count": 16,
   "id": "0c3aa217",
   "metadata": {
    "scrolled": true
   },
   "outputs": [
    {
     "data": {
      "text/plain": [
       "Text(0.5, 0.98, 'Heatmap for NA values')"
      ]
     },
     "execution_count": 16,
     "metadata": {},
     "output_type": "execute_result"
    },
    {
     "data": {
      "text/plain": [
       "<AxesSubplot:>"
      ]
     },
     "execution_count": 16,
     "metadata": {},
     "output_type": "execute_result"
    },
    {
     "data": {
      "text/plain": [
       "Text(0.5, 1.0, 'Train Data')"
      ]
     },
     "execution_count": 16,
     "metadata": {},
     "output_type": "execute_result"
    },
    {
     "data": {
      "text/plain": [
       "<AxesSubplot:>"
      ]
     },
     "execution_count": 16,
     "metadata": {},
     "output_type": "execute_result"
    },
    {
     "data": {
      "text/plain": [
       "Text(0.5, 1.0, 'Test Data')"
      ]
     },
     "execution_count": 16,
     "metadata": {},
     "output_type": "execute_result"
    },
    {
     "data": {
      "image/png": "[encoded data removed]",
      "text/plain": [
       "<Figure size 720x360 with 4 Axes>"
      ]
     },
     "metadata": {
      "image/png": {
       "height": 390,
       "width": 597
      },
      "needs_background": "light"
     },
     "output_type": "display_data"
    }
   ],
   "source": [
    "fig, axes = plt.subplots(1,2,figsize=(10,5))\n",
    "fig.suptitle('Heatmap for NA values')\n",
    "sns.heatmap(ax=axes[0],data=trainData.isna())\n",
    "axes[0].set_title('Train Data')\n",
    "sns.heatmap(ax=axes[1],data=testData.isna())\n",
    "axes[1].set_title('Test Data')"
   ]
  },
  {
   "cell_type": "code",
   "execution_count": 17,
   "id": "b2819034",
   "metadata": {},
   "outputs": [
    {
     "data": {
      "text/plain": [
       "21.129032258064516"
      ]
     },
     "execution_count": 17,
     "metadata": {},
     "output_type": "execute_result"
    },
    {
     "data": {
      "text/plain": [
       "16.974169741697416"
      ]
     },
     "execution_count": 17,
     "metadata": {},
     "output_type": "execute_result"
    }
   ],
   "source": [
    "trainData['Age'].isna().sum()/len(trainData['Age'])*100\n",
    "testData['Age'].isna().sum()/len(testData['Age'])*100"
   ]
  },
  {
   "cell_type": "code",
   "execution_count": 18,
   "id": "e1af6733",
   "metadata": {},
   "outputs": [
    {
     "data": {
      "text/plain": [
       "<seaborn.axisgrid.FacetGrid at 0x7f335a99ea60>"
      ]
     },
     "execution_count": 18,
     "metadata": {},
     "output_type": "execute_result"
    },
    {
     "data": {
      "text/plain": [
       "<seaborn.axisgrid.FacetGrid at 0x7f335aa58700>"
      ]
     },
     "execution_count": 18,
     "metadata": {},
     "output_type": "execute_result"
    },
    {
     "data": {
      "image/png": "[encoded data removed]",
      "text/plain": [
       "<Figure size 360x360 with 1 Axes>"
      ]
     },
     "metadata": {
      "image/png": {
       "height": 351,
       "width": 352
      },
      "needs_background": "light"
     },
     "output_type": "display_data"
    },
    {
     "data": {
      "image/png": "[encoded data removed]",
      "text/plain": [
       "<Figure size 360x360 with 1 Axes>"
      ]
     },
     "metadata": {
      "image/png": {
       "height": 351,
       "width": 352
      },
      "needs_background": "light"
     },
     "output_type": "display_data"
    }
   ],
   "source": [
    "sns.displot(x='Age',data=trainData)\n",
    "sns.displot(x='Age',data=testData)"
   ]
  },
  {
   "cell_type": "code",
   "execution_count": 19,
   "id": "6b50ed5f",
   "metadata": {},
   "outputs": [],
   "source": [
    "#fill missing(na) values with mean"
   ]
  },
  {
   "cell_type": "code",
   "execution_count": 20,
   "id": "6acf84c4",
   "metadata": {},
   "outputs": [],
   "source": [
    "trainData['Age'].fillna(trainData['Age'].mean(),inplace=True)\n",
    "testData['Age'].fillna(testData['Age'].mean(),inplace=True)"
   ]
  },
  {
   "cell_type": "code",
   "execution_count": 21,
   "id": "50481d8e",
   "metadata": {},
   "outputs": [],
   "source": [
    "#verify null values"
   ]
  },
  {
   "cell_type": "code",
   "execution_count": 22,
   "id": "465c67b5",
   "metadata": {},
   "outputs": [
    {
     "data": {
      "text/plain": [
       "Text(0.5, 0.98, 'Heatmap for NA values')"
      ]
     },
     "execution_count": 22,
     "metadata": {},
     "output_type": "execute_result"
    },
    {
     "data": {
      "text/plain": [
       "<AxesSubplot:>"
      ]
     },
     "execution_count": 22,
     "metadata": {},
     "output_type": "execute_result"
    },
    {
     "data": {
      "text/plain": [
       "Text(0.5, 1.0, 'Train Data')"
      ]
     },
     "execution_count": 22,
     "metadata": {},
     "output_type": "execute_result"
    },
    {
     "data": {
      "text/plain": [
       "<AxesSubplot:>"
      ]
     },
     "execution_count": 22,
     "metadata": {},
     "output_type": "execute_result"
    },
    {
     "data": {
      "text/plain": [
       "Text(0.5, 1.0, 'Test Data')"
      ]
     },
     "execution_count": 22,
     "metadata": {},
     "output_type": "execute_result"
    },
    {
     "data": {
      "image/png": "[encoded data removed]",
      "text/plain": [
       "<Figure size 720x360 with 4 Axes>"
      ]
     },
     "metadata": {
      "image/png": {
       "height": 390,
       "width": 618
      },
      "needs_background": "light"
     },
     "output_type": "display_data"
    }
   ],
   "source": [
    "fig, axes = plt.subplots(1,2,figsize=(10,5))\n",
    "fig.suptitle('Heatmap for NA values')\n",
    "sns.heatmap(ax=axes[0],data=trainData.isna())\n",
    "axes[0].set_title('Train Data')\n",
    "sns.heatmap(ax=axes[1],data=testData.isna())\n",
    "axes[1].set_title('Test Data')"
   ]
  },
  {
   "cell_type": "code",
   "execution_count": 23,
   "id": "9786c26c",
   "metadata": {},
   "outputs": [],
   "source": [
    "#checking & converting non-numeric columns to numeric"
   ]
  },
  {
   "cell_type": "code",
   "execution_count": 24,
   "id": "8b12fe58",
   "metadata": {},
   "outputs": [
    {
     "data": {
      "text/plain": [
       "PassengerId      int64\n",
       "Survived         int64\n",
       "Pclass           int64\n",
       "Sex             object\n",
       "Age            float64\n",
       "SibSp            int64\n",
       "Parch            int64\n",
       "Fare           float64\n",
       "dtype: object"
      ]
     },
     "execution_count": 24,
     "metadata": {},
     "output_type": "execute_result"
    },
    {
     "data": {
      "text/plain": [
       "PassengerId      int64\n",
       "Survived         int64\n",
       "Pclass           int64\n",
       "Sex             object\n",
       "Age            float64\n",
       "SibSp            int64\n",
       "Parch            int64\n",
       "Fare           float64\n",
       "dtype: object"
      ]
     },
     "execution_count": 24,
     "metadata": {},
     "output_type": "execute_result"
    }
   ],
   "source": [
    "trainData.dtypes\n",
    "testData.dtypes"
   ]
  },
  {
   "cell_type": "code",
   "execution_count": 25,
   "id": "28780c72",
   "metadata": {},
   "outputs": [],
   "source": [
    "#Converting Sex column to numeric "
   ]
  },
  {
   "cell_type": "code",
   "execution_count": 26,
   "id": "aaa016be",
   "metadata": {
    "scrolled": true
   },
   "outputs": [],
   "source": [
    "trainData.replace({'male':1,'female':0},inplace=True)\n",
    "testData.replace({'male':1,'female':0},inplace=True)"
   ]
  },
  {
   "cell_type": "code",
   "execution_count": 27,
   "id": "37b5cf78",
   "metadata": {},
   "outputs": [
    {
     "data": {
      "text/html": [
       "<div>\n",
       "<style scoped>\n",
       "    .dataframe tbody tr th:only-of-type {\n",
       "        vertical-align: middle;\n",
       "    }\n",
       "\n",
       "    .dataframe tbody tr th {\n",
       "        vertical-align: top;\n",
       "    }\n",
       "\n",
       "    .dataframe thead th {\n",
       "        text-align: right;\n",
       "    }\n",
       "</style>\n",
       "<table border=\"1\" class=\"dataframe\">\n",
       "  <thead>\n",
       "    <tr style=\"text-align: right;\">\n",
       "      <th></th>\n",
       "      <th>PassengerId</th>\n",
       "      <th>Survived</th>\n",
       "      <th>Pclass</th>\n",
       "      <th>Sex</th>\n",
       "      <th>Age</th>\n",
       "      <th>SibSp</th>\n",
       "      <th>Parch</th>\n",
       "      <th>Fare</th>\n",
       "    </tr>\n",
       "  </thead>\n",
       "  <tbody>\n",
       "    <tr>\n",
       "      <th>0</th>\n",
       "      <td>1</td>\n",
       "      <td>0</td>\n",
       "      <td>3</td>\n",
       "      <td>1</td>\n",
       "      <td>22.0</td>\n",
       "      <td>1</td>\n",
       "      <td>0</td>\n",
       "      <td>7.2500</td>\n",
       "    </tr>\n",
       "    <tr>\n",
       "      <th>1</th>\n",
       "      <td>2</td>\n",
       "      <td>1</td>\n",
       "      <td>1</td>\n",
       "      <td>0</td>\n",
       "      <td>38.0</td>\n",
       "      <td>1</td>\n",
       "      <td>0</td>\n",
       "      <td>71.2833</td>\n",
       "    </tr>\n",
       "    <tr>\n",
       "      <th>2</th>\n",
       "      <td>3</td>\n",
       "      <td>1</td>\n",
       "      <td>3</td>\n",
       "      <td>0</td>\n",
       "      <td>26.0</td>\n",
       "      <td>0</td>\n",
       "      <td>0</td>\n",
       "      <td>7.9250</td>\n",
       "    </tr>\n",
       "    <tr>\n",
       "      <th>3</th>\n",
       "      <td>4</td>\n",
       "      <td>1</td>\n",
       "      <td>1</td>\n",
       "      <td>0</td>\n",
       "      <td>35.0</td>\n",
       "      <td>1</td>\n",
       "      <td>0</td>\n",
       "      <td>53.1000</td>\n",
       "    </tr>\n",
       "    <tr>\n",
       "      <th>4</th>\n",
       "      <td>5</td>\n",
       "      <td>0</td>\n",
       "      <td>3</td>\n",
       "      <td>1</td>\n",
       "      <td>35.0</td>\n",
       "      <td>0</td>\n",
       "      <td>0</td>\n",
       "      <td>8.0500</td>\n",
       "    </tr>\n",
       "  </tbody>\n",
       "</table>\n",
       "</div>"
      ],
      "text/plain": [
       "   PassengerId  Survived  Pclass  Sex   Age  SibSp  Parch     Fare\n",
       "0            1         0       3    1  22.0      1      0   7.2500\n",
       "1            2         1       1    0  38.0      1      0  71.2833\n",
       "2            3         1       3    0  26.0      0      0   7.9250\n",
       "3            4         1       1    0  35.0      1      0  53.1000\n",
       "4            5         0       3    1  35.0      0      0   8.0500"
      ]
     },
     "execution_count": 27,
     "metadata": {},
     "output_type": "execute_result"
    },
    {
     "data": {
      "text/html": [
       "<div>\n",
       "<style scoped>\n",
       "    .dataframe tbody tr th:only-of-type {\n",
       "        vertical-align: middle;\n",
       "    }\n",
       "\n",
       "    .dataframe tbody tr th {\n",
       "        vertical-align: top;\n",
       "    }\n",
       "\n",
       "    .dataframe thead th {\n",
       "        text-align: right;\n",
       "    }\n",
       "</style>\n",
       "<table border=\"1\" class=\"dataframe\">\n",
       "  <thead>\n",
       "    <tr style=\"text-align: right;\">\n",
       "      <th></th>\n",
       "      <th>PassengerId</th>\n",
       "      <th>Survived</th>\n",
       "      <th>Pclass</th>\n",
       "      <th>Sex</th>\n",
       "      <th>Age</th>\n",
       "      <th>SibSp</th>\n",
       "      <th>Parch</th>\n",
       "      <th>Fare</th>\n",
       "    </tr>\n",
       "  </thead>\n",
       "  <tbody>\n",
       "    <tr>\n",
       "      <th>0</th>\n",
       "      <td>621</td>\n",
       "      <td>0</td>\n",
       "      <td>3</td>\n",
       "      <td>1</td>\n",
       "      <td>27.0</td>\n",
       "      <td>1</td>\n",
       "      <td>0</td>\n",
       "      <td>14.4542</td>\n",
       "    </tr>\n",
       "    <tr>\n",
       "      <th>1</th>\n",
       "      <td>622</td>\n",
       "      <td>1</td>\n",
       "      <td>1</td>\n",
       "      <td>1</td>\n",
       "      <td>42.0</td>\n",
       "      <td>1</td>\n",
       "      <td>0</td>\n",
       "      <td>52.5542</td>\n",
       "    </tr>\n",
       "    <tr>\n",
       "      <th>2</th>\n",
       "      <td>623</td>\n",
       "      <td>1</td>\n",
       "      <td>3</td>\n",
       "      <td>1</td>\n",
       "      <td>20.0</td>\n",
       "      <td>1</td>\n",
       "      <td>1</td>\n",
       "      <td>15.7417</td>\n",
       "    </tr>\n",
       "    <tr>\n",
       "      <th>3</th>\n",
       "      <td>624</td>\n",
       "      <td>0</td>\n",
       "      <td>3</td>\n",
       "      <td>1</td>\n",
       "      <td>21.0</td>\n",
       "      <td>0</td>\n",
       "      <td>0</td>\n",
       "      <td>7.8542</td>\n",
       "    </tr>\n",
       "    <tr>\n",
       "      <th>4</th>\n",
       "      <td>625</td>\n",
       "      <td>0</td>\n",
       "      <td>3</td>\n",
       "      <td>1</td>\n",
       "      <td>21.0</td>\n",
       "      <td>0</td>\n",
       "      <td>0</td>\n",
       "      <td>16.1000</td>\n",
       "    </tr>\n",
       "  </tbody>\n",
       "</table>\n",
       "</div>"
      ],
      "text/plain": [
       "   PassengerId  Survived  Pclass  Sex   Age  SibSp  Parch     Fare\n",
       "0          621         0       3    1  27.0      1      0  14.4542\n",
       "1          622         1       1    1  42.0      1      0  52.5542\n",
       "2          623         1       3    1  20.0      1      1  15.7417\n",
       "3          624         0       3    1  21.0      0      0   7.8542\n",
       "4          625         0       3    1  21.0      0      0  16.1000"
      ]
     },
     "execution_count": 27,
     "metadata": {},
     "output_type": "execute_result"
    }
   ],
   "source": [
    "trainData.head()\n",
    "testData.head()"
   ]
  },
  {
   "cell_type": "code",
   "execution_count": 28,
   "id": "a6c2f333",
   "metadata": {},
   "outputs": [],
   "source": [
    "#dropping redundant columns including \"Fare\""
   ]
  },
  {
   "cell_type": "code",
   "execution_count": 29,
   "id": "eb0d799e",
   "metadata": {},
   "outputs": [],
   "source": [
    "trainData.drop(['PassengerId'],axis=1,inplace=True)\n",
    "testData.drop(['PassengerId'],axis=1,inplace=True)"
   ]
  },
  {
   "cell_type": "code",
   "execution_count": 30,
   "id": "a9cc6577",
   "metadata": {},
   "outputs": [
    {
     "data": {
      "text/html": [
       "<div>\n",
       "<style scoped>\n",
       "    .dataframe tbody tr th:only-of-type {\n",
       "        vertical-align: middle;\n",
       "    }\n",
       "\n",
       "    .dataframe tbody tr th {\n",
       "        vertical-align: top;\n",
       "    }\n",
       "\n",
       "    .dataframe thead th {\n",
       "        text-align: right;\n",
       "    }\n",
       "</style>\n",
       "<table border=\"1\" class=\"dataframe\">\n",
       "  <thead>\n",
       "    <tr style=\"text-align: right;\">\n",
       "      <th></th>\n",
       "      <th>Survived</th>\n",
       "      <th>Pclass</th>\n",
       "      <th>Sex</th>\n",
       "      <th>Age</th>\n",
       "      <th>SibSp</th>\n",
       "      <th>Parch</th>\n",
       "      <th>Fare</th>\n",
       "    </tr>\n",
       "  </thead>\n",
       "  <tbody>\n",
       "    <tr>\n",
       "      <th>0</th>\n",
       "      <td>0</td>\n",
       "      <td>3</td>\n",
       "      <td>1</td>\n",
       "      <td>22.0</td>\n",
       "      <td>1</td>\n",
       "      <td>0</td>\n",
       "      <td>7.2500</td>\n",
       "    </tr>\n",
       "    <tr>\n",
       "      <th>1</th>\n",
       "      <td>1</td>\n",
       "      <td>1</td>\n",
       "      <td>0</td>\n",
       "      <td>38.0</td>\n",
       "      <td>1</td>\n",
       "      <td>0</td>\n",
       "      <td>71.2833</td>\n",
       "    </tr>\n",
       "    <tr>\n",
       "      <th>2</th>\n",
       "      <td>1</td>\n",
       "      <td>3</td>\n",
       "      <td>0</td>\n",
       "      <td>26.0</td>\n",
       "      <td>0</td>\n",
       "      <td>0</td>\n",
       "      <td>7.9250</td>\n",
       "    </tr>\n",
       "    <tr>\n",
       "      <th>3</th>\n",
       "      <td>1</td>\n",
       "      <td>1</td>\n",
       "      <td>0</td>\n",
       "      <td>35.0</td>\n",
       "      <td>1</td>\n",
       "      <td>0</td>\n",
       "      <td>53.1000</td>\n",
       "    </tr>\n",
       "    <tr>\n",
       "      <th>4</th>\n",
       "      <td>0</td>\n",
       "      <td>3</td>\n",
       "      <td>1</td>\n",
       "      <td>35.0</td>\n",
       "      <td>0</td>\n",
       "      <td>0</td>\n",
       "      <td>8.0500</td>\n",
       "    </tr>\n",
       "  </tbody>\n",
       "</table>\n",
       "</div>"
      ],
      "text/plain": [
       "   Survived  Pclass  Sex   Age  SibSp  Parch     Fare\n",
       "0         0       3    1  22.0      1      0   7.2500\n",
       "1         1       1    0  38.0      1      0  71.2833\n",
       "2         1       3    0  26.0      0      0   7.9250\n",
       "3         1       1    0  35.0      1      0  53.1000\n",
       "4         0       3    1  35.0      0      0   8.0500"
      ]
     },
     "execution_count": 30,
     "metadata": {},
     "output_type": "execute_result"
    },
    {
     "data": {
      "text/html": [
       "<div>\n",
       "<style scoped>\n",
       "    .dataframe tbody tr th:only-of-type {\n",
       "        vertical-align: middle;\n",
       "    }\n",
       "\n",
       "    .dataframe tbody tr th {\n",
       "        vertical-align: top;\n",
       "    }\n",
       "\n",
       "    .dataframe thead th {\n",
       "        text-align: right;\n",
       "    }\n",
       "</style>\n",
       "<table border=\"1\" class=\"dataframe\">\n",
       "  <thead>\n",
       "    <tr style=\"text-align: right;\">\n",
       "      <th></th>\n",
       "      <th>Survived</th>\n",
       "      <th>Pclass</th>\n",
       "      <th>Sex</th>\n",
       "      <th>Age</th>\n",
       "      <th>SibSp</th>\n",
       "      <th>Parch</th>\n",
       "      <th>Fare</th>\n",
       "    </tr>\n",
       "  </thead>\n",
       "  <tbody>\n",
       "    <tr>\n",
       "      <th>0</th>\n",
       "      <td>0</td>\n",
       "      <td>3</td>\n",
       "      <td>1</td>\n",
       "      <td>27.0</td>\n",
       "      <td>1</td>\n",
       "      <td>0</td>\n",
       "      <td>14.4542</td>\n",
       "    </tr>\n",
       "    <tr>\n",
       "      <th>1</th>\n",
       "      <td>1</td>\n",
       "      <td>1</td>\n",
       "      <td>1</td>\n",
       "      <td>42.0</td>\n",
       "      <td>1</td>\n",
       "      <td>0</td>\n",
       "      <td>52.5542</td>\n",
       "    </tr>\n",
       "    <tr>\n",
       "      <th>2</th>\n",
       "      <td>1</td>\n",
       "      <td>3</td>\n",
       "      <td>1</td>\n",
       "      <td>20.0</td>\n",
       "      <td>1</td>\n",
       "      <td>1</td>\n",
       "      <td>15.7417</td>\n",
       "    </tr>\n",
       "    <tr>\n",
       "      <th>3</th>\n",
       "      <td>0</td>\n",
       "      <td>3</td>\n",
       "      <td>1</td>\n",
       "      <td>21.0</td>\n",
       "      <td>0</td>\n",
       "      <td>0</td>\n",
       "      <td>7.8542</td>\n",
       "    </tr>\n",
       "    <tr>\n",
       "      <th>4</th>\n",
       "      <td>0</td>\n",
       "      <td>3</td>\n",
       "      <td>1</td>\n",
       "      <td>21.0</td>\n",
       "      <td>0</td>\n",
       "      <td>0</td>\n",
       "      <td>16.1000</td>\n",
       "    </tr>\n",
       "  </tbody>\n",
       "</table>\n",
       "</div>"
      ],
      "text/plain": [
       "   Survived  Pclass  Sex   Age  SibSp  Parch     Fare\n",
       "0         0       3    1  27.0      1      0  14.4542\n",
       "1         1       1    1  42.0      1      0  52.5542\n",
       "2         1       3    1  20.0      1      1  15.7417\n",
       "3         0       3    1  21.0      0      0   7.8542\n",
       "4         0       3    1  21.0      0      0  16.1000"
      ]
     },
     "execution_count": 30,
     "metadata": {},
     "output_type": "execute_result"
    }
   ],
   "source": [
    "trainData.head()\n",
    "testData.head()"
   ]
  },
  {
   "cell_type": "markdown",
   "id": "349b3963",
   "metadata": {},
   "source": [
    "<h2>Separating dependent and Independent Variables</h2>"
   ]
  },
  {
   "cell_type": "code",
   "execution_count": 31,
   "id": "a12bacd1",
   "metadata": {},
   "outputs": [],
   "source": [
    "trainY=np.array(trainData['Survived'])"
   ]
  },
  {
   "cell_type": "code",
   "execution_count": 32,
   "id": "064a741e",
   "metadata": {},
   "outputs": [],
   "source": [
    "testY=np.array(testData['Survived'])"
   ]
  },
  {
   "cell_type": "markdown",
   "id": "c3126264",
   "metadata": {},
   "source": [
    "<h2>Setting up Classes and functions for Decision Tree</h2>"
   ]
  },
  {
   "cell_type": "code",
   "execution_count": 33,
   "id": "663d3f63",
   "metadata": {},
   "outputs": [],
   "source": [
    "def entropy(column):\n",
    "    data, counts = np.unique(column, return_counts=True)\n",
    "    N = float(column.shape[0])\n",
    "    ent = 0.0\n",
    "    for i in counts:\n",
    "        p = i/N\n",
    "        ent += p*np.log2(p)\n",
    "    return -ent"
   ]
  },
  {
   "cell_type": "code",
   "execution_count": 34,
   "id": "91b9be4b",
   "metadata": {},
   "outputs": [],
   "source": [
    "def divideData(dataX, fkey, fval):\n",
    "    rightX = pd.DataFrame([], columns=dataX.columns)\n",
    "    leftX = pd.DataFrame([], columns=dataX.columns)\n",
    "    \n",
    "    for i in range(dataX.shape[0]):\n",
    "        val = dataX[fkey].iloc[i]\n",
    "        if val > fval:\n",
    "            rightX = rightX.append(dataX.loc[i])\n",
    "        else:\n",
    "            leftX = leftX.append(dataX.loc[i])\n",
    "    return leftX, rightX"
   ]
  },
  {
   "cell_type": "code",
   "execution_count": 35,
   "id": "25a64774",
   "metadata": {},
   "outputs": [],
   "source": [
    "def informationGain(dataX, fkey, fval):\n",
    "    left, right = divideData(dataX, fkey, fval)\n",
    "    \n",
    "    # % of examples in left and right\n",
    "    l = float(left.shape[0]) / dataX.shape[0]\n",
    "    r = float(right.shape[0]) / dataX.shape[0]\n",
    "    hs = entropy(dataX.Survived)\n",
    "    igain = hs - (l * entropy(left.Survived) + r * entropy(right.Survived))\n",
    "    return igain"
   ]
  },
  {
   "cell_type": "code",
   "execution_count": 36,
   "id": "4f6a8357",
   "metadata": {},
   "outputs": [],
   "source": [
    "class DecisionTree:\n",
    "    \n",
    "    def __init__(self, depth=0, maxDepth=5):\n",
    "        self.left = None\n",
    "        self.right = None\n",
    "        self.fkey = None\n",
    "        self.fval = None\n",
    "        self.maxDepth = maxDepth\n",
    "        self.depth = depth\n",
    "        self.target = None \n",
    "        \n",
    "    def fit(self, trainData):\n",
    "        features = ['Pclass', 'Sex', 'Age', 'SibSp', 'Parch', 'Fare']\n",
    "        infoGains = []\n",
    "        \n",
    "        for i in features:\n",
    "            iGain = informationGain(trainData, i, trainData[i].mean())\n",
    "            infoGains.append(iGain)\n",
    "\n",
    "        self.fkey = features[np.argmax(infoGains)]\n",
    "        self.fval = trainData[self.fkey].mean()\n",
    "        \n",
    "        # splitting the data\n",
    "        dataLeft, dataRight = divideData(trainData, self.fkey, self.fval)\n",
    "        # reset_index will reset the index again from starting for each subpart\n",
    "        dataLeft = dataLeft.reset_index(drop=True)\n",
    "        dataRight = dataRight.reset_index(drop=True)\n",
    "        \n",
    "        # leaf node\n",
    "        if dataLeft.shape[0] == 0 or dataRight.shape[0] == 0:\n",
    "            if trainData.Survived.mean() >= 0.5:\n",
    "                self.target = 1\n",
    "            else:\n",
    "                self.target = 0\n",
    "            return\n",
    "                \n",
    "        # limitting depth to max Depths only\n",
    "        if self.depth >= self.maxDepth:\n",
    "            if trainData.Survived.mean() >= 0.5:\n",
    "                self.target = 1\n",
    "            else:\n",
    "                self.target = 0\n",
    "            return\n",
    "    \n",
    "        self.left = DecisionTree(depth=self.depth + 1)\n",
    "        self.left.fit(dataLeft)\n",
    "        \n",
    "        self.right = DecisionTree(depth=self.depth + 1)\n",
    "        self.right.fit(dataRight)\n",
    "        \n",
    "        if trainData.Survived.mean() >= 0.5:\n",
    "            self.target = 1\n",
    "        else:\n",
    "            self.target = 0\n",
    "        return\n",
    "    \n",
    "    def predict(self, test):\n",
    "        if test[self.fkey] > self.fval:\n",
    "            if self.right is None:\n",
    "                return self.target\n",
    "            return self.right.predict(test)\n",
    "        else:\n",
    "            if self.left is None:\n",
    "                return self.target\n",
    "            return self.left.predict(test)"
   ]
  },
  {
   "cell_type": "code",
   "execution_count": 37,
   "id": "1987ed6f",
   "metadata": {},
   "outputs": [],
   "source": [
    "dt = DecisionTree()\n",
    "trainData = trainData.reset_index(drop=True)"
   ]
  },
  {
   "cell_type": "code",
   "execution_count": 38,
   "id": "4339aac6",
   "metadata": {},
   "outputs": [],
   "source": [
    "dt.fit(trainData)"
   ]
  },
  {
   "cell_type": "markdown",
   "id": "c6cc7074",
   "metadata": {},
   "source": [
    "<h2>Finding Result and stats such as confusion matrix, accuracy, recall F1 score, Precision</h2>"
   ]
  },
  {
   "cell_type": "code",
   "execution_count": 39,
   "id": "e0d24cc2",
   "metadata": {},
   "outputs": [],
   "source": [
    "predictTestY= []\n",
    "for i in range(testData.shape[0]):\n",
    "    predictTestY.append(dt.predict(testData.loc[i]))\n",
    "predictTrainY=[]\n",
    "for i in range(trainData.shape[0]):\n",
    "    predictTrainY.append(dt.predict(trainData.loc[i]))"
   ]
  },
  {
   "cell_type": "code",
   "execution_count": 40,
   "id": "b1aa93ef",
   "metadata": {},
   "outputs": [],
   "source": [
    "def computeConfusionMatrix(predictY,trueY):\n",
    "    result=np.zeros((2,2))\n",
    "    for i in range(len(trueY)):\n",
    "        result[trueY[i]][predictY[i]]+=1\n",
    "    df=pd.DataFrame(result,columns=['Yes','No'],index=['Yes','No'])\n",
    "    return df"
   ]
  },
  {
   "cell_type": "code",
   "execution_count": 41,
   "id": "619cb60f",
   "metadata": {},
   "outputs": [
    {
     "data": {
      "text/plain": [
       "<AxesSubplot:>"
      ]
     },
     "execution_count": 41,
     "metadata": {},
     "output_type": "execute_result"
    },
    {
     "data": {
      "text/plain": [
       "Text(0.5, 15.0, 'Predicted Class')"
      ]
     },
     "execution_count": 41,
     "metadata": {},
     "output_type": "execute_result"
    },
    {
     "data": {
      "text/plain": [
       "Text(33.0, 0.5, 'Actual Class')"
      ]
     },
     "execution_count": 41,
     "metadata": {},
     "output_type": "execute_result"
    },
    {
     "name": "stdout",
     "output_type": "stream",
     "text": [
      "Testing Class\n"
     ]
    },
    {
     "data": {
      "image/png": "[encoded data removed]",
      "text/plain": [
       "<Figure size 432x288 with 2 Axes>"
      ]
     },
     "metadata": {
      "image/png": {
       "height": 265,
       "width": 366
      },
      "needs_background": "light"
     },
     "output_type": "display_data"
    },
    {
     "name": "stdout",
     "output_type": "stream",
     "text": [
      "Total entries for Testing class 271.0\n"
     ]
    },
    {
     "data": {
      "text/plain": [
       "<AxesSubplot:>"
      ]
     },
     "execution_count": 41,
     "metadata": {},
     "output_type": "execute_result"
    },
    {
     "data": {
      "text/plain": [
       "Text(0.5, 15.0, 'Predicted Class')"
      ]
     },
     "execution_count": 41,
     "metadata": {},
     "output_type": "execute_result"
    },
    {
     "data": {
      "text/plain": [
       "Text(33.0, 0.5, 'Actual Class')"
      ]
     },
     "execution_count": 41,
     "metadata": {},
     "output_type": "execute_result"
    },
    {
     "name": "stdout",
     "output_type": "stream",
     "text": [
      "Training Class\n"
     ]
    },
    {
     "data": {
      "image/png": "[encoded data removed]",
      "text/plain": [
       "<Figure size 432x288 with 2 Axes>"
      ]
     },
     "metadata": {
      "image/png": {
       "height": 261,
       "width": 366
      },
      "needs_background": "light"
     },
     "output_type": "display_data"
    },
    {
     "name": "stdout",
     "output_type": "stream",
     "text": [
      "Total entries for Training class 620.0\n"
     ]
    }
   ],
   "source": [
    "confMatrixTest=computeConfusionMatrix(predictTestY,testY)\n",
    "sns.heatmap(confMatrixTest, annot=True,fmt='g', cmap='Blues')\n",
    "plt.xlabel(\"Predicted Class\")\n",
    "plt.ylabel(\"Actual Class\")\n",
    "print('Testing Class')\n",
    "plt.show()\n",
    "print(\"Total entries for Testing class\",confMatrixTest.values.sum())\n",
    "confMatrixTrain=computeConfusionMatrix(predictTrainY,trainY)\n",
    "sns.heatmap(confMatrixTrain, annot=True,fmt='g', cmap='Blues')\n",
    "plt.xlabel(\"Predicted Class\")\n",
    "plt.ylabel(\"Actual Class\")\n",
    "print('Training Class')\n",
    "plt.show()\n",
    "print('Total entries for Training class',confMatrixTrain.values.sum())"
   ]
  },
  {
   "cell_type": "code",
   "execution_count": 42,
   "id": "cc80238c",
   "metadata": {},
   "outputs": [],
   "source": [
    "# Getting all true and false combination to pos and neg"
   ]
  },
  {
   "cell_type": "code",
   "execution_count": 43,
   "id": "98f3172b",
   "metadata": {},
   "outputs": [],
   "source": [
    "def printClassStats(className,cf):\n",
    "    print(className)\n",
    "    print(\"True Positives = {:.0f}\".format(cf.iat[0,0]))\n",
    "    print(\"True Negatives = {:.0f}\".format(cf.iat[1,1]))\n",
    "    print(\"False Positives = {:.0f}\".format(cf.iat[1,0]))\n",
    "    print(\"False Negatives = {:.0f}\".format(cf.iat[0,1]))\n",
    "    print(\"Total Entries = {:.0f}\".format(cf.values.sum()))"
   ]
  },
  {
   "cell_type": "code",
   "execution_count": 44,
   "id": "b67c1fb6",
   "metadata": {
    "scrolled": true
   },
   "outputs": [
    {
     "name": "stdout",
     "output_type": "stream",
     "text": [
      "Testing Class\n",
      "True Positives = 160\n",
      "True Negatives = 65\n",
      "False Positives = 33\n",
      "False Negatives = 13\n",
      "Total Entries = 271\n",
      "\n",
      "Training Class\n",
      "True Positives = 338\n",
      "True Negatives = 177\n",
      "False Positives = 67\n",
      "False Negatives = 38\n",
      "Total Entries = 620\n"
     ]
    }
   ],
   "source": [
    "printClassStats(\"Testing Class\",confMatrixTest)\n",
    "print()\n",
    "printClassStats(\"Training Class\",confMatrixTrain)"
   ]
  },
  {
   "cell_type": "code",
   "execution_count": 45,
   "id": "3480feb8",
   "metadata": {},
   "outputs": [],
   "source": [
    "# Printing stats"
   ]
  },
  {
   "cell_type": "code",
   "execution_count": 46,
   "id": "35406738",
   "metadata": {},
   "outputs": [],
   "source": [
    "def printStats(className,cf):\n",
    "    print(className)\n",
    "    print(\"Total Entries = {:.0f}\".format(cf.values.sum()))\n",
    "    accuracy=(cf.iat[0,0]+cf.iat[1,1])/cf.values.sum()\n",
    "    precision=cf.iat[0,0]/(cf.iat[0,0]+cf.iat[1,0])\n",
    "    recall=cf.iat[0,0]/(cf.iat[0,0]+cf.iat[0,1])\n",
    "    f1score=(2*recall*precision)/(recall+precision)\n",
    "    loss=(cf.iat[1,0]+cf.iat[0,1])/cf.values.sum()\n",
    "    print(\"Accuracy = {:.4f}%\".format(accuracy*100))\n",
    "    print(\"Precision = {:.4f}%\".format(precision*100))\n",
    "    print(\"Recall = {:.4f}%\".format(recall*100))\n",
    "    print(\"F1 Score = {:.4f}%\".format(f1score*100))\n",
    "    print(\"Loss = {:.4f}%\".format(loss*100))"
   ]
  },
  {
   "cell_type": "code",
   "execution_count": 47,
   "id": "a7e16503",
   "metadata": {},
   "outputs": [
    {
     "name": "stdout",
     "output_type": "stream",
     "text": [
      "Train Data\n",
      "Total Entries = 620\n",
      "Accuracy = 83.0645%\n",
      "Precision = 83.4568%\n",
      "Recall = 89.8936%\n",
      "F1 Score = 86.5557%\n",
      "Loss = 16.9355%\n",
      "\n",
      "Test Data\n",
      "Total Entries = 271\n",
      "Accuracy = 83.0258%\n",
      "Precision = 82.9016%\n",
      "Recall = 92.4855%\n",
      "F1 Score = 87.4317%\n",
      "Loss = 16.9742%\n"
     ]
    }
   ],
   "source": [
    "printStats('Train Data',confMatrixTrain)\n",
    "print()\n",
    "printStats('Test Data',confMatrixTest)"
   ]
  },
  {
   "cell_type": "markdown",
   "id": "ffe1fd88",
   "metadata": {},
   "source": [
    "<h2>References used for this assignment</h2>\n",
    "<p>\n",
    "    <ol>\n",
    "        <li>Used <a href=\"https://www.youtube.com/watch?v=qDcl-FRnwSU\">youtube</a> tutorials to understand Decision Tree</li>\n",
    "        <li>Used <a href=\"https://blog.exsilio.com/all/accuracy-precision-recall-f1-score-interpretation-of-performance-measures/\">Exsilio </a>blog for stats related to machine learning.</li>\n",
    "        <li>Coursera Course of Machine Learning by Andrew Ng</li>\n",
    "        <li>Documentations of Pandas, Seaborn, Matplotlib, Python and numpy</li>\n",
    "    </ol>\n",
    "</p>"
   ]
  }
 ],
 "metadata": {
  "kernelspec": {
   "display_name": "Python 3",
   "language": "python",
   "name": "python3"
  },
  "language_info": {
   "codemirror_mode": {
    "name": "ipython",
    "version": 3
   },
   "file_extension": ".py",
   "mimetype": "text/x-python",
   "name": "python",
   "nbconvert_exporter": "python",
   "pygments_lexer": "ipython3",
   "version": "3.8.5"
  }
 },
 "nbformat": 4,
 "nbformat_minor": 5
}
