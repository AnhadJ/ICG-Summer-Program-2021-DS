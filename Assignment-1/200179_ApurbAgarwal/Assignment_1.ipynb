{
  "nbformat": 4,
  "nbformat_minor": 0,
  "metadata": {
    "colab": {
      "name": "Assign_1.ipynb",
      "provenance": [],
      "collapsed_sections": []
    },
    "kernelspec": {
      "name": "python3",
      "display_name": "Python 3"
    },
    "language_info": {
      "name": "python"
    }
  },
  "cells": [
    {
      "cell_type": "code",
      "metadata": {
        "id": "WyuPLVPF4QEN"
      },
      "source": [
        "import csv\n",
        "import numpy as np\n",
        "import pandas as pd\n",
        "import matplotlib.pyplot as plt"
      ],
      "execution_count": 1,
      "outputs": []
    },
    {
      "cell_type": "code",
      "metadata": {
        "id": "hlnQ-YVJ8yMR"
      },
      "source": [
        "train_csv=pd.read_csv(filepath_or_buffer='https://raw.githubusercontent.com/agarwalapurb/ICG-Summer-Program-2021-DS/main/Assignment-1/data/train.csv')\n",
        "train_csv['Age'].fillna(train_csv['Age'].median(),inplace=True)\n",
        "train_csv.drop('PassengerId', inplace=True, axis=1)\n",
        "train_csv['Sex'].replace({'male':1,'female':2},inplace=True)\n",
        "train_y=(train_csv.pop('Survived')).to_numpy().reshape(1,-1)\n",
        "train_x=(train_csv.to_numpy()).T\n",
        "train_x=(train_x-(np.mean(train_x,axis=1).reshape(-1,1)))/(np.std(train_x,axis=1).reshape(-1,1))\n",
        "test_csv=pd.read_csv(filepath_or_buffer='https://raw.githubusercontent.com/agarwalapurb/ICG-Summer-Program-2021-DS/main/Assignment-1/data/test.csv')\n",
        "test_csv['Age'].fillna(test_csv['Age'].median(),inplace=True)\n",
        "test_csv.drop('PassengerId', inplace=True, axis=1)\n",
        "test_csv['Sex'].replace({'male':1,'female':2},inplace=True)\n",
        "test_y=(test_csv.pop('Survived')).to_numpy().reshape(1,-1)\n",
        "test_x=(test_csv.to_numpy()).T\n",
        "test_x = (test_x-(np.mean(test_x,axis=1).reshape(-1,1)))/(np.std(test_x,axis=1).reshape(-1,1))"
      ],
      "execution_count": 55,
      "outputs": []
    },
    {
      "cell_type": "code",
      "metadata": {
        "id": "DTbGbd3mFPJP"
      },
      "source": [
        "def sigmoid(x):\n",
        "  s = 1/(1+np.exp(-x))\n",
        "  return s"
      ],
      "execution_count": 4,
      "outputs": []
    },
    {
      "cell_type": "code",
      "metadata": {
        "id": "HIGaJse7FXPt"
      },
      "source": [
        "def initialise(x):\n",
        "  w=np.abs(np.random.randn(x.shape[0],1))\n",
        "  b=0.0\n",
        "  return w, b"
      ],
      "execution_count": 5,
      "outputs": []
    },
    {
      "cell_type": "code",
      "metadata": {
        "id": "z-WHl5nEGrUz"
      },
      "source": [
        "def propagate(X,Y,w,b):\n",
        "  A=sigmoid(np.dot(w.T,X)+b)\n",
        "  loss=(-1/(X.shape[1]))*(np.dot(Y,np.log(A).T)+np.dot((1-Y),np.log(1-A).T))\n",
        "  #loss=np.squeeze(np.array(loss))\n",
        "  dw=(1/(X.shape[1]))*np.dot(X,(A-Y).T)\n",
        "  db=(1/(X.shape[1]))*np.sum(A-Y)\n",
        "  return dw, db, loss[0][0]"
      ],
      "execution_count": 6,
      "outputs": []
    },
    {
      "cell_type": "code",
      "metadata": {
        "id": "6T641kYVOPPi"
      },
      "source": [
        "def optimization(X,Y,w,b,lr,n):\n",
        "\n",
        "  for i in range(n):\n",
        "    dw,db,loss=propagate(X,Y,w,b)\n",
        "    w=w-lr*dw\n",
        "    b=b-lr*db\n",
        "  return w,b,loss"
      ],
      "execution_count": 7,
      "outputs": []
    },
    {
      "cell_type": "code",
      "metadata": {
        "id": "FJH1b-inPgNy"
      },
      "source": [
        "def predict(X,w,b):\n",
        "  A=sigmoid(np.dot(w.T,X)+b)\n",
        "  Y_predicted=[]\n",
        "  for i in range(len(A)):\n",
        "    if A[0][i]>0.5:\n",
        "      Y_predicted.append(1)\n",
        "    else:\n",
        "      Y_predicted.append(0)\n",
        "  Y_predicted=np.array(Y_predicted)\n",
        "  return Y_predicted"
      ],
      "execution_count": 8,
      "outputs": []
    },
    {
      "cell_type": "code",
      "metadata": {
        "id": "dkZ-GpjwJaS0"
      },
      "source": [
        "def plot1(train_x,train_y,test_x,test_y,lr,n):\n",
        "  tr_acc=[]\n",
        "  te_acc=[]\n",
        "  l=[]\n",
        "  num=[]\n",
        "  for i in range(4000,n,1000):\n",
        "    w,b=initialise(train_x)\n",
        "    w,b,loss=optimization(train_x,train_y,w,b,lr,i)\n",
        "    y_pred_tr=predict(train_x,w,b)\n",
        "    y_pred_te=predict(test_x,w,b)\n",
        "    l.append(loss)\n",
        "    tr_acc.append(100-np.mean(np.abs(y_pred_tr-train_y)*100))\n",
        "    te_acc.append(100-np.mean(np.abs(y_pred_te-test_y)*100))\n",
        "    num.append(i)\n",
        "  print(l)\n",
        "  plt.plot(num,l)\n",
        "  plt.show()\n",
        "  plt.plot(num,tr_acc)\n",
        "  plt.plot(num,te_acc)\n",
        "  plt.show()"
      ],
      "execution_count": 44,
      "outputs": []
    },
    {
      "cell_type": "code",
      "metadata": {
        "colab": {
          "base_uri": "https://localhost:8080/",
          "height": 550
        },
        "id": "omF6gfGtS9Hq",
        "outputId": "a9d1e606-6523-478e-808a-2e5d4bfe8deb"
      },
      "source": [
        "plot1(train_x,train_y,test_x,test_y,0.01,20000)"
      ],
      "execution_count": 57,
      "outputs": [
        {
          "output_type": "stream",
          "text": [
            "[0.4511085105342378, 0.45124097501667393, 0.45070535332783, 0.45059912426379517, 0.45063156207674104, 0.45057586791025434, 0.45051480275320865, 0.45051107847390975, 0.4505087697954267, 0.4505078797835538, 0.4505078583302031, 0.4505076641435384, 0.4505077167269884, 0.4505076667503666, 0.4505076577114715, 0.45050764800214876]\n"
          ],
          "name": "stdout"
        },
        {
          "output_type": "display_data",
          "data": {
            "image/png": "[encoded data removed]",
            "text/plain": [
              "<Figure size 432x288 with 1 Axes>"
            ]
          },
          "metadata": {
            "tags": [],
            "needs_background": "light"
          }
        },
        {
          "output_type": "display_data",
          "data": {
            "image/png": "[encoded data removed]",
            "text/plain": [
              "<Figure size 432x288 with 1 Axes>"
            ]
          },
          "metadata": {
            "tags": [],
            "needs_background": "light"
          }
        }
      ]
    },
    {
      "cell_type": "code",
      "metadata": {
        "id": "6-kL_enH3Mr5"
      },
      "source": [
        "def model(train_x,train_y,test_x,test_y,lr,n):\n",
        "    w,b=initialise(train_x)\n",
        "    w,b,loss=optimization(train_x,train_y,w,b,lr,n)\n",
        "    y_pred_tr=predict(train_x,w,b)\n",
        "    y_pred_te=predict(test_x,w,b)\n",
        "    tr_acc=100-np.mean(np.abs(y_pred_tr-train_y)*100)\n",
        "    te_acc=100-np.mean(np.abs(y_pred_te-test_y)*100)\n",
        "    print(f\"Train Accuracy - {tr_acc}\")\n",
        "    print(f\"Test Accuracy - {te_acc}\")"
      ],
      "execution_count": 31,
      "outputs": []
    },
    {
      "cell_type": "code",
      "metadata": {
        "colab": {
          "base_uri": "https://localhost:8080/"
        },
        "id": "d9HykSOyIitB",
        "outputId": "37f5a3be-1d42-4b69-a58b-db91713df4ac"
      },
      "source": [
        "model(train_x,train_y,test_x,test_y,0.01,10000)"
      ],
      "execution_count": 58,
      "outputs": [
        {
          "output_type": "stream",
          "text": [
            "Train Accuracy - 60.645161290322584\n",
            "Test Accuracy - 63.837638376383765\n"
          ],
          "name": "stdout"
        }
      ]
    },
    {
      "cell_type": "code",
      "metadata": {
        "id": "--_0Xnt_yElU"
      },
      "source": [
        "def plot2(train_x,train_y,test_x,test_y,lr,n):\n",
        "  tr_acc=[]\n",
        "  te_acc=[]\n",
        "  l=[]\n",
        "  num=[]\n",
        "  for i in range(1,lr,1):\n",
        "    w,b=initialise(train_x)\n",
        "    w,b,loss=optimization(train_x,train_y,w,b,i/1000,n)\n",
        "    y_pred_tr=predict(train_x,w,b)\n",
        "    y_pred_te=predict(test_x,w,b)\n",
        "    l.append(loss)\n",
        "    tr_acc.append(100-np.mean(np.abs(y_pred_tr-train_y)*100))\n",
        "    te_acc.append(100-np.mean(np.abs(y_pred_te-test_y)*100))\n",
        "    num.append(i)\n",
        "  print(l)\n",
        "  plt.plot(num,l)\n",
        "  plt.show()\n",
        "  plt.plot(num,tr_acc)\n",
        "  plt.plot(num,te_acc)\n",
        "  plt.show()"
      ],
      "execution_count": 63,
      "outputs": []
    },
    {
      "cell_type": "code",
      "metadata": {
        "colab": {
          "base_uri": "https://localhost:8080/",
          "height": 553
        },
        "id": "l5ELpBf57YGt",
        "outputId": "8ee5b2be-f47c-43a4-df1d-ab82c930865b"
      },
      "source": [
        "plot2(train_x,train_y,test_x,test_y,20,20000)"
      ],
      "execution_count": 66,
      "outputs": [
        {
          "output_type": "stream",
          "text": [
            "[0.4787825429938083, 0.4516073292030274, 0.4508159927967286, 0.4505498920128695, 0.4505193111360367, 0.45050857789944637, 0.4505077554423534, 0.4505076820686107, 0.45050764885754324, 0.45050764772488594, 0.45050764764297435, 0.45050764762208706, 0.450507647614014, 0.4505076476134422, 0.4505076476132783, 0.45050764761328266, 0.4505076476132692, 0.4505076476132679, 0.45050764761326784]\n"
          ],
          "name": "stdout"
        },
        {
          "output_type": "display_data",
          "data": {
            "image/png": "[encoded data removed]",
            "text/plain": [
              "<Figure size 432x288 with 1 Axes>"
            ]
          },
          "metadata": {
            "tags": [],
            "needs_background": "light"
          }
        },
        {
          "output_type": "display_data",
          "data": {
            "image/png": "[encoded data removed]",
            "text/plain": [
              "<Figure size 432x288 with 1 Axes>"
            ]
          },
          "metadata": {
            "tags": [],
            "needs_background": "light"
          }
        }
      ]
    }
  ]
}