{
 "cells": [
  {
   "cell_type": "markdown",
   "id": "ad644aae",
   "metadata": {},
   "source": [
    "<h1>Logistic Regression on Titanic Survival Data</h1>"
   ]
  },
  {
   "cell_type": "markdown",
   "id": "f895284d",
   "metadata": {},
   "source": [
    "<h2>Setting up libraries and files</h2>"
   ]
  },
  {
   "cell_type": "code",
   "execution_count": 142,
   "id": "6aa6d5d1",
   "metadata": {},
   "outputs": [],
   "source": [
    "#Import libraries and set configurations"
   ]
  },
  {
   "cell_type": "code",
   "execution_count": 143,
   "id": "1ff33daa",
   "metadata": {},
   "outputs": [],
   "source": [
    "import numpy as np\n",
    "import pandas as pd\n",
    "import seaborn as sns\n",
    "import matplotlib.pyplot as plt\n",
    "from IPython.core.interactiveshell import InteractiveShell\n",
    "InteractiveShell.ast_node_interactivity = \"all\"\n",
    "%matplotlib inline\n",
    "%config InlineBackend.figure_format = 'retina'"
   ]
  },
  {
   "cell_type": "code",
   "execution_count": 144,
   "id": "ff2b9fdf",
   "metadata": {},
   "outputs": [],
   "source": [
    "#Load the train and test data"
   ]
  },
  {
   "cell_type": "code",
   "execution_count": 145,
   "id": "c4a31690",
   "metadata": {},
   "outputs": [],
   "source": [
    "trainData = pd.read_csv('../data/train.csv')\n",
    "testData = pd.read_csv('../data/test.csv')"
   ]
  },
  {
   "cell_type": "code",
   "execution_count": 146,
   "id": "3f6cd70b",
   "metadata": {},
   "outputs": [],
   "source": [
    "#View the data using head functions"
   ]
  },
  {
   "cell_type": "code",
   "execution_count": 147,
   "id": "5e0381aa",
   "metadata": {},
   "outputs": [
    {
     "name": "stdout",
     "output_type": "stream",
     "text": [
      "Train Data\n"
     ]
    },
    {
     "data": {
      "text/html": [
       "<div>\n",
       "<style scoped>\n",
       "    .dataframe tbody tr th:only-of-type {\n",
       "        vertical-align: middle;\n",
       "    }\n",
       "\n",
       "    .dataframe tbody tr th {\n",
       "        vertical-align: top;\n",
       "    }\n",
       "\n",
       "    .dataframe thead th {\n",
       "        text-align: right;\n",
       "    }\n",
       "</style>\n",
       "<table border=\"1\" class=\"dataframe\">\n",
       "  <thead>\n",
       "    <tr style=\"text-align: right;\">\n",
       "      <th></th>\n",
       "      <th>PassengerId</th>\n",
       "      <th>Survived</th>\n",
       "      <th>Pclass</th>\n",
       "      <th>Sex</th>\n",
       "      <th>Age</th>\n",
       "      <th>SibSp</th>\n",
       "      <th>Parch</th>\n",
       "      <th>Fare</th>\n",
       "    </tr>\n",
       "  </thead>\n",
       "  <tbody>\n",
       "    <tr>\n",
       "      <th>0</th>\n",
       "      <td>1</td>\n",
       "      <td>0</td>\n",
       "      <td>3</td>\n",
       "      <td>male</td>\n",
       "      <td>22.0</td>\n",
       "      <td>1</td>\n",
       "      <td>0</td>\n",
       "      <td>7.2500</td>\n",
       "    </tr>\n",
       "    <tr>\n",
       "      <th>1</th>\n",
       "      <td>2</td>\n",
       "      <td>1</td>\n",
       "      <td>1</td>\n",
       "      <td>female</td>\n",
       "      <td>38.0</td>\n",
       "      <td>1</td>\n",
       "      <td>0</td>\n",
       "      <td>71.2833</td>\n",
       "    </tr>\n",
       "    <tr>\n",
       "      <th>2</th>\n",
       "      <td>3</td>\n",
       "      <td>1</td>\n",
       "      <td>3</td>\n",
       "      <td>female</td>\n",
       "      <td>26.0</td>\n",
       "      <td>0</td>\n",
       "      <td>0</td>\n",
       "      <td>7.9250</td>\n",
       "    </tr>\n",
       "    <tr>\n",
       "      <th>3</th>\n",
       "      <td>4</td>\n",
       "      <td>1</td>\n",
       "      <td>1</td>\n",
       "      <td>female</td>\n",
       "      <td>35.0</td>\n",
       "      <td>1</td>\n",
       "      <td>0</td>\n",
       "      <td>53.1000</td>\n",
       "    </tr>\n",
       "    <tr>\n",
       "      <th>4</th>\n",
       "      <td>5</td>\n",
       "      <td>0</td>\n",
       "      <td>3</td>\n",
       "      <td>male</td>\n",
       "      <td>35.0</td>\n",
       "      <td>0</td>\n",
       "      <td>0</td>\n",
       "      <td>8.0500</td>\n",
       "    </tr>\n",
       "  </tbody>\n",
       "</table>\n",
       "</div>"
      ],
      "text/plain": [
       "   PassengerId  Survived  Pclass     Sex   Age  SibSp  Parch     Fare\n",
       "0            1         0       3    male  22.0      1      0   7.2500\n",
       "1            2         1       1  female  38.0      1      0  71.2833\n",
       "2            3         1       3  female  26.0      0      0   7.9250\n",
       "3            4         1       1  female  35.0      1      0  53.1000\n",
       "4            5         0       3    male  35.0      0      0   8.0500"
      ]
     },
     "execution_count": 147,
     "metadata": {},
     "output_type": "execute_result"
    },
    {
     "name": "stdout",
     "output_type": "stream",
     "text": [
      "Test Data\n"
     ]
    },
    {
     "data": {
      "text/html": [
       "<div>\n",
       "<style scoped>\n",
       "    .dataframe tbody tr th:only-of-type {\n",
       "        vertical-align: middle;\n",
       "    }\n",
       "\n",
       "    .dataframe tbody tr th {\n",
       "        vertical-align: top;\n",
       "    }\n",
       "\n",
       "    .dataframe thead th {\n",
       "        text-align: right;\n",
       "    }\n",
       "</style>\n",
       "<table border=\"1\" class=\"dataframe\">\n",
       "  <thead>\n",
       "    <tr style=\"text-align: right;\">\n",
       "      <th></th>\n",
       "      <th>PassengerId</th>\n",
       "      <th>Survived</th>\n",
       "      <th>Pclass</th>\n",
       "      <th>Sex</th>\n",
       "      <th>Age</th>\n",
       "      <th>SibSp</th>\n",
       "      <th>Parch</th>\n",
       "      <th>Fare</th>\n",
       "    </tr>\n",
       "  </thead>\n",
       "  <tbody>\n",
       "    <tr>\n",
       "      <th>0</th>\n",
       "      <td>621</td>\n",
       "      <td>0</td>\n",
       "      <td>3</td>\n",
       "      <td>male</td>\n",
       "      <td>27.0</td>\n",
       "      <td>1</td>\n",
       "      <td>0</td>\n",
       "      <td>14.4542</td>\n",
       "    </tr>\n",
       "    <tr>\n",
       "      <th>1</th>\n",
       "      <td>622</td>\n",
       "      <td>1</td>\n",
       "      <td>1</td>\n",
       "      <td>male</td>\n",
       "      <td>42.0</td>\n",
       "      <td>1</td>\n",
       "      <td>0</td>\n",
       "      <td>52.5542</td>\n",
       "    </tr>\n",
       "    <tr>\n",
       "      <th>2</th>\n",
       "      <td>623</td>\n",
       "      <td>1</td>\n",
       "      <td>3</td>\n",
       "      <td>male</td>\n",
       "      <td>20.0</td>\n",
       "      <td>1</td>\n",
       "      <td>1</td>\n",
       "      <td>15.7417</td>\n",
       "    </tr>\n",
       "    <tr>\n",
       "      <th>3</th>\n",
       "      <td>624</td>\n",
       "      <td>0</td>\n",
       "      <td>3</td>\n",
       "      <td>male</td>\n",
       "      <td>21.0</td>\n",
       "      <td>0</td>\n",
       "      <td>0</td>\n",
       "      <td>7.8542</td>\n",
       "    </tr>\n",
       "    <tr>\n",
       "      <th>4</th>\n",
       "      <td>625</td>\n",
       "      <td>0</td>\n",
       "      <td>3</td>\n",
       "      <td>male</td>\n",
       "      <td>21.0</td>\n",
       "      <td>0</td>\n",
       "      <td>0</td>\n",
       "      <td>16.1000</td>\n",
       "    </tr>\n",
       "  </tbody>\n",
       "</table>\n",
       "</div>"
      ],
      "text/plain": [
       "   PassengerId  Survived  Pclass   Sex   Age  SibSp  Parch     Fare\n",
       "0          621         0       3  male  27.0      1      0  14.4542\n",
       "1          622         1       1  male  42.0      1      0  52.5542\n",
       "2          623         1       3  male  20.0      1      1  15.7417\n",
       "3          624         0       3  male  21.0      0      0   7.8542\n",
       "4          625         0       3  male  21.0      0      0  16.1000"
      ]
     },
     "execution_count": 147,
     "metadata": {},
     "output_type": "execute_result"
    }
   ],
   "source": [
    "print('Train Data')\n",
    "trainData.head()\n",
    "print('Test Data')\n",
    "testData.head()"
   ]
  },
  {
   "cell_type": "code",
   "execution_count": 148,
   "id": "0d1d38df",
   "metadata": {},
   "outputs": [
    {
     "name": "stdout",
     "output_type": "stream",
     "text": [
      "<class 'pandas.core.frame.DataFrame'>\n",
      "RangeIndex: 620 entries, 0 to 619\n",
      "Data columns (total 8 columns):\n",
      " #   Column       Non-Null Count  Dtype  \n",
      "---  ------       --------------  -----  \n",
      " 0   PassengerId  620 non-null    int64  \n",
      " 1   Survived     620 non-null    int64  \n",
      " 2   Pclass       620 non-null    int64  \n",
      " 3   Sex          620 non-null    object \n",
      " 4   Age          489 non-null    float64\n",
      " 5   SibSp        620 non-null    int64  \n",
      " 6   Parch        620 non-null    int64  \n",
      " 7   Fare         620 non-null    float64\n",
      "dtypes: float64(2), int64(5), object(1)\n",
      "memory usage: 38.9+ KB\n",
      "\n",
      "<class 'pandas.core.frame.DataFrame'>\n",
      "RangeIndex: 271 entries, 0 to 270\n",
      "Data columns (total 8 columns):\n",
      " #   Column       Non-Null Count  Dtype  \n",
      "---  ------       --------------  -----  \n",
      " 0   PassengerId  271 non-null    int64  \n",
      " 1   Survived     271 non-null    int64  \n",
      " 2   Pclass       271 non-null    int64  \n",
      " 3   Sex          271 non-null    object \n",
      " 4   Age          225 non-null    float64\n",
      " 5   SibSp        271 non-null    int64  \n",
      " 6   Parch        271 non-null    int64  \n",
      " 7   Fare         271 non-null    float64\n",
      "dtypes: float64(2), int64(5), object(1)\n",
      "memory usage: 17.1+ KB\n"
     ]
    }
   ],
   "source": [
    "trainData.info()\n",
    "print()\n",
    "testData.info()"
   ]
  },
  {
   "cell_type": "code",
   "execution_count": 149,
   "id": "6fe533d5",
   "metadata": {},
   "outputs": [
    {
     "data": {
      "text/plain": [
       "RangeIndex(start=0, stop=620, step=1)"
      ]
     },
     "execution_count": 149,
     "metadata": {},
     "output_type": "execute_result"
    },
    {
     "data": {
      "text/plain": [
       "RangeIndex(start=0, stop=271, step=1)"
      ]
     },
     "execution_count": 149,
     "metadata": {},
     "output_type": "execute_result"
    }
   ],
   "source": [
    "trainData.index\n",
    "testData.index"
   ]
  },
  {
   "cell_type": "code",
   "execution_count": 150,
   "id": "03436ae2",
   "metadata": {},
   "outputs": [
    {
     "data": {
      "text/plain": [
       "Index(['PassengerId', 'Survived', 'Pclass', 'Sex', 'Age', 'SibSp', 'Parch',\n",
       "       'Fare'],\n",
       "      dtype='object')"
      ]
     },
     "execution_count": 150,
     "metadata": {},
     "output_type": "execute_result"
    },
    {
     "data": {
      "text/plain": [
       "Index(['PassengerId', 'Survived', 'Pclass', 'Sex', 'Age', 'SibSp', 'Parch',\n",
       "       'Fare'],\n",
       "      dtype='object')"
      ]
     },
     "execution_count": 150,
     "metadata": {},
     "output_type": "execute_result"
    }
   ],
   "source": [
    "trainData.columns\n",
    "testData.columns"
   ]
  },
  {
   "cell_type": "code",
   "execution_count": 151,
   "id": "767938f6",
   "metadata": {},
   "outputs": [
    {
     "data": {
      "text/html": [
       "<div>\n",
       "<style scoped>\n",
       "    .dataframe tbody tr th:only-of-type {\n",
       "        vertical-align: middle;\n",
       "    }\n",
       "\n",
       "    .dataframe tbody tr th {\n",
       "        vertical-align: top;\n",
       "    }\n",
       "\n",
       "    .dataframe thead th {\n",
       "        text-align: right;\n",
       "    }\n",
       "</style>\n",
       "<table border=\"1\" class=\"dataframe\">\n",
       "  <thead>\n",
       "    <tr style=\"text-align: right;\">\n",
       "      <th></th>\n",
       "      <th>PassengerId</th>\n",
       "      <th>Survived</th>\n",
       "      <th>Pclass</th>\n",
       "      <th>Age</th>\n",
       "      <th>SibSp</th>\n",
       "      <th>Parch</th>\n",
       "      <th>Fare</th>\n",
       "    </tr>\n",
       "  </thead>\n",
       "  <tbody>\n",
       "    <tr>\n",
       "      <th>count</th>\n",
       "      <td>620.000000</td>\n",
       "      <td>620.000000</td>\n",
       "      <td>620.000000</td>\n",
       "      <td>489.000000</td>\n",
       "      <td>620.000000</td>\n",
       "      <td>620.000000</td>\n",
       "      <td>620.000000</td>\n",
       "    </tr>\n",
       "    <tr>\n",
       "      <th>mean</th>\n",
       "      <td>310.500000</td>\n",
       "      <td>0.393548</td>\n",
       "      <td>2.309677</td>\n",
       "      <td>29.781186</td>\n",
       "      <td>0.538710</td>\n",
       "      <td>0.382258</td>\n",
       "      <td>31.746982</td>\n",
       "    </tr>\n",
       "    <tr>\n",
       "      <th>std</th>\n",
       "      <td>179.122863</td>\n",
       "      <td>0.488931</td>\n",
       "      <td>0.833993</td>\n",
       "      <td>14.404998</td>\n",
       "      <td>1.086018</td>\n",
       "      <td>0.792131</td>\n",
       "      <td>45.907139</td>\n",
       "    </tr>\n",
       "    <tr>\n",
       "      <th>min</th>\n",
       "      <td>1.000000</td>\n",
       "      <td>0.000000</td>\n",
       "      <td>1.000000</td>\n",
       "      <td>0.750000</td>\n",
       "      <td>0.000000</td>\n",
       "      <td>0.000000</td>\n",
       "      <td>0.000000</td>\n",
       "    </tr>\n",
       "    <tr>\n",
       "      <th>25%</th>\n",
       "      <td>155.750000</td>\n",
       "      <td>0.000000</td>\n",
       "      <td>2.000000</td>\n",
       "      <td>21.000000</td>\n",
       "      <td>0.000000</td>\n",
       "      <td>0.000000</td>\n",
       "      <td>7.925000</td>\n",
       "    </tr>\n",
       "    <tr>\n",
       "      <th>50%</th>\n",
       "      <td>310.500000</td>\n",
       "      <td>0.000000</td>\n",
       "      <td>3.000000</td>\n",
       "      <td>28.000000</td>\n",
       "      <td>0.000000</td>\n",
       "      <td>0.000000</td>\n",
       "      <td>14.750000</td>\n",
       "    </tr>\n",
       "    <tr>\n",
       "      <th>75%</th>\n",
       "      <td>465.250000</td>\n",
       "      <td>1.000000</td>\n",
       "      <td>3.000000</td>\n",
       "      <td>38.000000</td>\n",
       "      <td>1.000000</td>\n",
       "      <td>0.000000</td>\n",
       "      <td>30.548950</td>\n",
       "    </tr>\n",
       "    <tr>\n",
       "      <th>max</th>\n",
       "      <td>620.000000</td>\n",
       "      <td>1.000000</td>\n",
       "      <td>3.000000</td>\n",
       "      <td>71.000000</td>\n",
       "      <td>8.000000</td>\n",
       "      <td>5.000000</td>\n",
       "      <td>512.329200</td>\n",
       "    </tr>\n",
       "  </tbody>\n",
       "</table>\n",
       "</div>"
      ],
      "text/plain": [
       "       PassengerId    Survived      Pclass         Age       SibSp  \\\n",
       "count   620.000000  620.000000  620.000000  489.000000  620.000000   \n",
       "mean    310.500000    0.393548    2.309677   29.781186    0.538710   \n",
       "std     179.122863    0.488931    0.833993   14.404998    1.086018   \n",
       "min       1.000000    0.000000    1.000000    0.750000    0.000000   \n",
       "25%     155.750000    0.000000    2.000000   21.000000    0.000000   \n",
       "50%     310.500000    0.000000    3.000000   28.000000    0.000000   \n",
       "75%     465.250000    1.000000    3.000000   38.000000    1.000000   \n",
       "max     620.000000    1.000000    3.000000   71.000000    8.000000   \n",
       "\n",
       "            Parch        Fare  \n",
       "count  620.000000  620.000000  \n",
       "mean     0.382258   31.746982  \n",
       "std      0.792131   45.907139  \n",
       "min      0.000000    0.000000  \n",
       "25%      0.000000    7.925000  \n",
       "50%      0.000000   14.750000  \n",
       "75%      0.000000   30.548950  \n",
       "max      5.000000  512.329200  "
      ]
     },
     "execution_count": 151,
     "metadata": {},
     "output_type": "execute_result"
    },
    {
     "data": {
      "text/html": [
       "<div>\n",
       "<style scoped>\n",
       "    .dataframe tbody tr th:only-of-type {\n",
       "        vertical-align: middle;\n",
       "    }\n",
       "\n",
       "    .dataframe tbody tr th {\n",
       "        vertical-align: top;\n",
       "    }\n",
       "\n",
       "    .dataframe thead th {\n",
       "        text-align: right;\n",
       "    }\n",
       "</style>\n",
       "<table border=\"1\" class=\"dataframe\">\n",
       "  <thead>\n",
       "    <tr style=\"text-align: right;\">\n",
       "      <th></th>\n",
       "      <th>PassengerId</th>\n",
       "      <th>Survived</th>\n",
       "      <th>Pclass</th>\n",
       "      <th>Age</th>\n",
       "      <th>SibSp</th>\n",
       "      <th>Parch</th>\n",
       "      <th>Fare</th>\n",
       "    </tr>\n",
       "  </thead>\n",
       "  <tbody>\n",
       "    <tr>\n",
       "      <th>count</th>\n",
       "      <td>271.000000</td>\n",
       "      <td>271.000000</td>\n",
       "      <td>271.000000</td>\n",
       "      <td>225.000000</td>\n",
       "      <td>271.000000</td>\n",
       "      <td>271.000000</td>\n",
       "      <td>271.000000</td>\n",
       "    </tr>\n",
       "    <tr>\n",
       "      <th>mean</th>\n",
       "      <td>756.000000</td>\n",
       "      <td>0.361624</td>\n",
       "      <td>2.306273</td>\n",
       "      <td>29.520756</td>\n",
       "      <td>0.487085</td>\n",
       "      <td>0.380074</td>\n",
       "      <td>33.250261</td>\n",
       "    </tr>\n",
       "    <tr>\n",
       "      <th>std</th>\n",
       "      <td>78.375166</td>\n",
       "      <td>0.481360</td>\n",
       "      <td>0.842350</td>\n",
       "      <td>14.817980</td>\n",
       "      <td>1.141320</td>\n",
       "      <td>0.838545</td>\n",
       "      <td>57.505283</td>\n",
       "    </tr>\n",
       "    <tr>\n",
       "      <th>min</th>\n",
       "      <td>621.000000</td>\n",
       "      <td>0.000000</td>\n",
       "      <td>1.000000</td>\n",
       "      <td>0.420000</td>\n",
       "      <td>0.000000</td>\n",
       "      <td>0.000000</td>\n",
       "      <td>0.000000</td>\n",
       "    </tr>\n",
       "    <tr>\n",
       "      <th>25%</th>\n",
       "      <td>688.500000</td>\n",
       "      <td>0.000000</td>\n",
       "      <td>2.000000</td>\n",
       "      <td>20.000000</td>\n",
       "      <td>0.000000</td>\n",
       "      <td>0.000000</td>\n",
       "      <td>7.895800</td>\n",
       "    </tr>\n",
       "    <tr>\n",
       "      <th>50%</th>\n",
       "      <td>756.000000</td>\n",
       "      <td>0.000000</td>\n",
       "      <td>3.000000</td>\n",
       "      <td>28.000000</td>\n",
       "      <td>0.000000</td>\n",
       "      <td>0.000000</td>\n",
       "      <td>13.000000</td>\n",
       "    </tr>\n",
       "    <tr>\n",
       "      <th>75%</th>\n",
       "      <td>823.500000</td>\n",
       "      <td>1.000000</td>\n",
       "      <td>3.000000</td>\n",
       "      <td>39.000000</td>\n",
       "      <td>1.000000</td>\n",
       "      <td>0.000000</td>\n",
       "      <td>31.797900</td>\n",
       "    </tr>\n",
       "    <tr>\n",
       "      <th>max</th>\n",
       "      <td>891.000000</td>\n",
       "      <td>1.000000</td>\n",
       "      <td>3.000000</td>\n",
       "      <td>80.000000</td>\n",
       "      <td>8.000000</td>\n",
       "      <td>6.000000</td>\n",
       "      <td>512.329200</td>\n",
       "    </tr>\n",
       "  </tbody>\n",
       "</table>\n",
       "</div>"
      ],
      "text/plain": [
       "       PassengerId    Survived      Pclass         Age       SibSp  \\\n",
       "count   271.000000  271.000000  271.000000  225.000000  271.000000   \n",
       "mean    756.000000    0.361624    2.306273   29.520756    0.487085   \n",
       "std      78.375166    0.481360    0.842350   14.817980    1.141320   \n",
       "min     621.000000    0.000000    1.000000    0.420000    0.000000   \n",
       "25%     688.500000    0.000000    2.000000   20.000000    0.000000   \n",
       "50%     756.000000    0.000000    3.000000   28.000000    0.000000   \n",
       "75%     823.500000    1.000000    3.000000   39.000000    1.000000   \n",
       "max     891.000000    1.000000    3.000000   80.000000    8.000000   \n",
       "\n",
       "            Parch        Fare  \n",
       "count  271.000000  271.000000  \n",
       "mean     0.380074   33.250261  \n",
       "std      0.838545   57.505283  \n",
       "min      0.000000    0.000000  \n",
       "25%      0.000000    7.895800  \n",
       "50%      0.000000   13.000000  \n",
       "75%      0.000000   31.797900  \n",
       "max      6.000000  512.329200  "
      ]
     },
     "execution_count": 151,
     "metadata": {},
     "output_type": "execute_result"
    }
   ],
   "source": [
    "trainData.describe()\n",
    "testData.describe()"
   ]
  },
  {
   "cell_type": "markdown",
   "id": "8857382a",
   "metadata": {},
   "source": [
    "<h1>Data Analysis</h1>"
   ]
  },
  {
   "cell_type": "code",
   "execution_count": 152,
   "id": "ac4e71f8",
   "metadata": {},
   "outputs": [
    {
     "data": {
      "text/plain": [
       "<AxesSubplot:xlabel='Survived', ylabel='count'>"
      ]
     },
     "execution_count": 152,
     "metadata": {},
     "output_type": "execute_result"
    },
    {
     "data": {
      "image/png": "[encoded data removed]",
      "text/plain": [
       "<Figure size 432x288 with 1 Axes>"
      ]
     },
     "metadata": {
      "image/png": {
       "height": 261,
       "width": 388
      },
      "needs_background": "light"
     },
     "output_type": "display_data"
    }
   ],
   "source": [
    "sns.countplot(x='Survived',data=trainData)"
   ]
  },
  {
   "cell_type": "code",
   "execution_count": 153,
   "id": "1cf54810",
   "metadata": {},
   "outputs": [
    {
     "data": {
      "text/plain": [
       "<AxesSubplot:xlabel='Survived', ylabel='count'>"
      ]
     },
     "execution_count": 153,
     "metadata": {},
     "output_type": "execute_result"
    },
    {
     "data": {
      "image/png": "[encoded data removed]",
      "text/plain": [
       "<Figure size 432x288 with 1 Axes>"
      ]
     },
     "metadata": {
      "image/png": {
       "height": 261,
       "width": 388
      },
      "needs_background": "light"
     },
     "output_type": "display_data"
    }
   ],
   "source": [
    "sns.countplot(x='Survived',data=trainData,hue='Sex')"
   ]
  },
  {
   "cell_type": "code",
   "execution_count": 154,
   "id": "396cf58a",
   "metadata": {
    "scrolled": true
   },
   "outputs": [
    {
     "data": {
      "text/plain": [
       "Text(0.5, 0.98, 'Countplots for different hues')"
      ]
     },
     "execution_count": 154,
     "metadata": {},
     "output_type": "execute_result"
    },
    {
     "data": {
      "text/plain": [
       "<AxesSubplot:xlabel='Survived', ylabel='count'>"
      ]
     },
     "execution_count": 154,
     "metadata": {},
     "output_type": "execute_result"
    },
    {
     "data": {
      "text/plain": [
       "Text(0.5, 1.0, 'Pclass')"
      ]
     },
     "execution_count": 154,
     "metadata": {},
     "output_type": "execute_result"
    },
    {
     "data": {
      "text/plain": [
       "<AxesSubplot:xlabel='Survived', ylabel='count'>"
      ]
     },
     "execution_count": 154,
     "metadata": {},
     "output_type": "execute_result"
    },
    {
     "data": {
      "text/plain": [
       "Text(0.5, 1.0, 'SibSp')"
      ]
     },
     "execution_count": 154,
     "metadata": {},
     "output_type": "execute_result"
    },
    {
     "data": {
      "image/png": "[encoded data removed]",
      "text/plain": [
       "<Figure size 720x360 with 2 Axes>"
      ]
     },
     "metadata": {
      "image/png": {
       "height": 352,
       "width": 612
      },
      "needs_background": "light"
     },
     "output_type": "display_data"
    }
   ],
   "source": [
    "fig, axes = plt.subplots(1,2,figsize=(10,5))\n",
    "fig.suptitle('Countplots for different hues')\n",
    "sns.countplot(ax=axes[0],x='Survived',data=trainData,hue='Pclass')\n",
    "axes[0].set_title('Pclass')\n",
    "sns.countplot(ax=axes[1],x='Survived',data=trainData,hue='SibSp')\n",
    "axes[1].set_title('SibSp')"
   ]
  },
  {
   "cell_type": "code",
   "execution_count": 155,
   "id": "f54b8b7f",
   "metadata": {
    "scrolled": true
   },
   "outputs": [
    {
     "data": {
      "text/plain": [
       "<AxesSubplot:xlabel='Fare', ylabel='Survived'>"
      ]
     },
     "execution_count": 155,
     "metadata": {},
     "output_type": "execute_result"
    },
    {
     "data": {
      "image/png": "[encoded data removed]",
      "text/plain": [
       "<Figure size 432x288 with 1 Axes>"
      ]
     },
     "metadata": {
      "image/png": {
       "height": 261,
       "width": 385
      },
      "needs_background": "light"
     },
     "output_type": "display_data"
    }
   ],
   "source": [
    "sns.scatterplot(data=trainData, y=\"Survived\", x=\"Fare\", hue=\"Sex\", palette=\"deep\")"
   ]
  },
  {
   "cell_type": "markdown",
   "id": "4fc9e91a",
   "metadata": {},
   "source": [
    "<p>Can be infered that mostly female were priority irrespective of the fare they paid.</p>\n",
    "<p>Also Class was given higher preference as percentage of lower class not survived is high</p>"
   ]
  },
  {
   "cell_type": "markdown",
   "id": "e4222a4d",
   "metadata": {},
   "source": [
    "<h2>Data Cleaning</h2>"
   ]
  },
  {
   "cell_type": "code",
   "execution_count": 156,
   "id": "f334b2d2",
   "metadata": {
    "scrolled": true
   },
   "outputs": [
    {
     "data": {
      "text/plain": [
       "PassengerId      0\n",
       "Survived         0\n",
       "Pclass           0\n",
       "Sex              0\n",
       "Age            131\n",
       "SibSp            0\n",
       "Parch            0\n",
       "Fare             0\n",
       "dtype: int64"
      ]
     },
     "execution_count": 156,
     "metadata": {},
     "output_type": "execute_result"
    },
    {
     "data": {
      "text/plain": [
       "PassengerId     0\n",
       "Survived        0\n",
       "Pclass          0\n",
       "Sex             0\n",
       "Age            46\n",
       "SibSp           0\n",
       "Parch           0\n",
       "Fare            0\n",
       "dtype: int64"
      ]
     },
     "execution_count": 156,
     "metadata": {},
     "output_type": "execute_result"
    }
   ],
   "source": [
    "trainData.isna().sum()\n",
    "testData.isna().sum()"
   ]
  },
  {
   "cell_type": "code",
   "execution_count": 157,
   "id": "0c3aa217",
   "metadata": {
    "scrolled": true
   },
   "outputs": [
    {
     "data": {
      "text/plain": [
       "Text(0.5, 0.98, 'Heatmap for NA values')"
      ]
     },
     "execution_count": 157,
     "metadata": {},
     "output_type": "execute_result"
    },
    {
     "data": {
      "text/plain": [
       "<AxesSubplot:>"
      ]
     },
     "execution_count": 157,
     "metadata": {},
     "output_type": "execute_result"
    },
    {
     "data": {
      "text/plain": [
       "Text(0.5, 1.0, 'Train Data')"
      ]
     },
     "execution_count": 157,
     "metadata": {},
     "output_type": "execute_result"
    },
    {
     "data": {
      "text/plain": [
       "<AxesSubplot:>"
      ]
     },
     "execution_count": 157,
     "metadata": {},
     "output_type": "execute_result"
    },
    {
     "data": {
      "text/plain": [
       "Text(0.5, 1.0, 'Test Data')"
      ]
     },
     "execution_count": 157,
     "metadata": {},
     "output_type": "execute_result"
    },
    {
     "data": {
      "image/png": "[encoded data removed]",
      "text/plain": [
       "<Figure size 720x360 with 4 Axes>"
      ]
     },
     "metadata": {
      "image/png": {
       "height": 390,
       "width": 597
      },
      "needs_background": "light"
     },
     "output_type": "display_data"
    }
   ],
   "source": [
    "fig, axes = plt.subplots(1,2,figsize=(10,5))\n",
    "fig.suptitle('Heatmap for NA values')\n",
    "sns.heatmap(ax=axes[0],data=trainData.isna())\n",
    "axes[0].set_title('Train Data')\n",
    "sns.heatmap(ax=axes[1],data=testData.isna())\n",
    "axes[1].set_title('Test Data')"
   ]
  },
  {
   "cell_type": "code",
   "execution_count": 158,
   "id": "b2819034",
   "metadata": {},
   "outputs": [
    {
     "data": {
      "text/plain": [
       "21.129032258064516"
      ]
     },
     "execution_count": 158,
     "metadata": {},
     "output_type": "execute_result"
    },
    {
     "data": {
      "text/plain": [
       "16.974169741697416"
      ]
     },
     "execution_count": 158,
     "metadata": {},
     "output_type": "execute_result"
    }
   ],
   "source": [
    "trainData['Age'].isna().sum()/len(trainData['Age'])*100\n",
    "testData['Age'].isna().sum()/len(testData['Age'])*100"
   ]
  },
  {
   "cell_type": "code",
   "execution_count": 159,
   "id": "e1af6733",
   "metadata": {},
   "outputs": [
    {
     "data": {
      "text/plain": [
       "<seaborn.axisgrid.FacetGrid at 0x7f73310d2310>"
      ]
     },
     "execution_count": 159,
     "metadata": {},
     "output_type": "execute_result"
    },
    {
     "data": {
      "text/plain": [
       "<seaborn.axisgrid.FacetGrid at 0x7f7331195cd0>"
      ]
     },
     "execution_count": 159,
     "metadata": {},
     "output_type": "execute_result"
    },
    {
     "data": {
      "image/png": "[encoded data removed]",
      "text/plain": [
       "<Figure size 360x360 with 1 Axes>"
      ]
     },
     "metadata": {
      "image/png": {
       "height": 351,
       "width": 352
      },
      "needs_background": "light"
     },
     "output_type": "display_data"
    },
    {
     "data": {
      "image/png": "[encoded data removed]",
      "text/plain": [
       "<Figure size 360x360 with 1 Axes>"
      ]
     },
     "metadata": {
      "image/png": {
       "height": 351,
       "width": 352
      },
      "needs_background": "light"
     },
     "output_type": "display_data"
    }
   ],
   "source": [
    "sns.displot(x='Age',data=trainData)\n",
    "sns.displot(x='Age',data=testData)"
   ]
  },
  {
   "cell_type": "code",
   "execution_count": 160,
   "id": "6b50ed5f",
   "metadata": {},
   "outputs": [],
   "source": [
    "#fill missing(na) values with mean"
   ]
  },
  {
   "cell_type": "code",
   "execution_count": 161,
   "id": "6acf84c4",
   "metadata": {},
   "outputs": [],
   "source": [
    "trainData['Age'].fillna(trainData['Age'].mean(),inplace=True)\n",
    "testData['Age'].fillna(testData['Age'].mean(),inplace=True)"
   ]
  },
  {
   "cell_type": "code",
   "execution_count": 162,
   "id": "50481d8e",
   "metadata": {},
   "outputs": [],
   "source": [
    "#verify null values"
   ]
  },
  {
   "cell_type": "code",
   "execution_count": 163,
   "id": "465c67b5",
   "metadata": {},
   "outputs": [
    {
     "data": {
      "text/plain": [
       "Text(0.5, 0.98, 'Heatmap for NA values')"
      ]
     },
     "execution_count": 163,
     "metadata": {},
     "output_type": "execute_result"
    },
    {
     "data": {
      "text/plain": [
       "<AxesSubplot:>"
      ]
     },
     "execution_count": 163,
     "metadata": {},
     "output_type": "execute_result"
    },
    {
     "data": {
      "text/plain": [
       "Text(0.5, 1.0, 'Train Data')"
      ]
     },
     "execution_count": 163,
     "metadata": {},
     "output_type": "execute_result"
    },
    {
     "data": {
      "text/plain": [
       "<AxesSubplot:>"
      ]
     },
     "execution_count": 163,
     "metadata": {},
     "output_type": "execute_result"
    },
    {
     "data": {
      "text/plain": [
       "Text(0.5, 1.0, 'Test Data')"
      ]
     },
     "execution_count": 163,
     "metadata": {},
     "output_type": "execute_result"
    },
    {
     "data": {
      "image/png": "[encoded data removed]",
      "text/plain": [
       "<Figure size 720x360 with 4 Axes>"
      ]
     },
     "metadata": {
      "image/png": {
       "height": 390,
       "width": 618
      },
      "needs_background": "light"
     },
     "output_type": "display_data"
    }
   ],
   "source": [
    "fig, axes = plt.subplots(1,2,figsize=(10,5))\n",
    "fig.suptitle('Heatmap for NA values')\n",
    "sns.heatmap(ax=axes[0],data=trainData.isna())\n",
    "axes[0].set_title('Train Data')\n",
    "sns.heatmap(ax=axes[1],data=testData.isna())\n",
    "axes[1].set_title('Test Data')"
   ]
  },
  {
   "cell_type": "code",
   "execution_count": 164,
   "id": "9786c26c",
   "metadata": {},
   "outputs": [],
   "source": [
    "#checking & converting non-numeric columns to numeric"
   ]
  },
  {
   "cell_type": "code",
   "execution_count": 165,
   "id": "8b12fe58",
   "metadata": {},
   "outputs": [
    {
     "data": {
      "text/plain": [
       "PassengerId      int64\n",
       "Survived         int64\n",
       "Pclass           int64\n",
       "Sex             object\n",
       "Age            float64\n",
       "SibSp            int64\n",
       "Parch            int64\n",
       "Fare           float64\n",
       "dtype: object"
      ]
     },
     "execution_count": 165,
     "metadata": {},
     "output_type": "execute_result"
    },
    {
     "data": {
      "text/plain": [
       "PassengerId      int64\n",
       "Survived         int64\n",
       "Pclass           int64\n",
       "Sex             object\n",
       "Age            float64\n",
       "SibSp            int64\n",
       "Parch            int64\n",
       "Fare           float64\n",
       "dtype: object"
      ]
     },
     "execution_count": 165,
     "metadata": {},
     "output_type": "execute_result"
    }
   ],
   "source": [
    "trainData.dtypes\n",
    "testData.dtypes"
   ]
  },
  {
   "cell_type": "code",
   "execution_count": 166,
   "id": "28780c72",
   "metadata": {},
   "outputs": [],
   "source": [
    "#Converting Sex column to numeric "
   ]
  },
  {
   "cell_type": "code",
   "execution_count": 167,
   "id": "aaa016be",
   "metadata": {},
   "outputs": [
    {
     "name": "stdout",
     "output_type": "stream",
     "text": [
      "     female  male\n",
      "0         0     1\n",
      "1         1     0\n",
      "2         1     0\n",
      "3         1     0\n",
      "4         0     1\n",
      "..      ...   ...\n",
      "615       1     0\n",
      "616       0     1\n",
      "617       1     0\n",
      "618       1     0\n",
      "619       0     1\n",
      "\n",
      "[620 rows x 2 columns]\n",
      "     female  male\n",
      "0         0     1\n",
      "1         0     1\n",
      "2         0     1\n",
      "3         0     1\n",
      "4         0     1\n",
      "..      ...   ...\n",
      "266       0     1\n",
      "267       1     0\n",
      "268       1     0\n",
      "269       0     1\n",
      "270       0     1\n",
      "\n",
      "[271 rows x 2 columns]\n"
     ]
    }
   ],
   "source": [
    "genderTrain = pd.get_dummies(trainData['Sex'])\n",
    "genderTest = pd.get_dummies(testData['Sex'])\n",
    "print(genderTrain)\n",
    "print(genderTest)"
   ]
  },
  {
   "cell_type": "code",
   "execution_count": 168,
   "id": "5bed24c1",
   "metadata": {},
   "outputs": [],
   "source": [
    "#Assigning gender=(1 for male & 0 for female)"
   ]
  },
  {
   "cell_type": "code",
   "execution_count": 169,
   "id": "a05159dc",
   "metadata": {},
   "outputs": [],
   "source": [
    "trainData['Gender']=genderTrain['male']\n",
    "testData['Gender']=genderTest['male']"
   ]
  },
  {
   "cell_type": "code",
   "execution_count": 170,
   "id": "37b5cf78",
   "metadata": {},
   "outputs": [
    {
     "data": {
      "text/html": [
       "<div>\n",
       "<style scoped>\n",
       "    .dataframe tbody tr th:only-of-type {\n",
       "        vertical-align: middle;\n",
       "    }\n",
       "\n",
       "    .dataframe tbody tr th {\n",
       "        vertical-align: top;\n",
       "    }\n",
       "\n",
       "    .dataframe thead th {\n",
       "        text-align: right;\n",
       "    }\n",
       "</style>\n",
       "<table border=\"1\" class=\"dataframe\">\n",
       "  <thead>\n",
       "    <tr style=\"text-align: right;\">\n",
       "      <th></th>\n",
       "      <th>PassengerId</th>\n",
       "      <th>Survived</th>\n",
       "      <th>Pclass</th>\n",
       "      <th>Sex</th>\n",
       "      <th>Age</th>\n",
       "      <th>SibSp</th>\n",
       "      <th>Parch</th>\n",
       "      <th>Fare</th>\n",
       "      <th>Gender</th>\n",
       "    </tr>\n",
       "  </thead>\n",
       "  <tbody>\n",
       "    <tr>\n",
       "      <th>0</th>\n",
       "      <td>1</td>\n",
       "      <td>0</td>\n",
       "      <td>3</td>\n",
       "      <td>male</td>\n",
       "      <td>22.0</td>\n",
       "      <td>1</td>\n",
       "      <td>0</td>\n",
       "      <td>7.2500</td>\n",
       "      <td>1</td>\n",
       "    </tr>\n",
       "    <tr>\n",
       "      <th>1</th>\n",
       "      <td>2</td>\n",
       "      <td>1</td>\n",
       "      <td>1</td>\n",
       "      <td>female</td>\n",
       "      <td>38.0</td>\n",
       "      <td>1</td>\n",
       "      <td>0</td>\n",
       "      <td>71.2833</td>\n",
       "      <td>0</td>\n",
       "    </tr>\n",
       "    <tr>\n",
       "      <th>2</th>\n",
       "      <td>3</td>\n",
       "      <td>1</td>\n",
       "      <td>3</td>\n",
       "      <td>female</td>\n",
       "      <td>26.0</td>\n",
       "      <td>0</td>\n",
       "      <td>0</td>\n",
       "      <td>7.9250</td>\n",
       "      <td>0</td>\n",
       "    </tr>\n",
       "    <tr>\n",
       "      <th>3</th>\n",
       "      <td>4</td>\n",
       "      <td>1</td>\n",
       "      <td>1</td>\n",
       "      <td>female</td>\n",
       "      <td>35.0</td>\n",
       "      <td>1</td>\n",
       "      <td>0</td>\n",
       "      <td>53.1000</td>\n",
       "      <td>0</td>\n",
       "    </tr>\n",
       "    <tr>\n",
       "      <th>4</th>\n",
       "      <td>5</td>\n",
       "      <td>0</td>\n",
       "      <td>3</td>\n",
       "      <td>male</td>\n",
       "      <td>35.0</td>\n",
       "      <td>0</td>\n",
       "      <td>0</td>\n",
       "      <td>8.0500</td>\n",
       "      <td>1</td>\n",
       "    </tr>\n",
       "  </tbody>\n",
       "</table>\n",
       "</div>"
      ],
      "text/plain": [
       "   PassengerId  Survived  Pclass     Sex   Age  SibSp  Parch     Fare  Gender\n",
       "0            1         0       3    male  22.0      1      0   7.2500       1\n",
       "1            2         1       1  female  38.0      1      0  71.2833       0\n",
       "2            3         1       3  female  26.0      0      0   7.9250       0\n",
       "3            4         1       1  female  35.0      1      0  53.1000       0\n",
       "4            5         0       3    male  35.0      0      0   8.0500       1"
      ]
     },
     "execution_count": 170,
     "metadata": {},
     "output_type": "execute_result"
    },
    {
     "data": {
      "text/html": [
       "<div>\n",
       "<style scoped>\n",
       "    .dataframe tbody tr th:only-of-type {\n",
       "        vertical-align: middle;\n",
       "    }\n",
       "\n",
       "    .dataframe tbody tr th {\n",
       "        vertical-align: top;\n",
       "    }\n",
       "\n",
       "    .dataframe thead th {\n",
       "        text-align: right;\n",
       "    }\n",
       "</style>\n",
       "<table border=\"1\" class=\"dataframe\">\n",
       "  <thead>\n",
       "    <tr style=\"text-align: right;\">\n",
       "      <th></th>\n",
       "      <th>PassengerId</th>\n",
       "      <th>Survived</th>\n",
       "      <th>Pclass</th>\n",
       "      <th>Sex</th>\n",
       "      <th>Age</th>\n",
       "      <th>SibSp</th>\n",
       "      <th>Parch</th>\n",
       "      <th>Fare</th>\n",
       "      <th>Gender</th>\n",
       "    </tr>\n",
       "  </thead>\n",
       "  <tbody>\n",
       "    <tr>\n",
       "      <th>0</th>\n",
       "      <td>621</td>\n",
       "      <td>0</td>\n",
       "      <td>3</td>\n",
       "      <td>male</td>\n",
       "      <td>27.0</td>\n",
       "      <td>1</td>\n",
       "      <td>0</td>\n",
       "      <td>14.4542</td>\n",
       "      <td>1</td>\n",
       "    </tr>\n",
       "    <tr>\n",
       "      <th>1</th>\n",
       "      <td>622</td>\n",
       "      <td>1</td>\n",
       "      <td>1</td>\n",
       "      <td>male</td>\n",
       "      <td>42.0</td>\n",
       "      <td>1</td>\n",
       "      <td>0</td>\n",
       "      <td>52.5542</td>\n",
       "      <td>1</td>\n",
       "    </tr>\n",
       "    <tr>\n",
       "      <th>2</th>\n",
       "      <td>623</td>\n",
       "      <td>1</td>\n",
       "      <td>3</td>\n",
       "      <td>male</td>\n",
       "      <td>20.0</td>\n",
       "      <td>1</td>\n",
       "      <td>1</td>\n",
       "      <td>15.7417</td>\n",
       "      <td>1</td>\n",
       "    </tr>\n",
       "    <tr>\n",
       "      <th>3</th>\n",
       "      <td>624</td>\n",
       "      <td>0</td>\n",
       "      <td>3</td>\n",
       "      <td>male</td>\n",
       "      <td>21.0</td>\n",
       "      <td>0</td>\n",
       "      <td>0</td>\n",
       "      <td>7.8542</td>\n",
       "      <td>1</td>\n",
       "    </tr>\n",
       "    <tr>\n",
       "      <th>4</th>\n",
       "      <td>625</td>\n",
       "      <td>0</td>\n",
       "      <td>3</td>\n",
       "      <td>male</td>\n",
       "      <td>21.0</td>\n",
       "      <td>0</td>\n",
       "      <td>0</td>\n",
       "      <td>16.1000</td>\n",
       "      <td>1</td>\n",
       "    </tr>\n",
       "  </tbody>\n",
       "</table>\n",
       "</div>"
      ],
      "text/plain": [
       "   PassengerId  Survived  Pclass   Sex   Age  SibSp  Parch     Fare  Gender\n",
       "0          621         0       3  male  27.0      1      0  14.4542       1\n",
       "1          622         1       1  male  42.0      1      0  52.5542       1\n",
       "2          623         1       3  male  20.0      1      1  15.7417       1\n",
       "3          624         0       3  male  21.0      0      0   7.8542       1\n",
       "4          625         0       3  male  21.0      0      0  16.1000       1"
      ]
     },
     "execution_count": 170,
     "metadata": {},
     "output_type": "execute_result"
    }
   ],
   "source": [
    "trainData.head()\n",
    "testData.head()"
   ]
  },
  {
   "cell_type": "code",
   "execution_count": 171,
   "id": "a6c2f333",
   "metadata": {},
   "outputs": [],
   "source": [
    "#dropping redundant columns"
   ]
  },
  {
   "cell_type": "code",
   "execution_count": 172,
   "id": "eb0d799e",
   "metadata": {},
   "outputs": [],
   "source": [
    "trainData.drop(['PassengerId','Sex'],axis=1,inplace=True)\n",
    "testData.drop(['PassengerId','Sex'],axis=1,inplace=True)"
   ]
  },
  {
   "cell_type": "markdown",
   "id": "349b3963",
   "metadata": {},
   "source": [
    "<h2>Separating dependent and Independent Variables</h2>"
   ]
  },
  {
   "cell_type": "code",
   "execution_count": 173,
   "id": "a12bacd1",
   "metadata": {},
   "outputs": [],
   "source": [
    "trainY=np.array(trainData['Survived'])\n",
    "trainData.drop('Survived',axis=1,inplace=True)\n",
    "trainData.insert(0,'x0',np.ones((len(trainData),1)))\n",
    "trainX=np.array(trainData)"
   ]
  },
  {
   "cell_type": "code",
   "execution_count": 174,
   "id": "064a741e",
   "metadata": {},
   "outputs": [],
   "source": [
    "testY=np.array(testData['Survived'])\n",
    "testData.drop('Survived',axis=1,inplace=True)\n",
    "testData.insert(0,'x0',np.ones((len(testData),1)))\n",
    "testX=np.array(testData)"
   ]
  },
  {
   "cell_type": "markdown",
   "id": "c3126264",
   "metadata": {},
   "source": [
    "<h2>Setting up funtions for Logistic Regression</h2>"
   ]
  },
  {
   "cell_type": "code",
   "execution_count": 175,
   "id": "3b839203",
   "metadata": {},
   "outputs": [],
   "source": [
    "#Intializing weights with arbitrary value=1"
   ]
  },
  {
   "cell_type": "code",
   "execution_count": 176,
   "id": "5dcd4ff5",
   "metadata": {},
   "outputs": [],
   "source": [
    "wts=np.ones(testX.shape[1])"
   ]
  },
  {
   "cell_type": "code",
   "execution_count": 177,
   "id": "0587d9a9",
   "metadata": {},
   "outputs": [
    {
     "name": "stdout",
     "output_type": "stream",
     "text": [
      "[1. 1. 1. 1. 1. 1. 1.]\n"
     ]
    }
   ],
   "source": [
    "print(wts)"
   ]
  },
  {
   "cell_type": "code",
   "execution_count": 178,
   "id": "5473ce94",
   "metadata": {},
   "outputs": [],
   "source": [
    "def sigmoid(z):\n",
    "    return 1.0/(1.0+np.exp(-z))"
   ]
  },
  {
   "cell_type": "code",
   "execution_count": 179,
   "id": "42558547",
   "metadata": {},
   "outputs": [],
   "source": [
    "# using gradient descent method for optimizing cost funtion"
   ]
  },
  {
   "cell_type": "code",
   "execution_count": 180,
   "id": "6eac9fd2",
   "metadata": {},
   "outputs": [],
   "source": [
    "# epsilon for avoiding error when taking log(h2) in case h2 becomes zero\n",
    "epsilon = 1e-5\n",
    "def optimize(wts,trainX,trainY):\n",
    "    m=trainX.shape[0]\n",
    "    h1=np.dot(trainX,wts)\n",
    "    h2=sigmoid(h1)\n",
    "    cost=(-1/m)*(np.dot(trainY.T,np.log(h2+epsilon))+np.dot((1-trainY).T,np.log(1-h2+epsilon)))\n",
    "    dwts=(1/m)*np.dot(trainX.T,h2-trainY)\n",
    "    return dwts,cost"
   ]
  },
  {
   "cell_type": "code",
   "execution_count": 181,
   "id": "d837c809",
   "metadata": {},
   "outputs": [],
   "source": [
    "# alpha = training rate, iters = no. of iterations used\n",
    "def train(wts,trainX,trainY,alpha,iters):\n",
    "    costs=[]\n",
    "    for i in range(iters):\n",
    "        dwts,cost=optimize(wts,trainX,trainY)\n",
    "        wts=wts-alpha*dwts\n",
    "        if(i%100==0):\n",
    "            costs.append(cost)\n",
    "    return wts,costs"
   ]
  },
  {
   "cell_type": "code",
   "execution_count": 182,
   "id": "c8a87b93",
   "metadata": {
    "scrolled": true
   },
   "outputs": [
    {
     "data": {
      "text/plain": [
       "[<matplotlib.lines.Line2D at 0x7f73315c0fa0>]"
      ]
     },
     "execution_count": 182,
     "metadata": {},
     "output_type": "execute_result"
    },
    {
     "data": {
      "text/plain": [
       "Text(0, 0.5, 'cost')"
      ]
     },
     "execution_count": 182,
     "metadata": {},
     "output_type": "execute_result"
    },
    {
     "data": {
      "text/plain": [
       "Text(0.5, 0, 'number of iterations/100')"
      ]
     },
     "execution_count": 182,
     "metadata": {},
     "output_type": "execute_result"
    },
    {
     "data": {
      "text/plain": [
       "Text(0.5, 1.0, 'cost value over time')"
      ]
     },
     "execution_count": 182,
     "metadata": {},
     "output_type": "execute_result"
    },
    {
     "name": "stdout",
     "output_type": "stream",
     "text": [
      "Cost value after final iterations 0.4688982264798164\n"
     ]
    },
    {
     "data": {
      "image/png": "[encoded data removed]",
      "text/plain": [
       "<Figure size 432x288 with 1 Axes>"
      ]
     },
     "metadata": {
      "image/png": {
       "height": 277,
       "width": 376
      },
      "needs_background": "light"
     },
     "output_type": "display_data"
    }
   ],
   "source": [
    "finalWts,costs=train(wts,trainX,trainY,0.0001,1000000)\n",
    "plt.plot(costs)\n",
    "plt.ylabel('cost')\n",
    "plt.xlabel('number of iterations/100')\n",
    "plt.title('cost value over time')\n",
    "print(\"Cost value after final iterations\",costs[-1])\n",
    "plt.show()"
   ]
  },
  {
   "cell_type": "markdown",
   "id": "cbee0e21",
   "metadata": {},
   "source": [
    "<p> Cost is minimum for <b>0.001</b> & <b>10<sup>6</sup></b> iterations. <b>0.0001</b> is suggested as starting value with step of roughly 3 times by Andrew Ng of Stanford University</p>"
   ]
  },
  {
   "cell_type": "code",
   "execution_count": 183,
   "id": "8f4934f9",
   "metadata": {},
   "outputs": [],
   "source": [
    "# finding hypothesis using sigmoid(summation(wi*xi)) from 0 to n"
   ]
  },
  {
   "cell_type": "code",
   "execution_count": 184,
   "id": "b39228f9",
   "metadata": {},
   "outputs": [],
   "source": [
    "def predict(finalWts,tX):\n",
    "    m=trainX.shape[0]\n",
    "    predictY=np.zeros((m,1))\n",
    "    h1=np.dot(tX,finalWts)\n",
    "    h2=sigmoid(h1)\n",
    "    #reshaping to m*1\n",
    "    h2=np.reshape(h2,(h2.shape[0],1))\n",
    "    predictY=h2>0.5\n",
    "    #flattening the predictedY\n",
    "    predictY=predictY.reshape(-1)\n",
    "    return predictY,h2"
   ]
  },
  {
   "cell_type": "markdown",
   "id": "c6cc7074",
   "metadata": {},
   "source": [
    "<h2>Finding Result and stats such as confusion matrix, accuracy, recall F1 score, Precision</h2>"
   ]
  },
  {
   "cell_type": "code",
   "execution_count": 185,
   "id": "e0d24cc2",
   "metadata": {},
   "outputs": [],
   "source": [
    "predictTestY,testScoreY=predict(finalWts,testX)\n",
    "predictTrainY,trainScoreY=predict(finalWts,trainX)\n",
    "predictTestY=predictTestY.astype(int)\n",
    "predictTrainY=predictTrainY.astype(int)"
   ]
  },
  {
   "cell_type": "code",
   "execution_count": 186,
   "id": "b1aa93ef",
   "metadata": {},
   "outputs": [],
   "source": [
    "def computeConfusionMatrix(predictY,trueY):\n",
    "    result=np.zeros((2,2))\n",
    "    for i in range(len(trueY)):\n",
    "        result[trueY[i]][predictY[i]]+=1\n",
    "    df=pd.DataFrame(result,columns=['Yes','No'],index=['Yes','No'])\n",
    "    return df"
   ]
  },
  {
   "cell_type": "code",
   "execution_count": 187,
   "id": "619cb60f",
   "metadata": {},
   "outputs": [
    {
     "data": {
      "text/plain": [
       "<AxesSubplot:>"
      ]
     },
     "execution_count": 187,
     "metadata": {},
     "output_type": "execute_result"
    },
    {
     "data": {
      "text/plain": [
       "Text(0.5, 15.0, 'Predicted Class')"
      ]
     },
     "execution_count": 187,
     "metadata": {},
     "output_type": "execute_result"
    },
    {
     "data": {
      "text/plain": [
       "Text(33.0, 0.5, 'Actual Class')"
      ]
     },
     "execution_count": 187,
     "metadata": {},
     "output_type": "execute_result"
    },
    {
     "name": "stdout",
     "output_type": "stream",
     "text": [
      "Testing Class\n"
     ]
    },
    {
     "data": {
      "image/png": "[encoded data removed]",
      "text/plain": [
       "<Figure size 432x288 with 2 Axes>"
      ]
     },
     "metadata": {
      "image/png": {
       "height": 261,
       "width": 366
      },
      "needs_background": "light"
     },
     "output_type": "display_data"
    },
    {
     "name": "stdout",
     "output_type": "stream",
     "text": [
      "Total entries for Testing class 271.0\n"
     ]
    },
    {
     "data": {
      "text/plain": [
       "<AxesSubplot:>"
      ]
     },
     "execution_count": 187,
     "metadata": {},
     "output_type": "execute_result"
    },
    {
     "data": {
      "text/plain": [
       "Text(0.5, 15.0, 'Predicted Class')"
      ]
     },
     "execution_count": 187,
     "metadata": {},
     "output_type": "execute_result"
    },
    {
     "data": {
      "text/plain": [
       "Text(33.0, 0.5, 'Actual Class')"
      ]
     },
     "execution_count": 187,
     "metadata": {},
     "output_type": "execute_result"
    },
    {
     "name": "stdout",
     "output_type": "stream",
     "text": [
      "Training Class\n"
     ]
    },
    {
     "data": {
      "image/png": "[encoded data removed]",
      "text/plain": [
       "<Figure size 432x288 with 2 Axes>"
      ]
     },
     "metadata": {
      "image/png": {
       "height": 261,
       "width": 366
      },
      "needs_background": "light"
     },
     "output_type": "display_data"
    },
    {
     "name": "stdout",
     "output_type": "stream",
     "text": [
      "Total entries for Training class 620.0\n"
     ]
    }
   ],
   "source": [
    "confMatrixTest=computeConfusionMatrix(predictTestY,testY)\n",
    "sns.heatmap(confMatrixTest, annot=True,fmt='g', cmap='Blues')\n",
    "plt.xlabel(\"Predicted Class\")\n",
    "plt.ylabel(\"Actual Class\")\n",
    "print('Testing Class')\n",
    "plt.show()\n",
    "print(\"Total entries for Testing class\",confMatrixTest.values.sum())\n",
    "confMatrixTrain=computeConfusionMatrix(predictTrainY,trainY)\n",
    "sns.heatmap(confMatrixTrain, annot=True,fmt='g', cmap='Blues')\n",
    "plt.xlabel(\"Predicted Class\")\n",
    "plt.ylabel(\"Actual Class\")\n",
    "print('Training Class')\n",
    "plt.show()\n",
    "print('Total entries for Training class',confMatrixTrain.values.sum())"
   ]
  },
  {
   "cell_type": "code",
   "execution_count": 188,
   "id": "cc80238c",
   "metadata": {},
   "outputs": [],
   "source": [
    "# Getting all true and false combination to pos and neg"
   ]
  },
  {
   "cell_type": "code",
   "execution_count": 189,
   "id": "98f3172b",
   "metadata": {},
   "outputs": [],
   "source": [
    "def printClassStats(className,cf):\n",
    "    print(className)\n",
    "    print(\"True Positives = {:.0f}\".format(cf.iat[0,0]))\n",
    "    print(\"True Negatives = {:.0f}\".format(cf.iat[1,1]))\n",
    "    print(\"False Positives = {:.0f}\".format(cf.iat[1,0]))\n",
    "    print(\"False Negatives = {:.0f}\".format(cf.iat[0,1]))\n",
    "    print(\"Total Entries = {:.0f}\".format(cf.values.sum()))"
   ]
  },
  {
   "cell_type": "code",
   "execution_count": 190,
   "id": "b67c1fb6",
   "metadata": {
    "scrolled": true
   },
   "outputs": [
    {
     "name": "stdout",
     "output_type": "stream",
     "text": [
      "Testing Class\n",
      "True Positives = 153\n",
      "True Negatives = 62\n",
      "False Positives = 36\n",
      "False Negatives = 20\n",
      "Total Entries = 271\n",
      "\n",
      "Training Class\n",
      "True Positives = 322\n",
      "True Negatives = 170\n",
      "False Positives = 74\n",
      "False Negatives = 54\n",
      "Total Entries = 620\n"
     ]
    }
   ],
   "source": [
    "printClassStats(\"Testing Class\",confMatrixTest)\n",
    "print()\n",
    "printClassStats(\"Training Class\",confMatrixTrain)"
   ]
  },
  {
   "cell_type": "code",
   "execution_count": 191,
   "id": "3480feb8",
   "metadata": {},
   "outputs": [],
   "source": [
    "# Printing stats"
   ]
  },
  {
   "cell_type": "code",
   "execution_count": 192,
   "id": "35406738",
   "metadata": {},
   "outputs": [],
   "source": [
    "def printStats(className,cf):\n",
    "    print(className)\n",
    "    print(\"Total Entries = {:.0f}\".format(cf.values.sum()))\n",
    "    accuracy=(cf.iat[0,0]+cf.iat[1,1])/cf.values.sum()\n",
    "    precision=cf.iat[0,0]/(cf.iat[0,0]+cf.iat[1,0])\n",
    "    recall=cf.iat[0,0]/(cf.iat[0,0]+cf.iat[0,1])\n",
    "    f1score=(2*recall*precision)/(recall+precision)\n",
    "    print(\"Accuracy = {:.4f}%\".format(accuracy*100))\n",
    "    print(\"Precision = {:.4f}%\".format(precision*100))\n",
    "    print(\"Recall = {:.4f}%\".format(recall*100))\n",
    "    print(\"F1 Score = {:.4f}%\".format(f1score*100))"
   ]
  },
  {
   "cell_type": "code",
   "execution_count": 193,
   "id": "ab641c3f",
   "metadata": {
    "scrolled": true
   },
   "outputs": [
    {
     "name": "stdout",
     "output_type": "stream",
     "text": [
      "Test Data\n",
      "Total Entries = 271\n",
      "Accuracy = 79.3358%\n",
      "Precision = 80.9524%\n",
      "Recall = 88.4393%\n",
      "F1 Score = 84.5304%\n",
      "Loss = 44.9698%\n",
      "\n",
      "Train Data\n",
      "Total Entries = 620\n",
      "Accuracy = 79.3548%\n",
      "Precision = 81.3131%\n",
      "Recall = 85.6383%\n",
      "F1 Score = 83.4197%\n",
      "Loss = 46.8897%\n"
     ]
    }
   ],
   "source": [
    "printStats(\"Test Data\",confMatrixTest)\n",
    "l1=((-1/testY.shape[0])*(np.dot(testY.T,np.log(testScoreY+epsilon))+np.dot((1-testY).T,np.log(1-testScoreY+epsilon))))\n",
    "print('Loss = {:.4f}%'.format(l1[0]*100))\n",
    "print()\n",
    "printStats(\"Train Data\",confMatrixTrain)\n",
    "l2=((-1/trainY.shape[0])*(np.dot(trainY.T,np.log(trainScoreY+epsilon))+np.dot((1-trainY).T,np.log(1-trainScoreY+epsilon))))\n",
    "print('Loss = {:.4f}%'.format(l2[0]*100))"
   ]
  },
  {
   "cell_type": "markdown",
   "id": "ffe1fd88",
   "metadata": {},
   "source": [
    "<h2>References used for this assignment</h2>\n",
    "<p>\n",
    "    <ol>\n",
    "        <li>Used <a href=\"https://www.baeldung.com/cs/gradient-descent-logistic-regression\">Baeldung</a> for theory on Logistic Regression.</li>\n",
    "        <li>Used <a href=\"https://blog.exsilio.com/all/accuracy-precision-recall-f1-score-interpretation-of-performance-measures/\">Exsilio </a>blog for stats related to machine learning.</li>\n",
    "        <li>Coursera Course of Machine Learning by Andrew Ng</li>\n",
    "        <li>Documentations of Pandas, Seaborn, Matplotlib, Python and numpy</li>\n",
    "    </ol>\n",
    "</p>"
   ]
  },
  {
   "cell_type": "code",
   "execution_count": null,
   "id": "bbd1ea65",
   "metadata": {},
   "outputs": [],
   "source": []
  }
 ],
 "metadata": {
  "kernelspec": {
   "display_name": "Python 3",
   "language": "python",
   "name": "python3"
  },
  "language_info": {
   "codemirror_mode": {
    "name": "ipython",
    "version": 3
   },
   "file_extension": ".py",
   "mimetype": "text/x-python",
   "name": "python",
   "nbconvert_exporter": "python",
   "pygments_lexer": "ipython3",
   "version": "3.8.5"
  }
 },
 "nbformat": 4,
 "nbformat_minor": 5
}
