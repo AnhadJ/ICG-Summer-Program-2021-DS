{
 "cells": [
  {
   "cell_type": "code",
   "execution_count": 1,
   "metadata": {},
   "outputs": [],
   "source": [
    "#Aryan Vora 200204\n",
    "#referred to GFG for the basic structure of the program\n"
   ]
  },
  {
   "cell_type": "code",
   "execution_count": 2,
   "metadata": {},
   "outputs": [],
   "source": [
    "import pandas as pd \n",
    "import numpy as np \n",
    "import matplotlib.pyplot as plt"
   ]
  },
  {
   "cell_type": "code",
   "execution_count": 3,
   "metadata": {},
   "outputs": [],
   "source": [
    "def sig(theta,X):\n",
    "    return 1.0/(1+np.exp(-np.dot(X,theta[1:].T) - theta[0]))"
   ]
  },
  {
   "cell_type": "code",
   "execution_count": 4,
   "metadata": {},
   "outputs": [],
   "source": [
    "def log_loss(theta,X,Y):\n",
    "    lL=0.0\n",
    "    eps=10**-7 #epsilon added so that if sig returns a value of 0 or 1 then error should not occur\n",
    "    for i in range(len(X)):\n",
    "        lL=lL+Y[i]*np.log(sig(theta,X[i]) + eps)+(1-Y[i])*(np.log(1-sig(theta,X[i]) + eps))\n",
    "    return -lL"
   ]
  },
  {
   "cell_type": "code",
   "execution_count": 5,
   "metadata": {},
   "outputs": [],
   "source": [
    "def prob(X,theta):\n",
    "    p=sig(theta,X)\n",
    "    if p>=0.5:\n",
    "        return 1\n",
    "    else:\n",
    "        return 0"
   ]
  },
  {
   "cell_type": "code",
   "execution_count": 6,
   "metadata": {},
   "outputs": [],
   "source": [
    "def precision(X,Y):\n",
    "    tp=0 #true positive\n",
    "    p=0  #total positive\n",
    "    for x,y in np.nditer([X,Y]):\n",
    "        if y==1:\n",
    "            p=p+1\n",
    "            if x==1:\n",
    "                tp=tp+1                \n",
    "                \n",
    "    return tp/p"
   ]
  },
  {
   "cell_type": "code",
   "execution_count": 7,
   "metadata": {},
   "outputs": [],
   "source": [
    "def recall(X,Y):\n",
    "    tp=0 #true positive\n",
    "    fn=0 #false negative\n",
    "    for x,y in np.nditer([X,Y]):\n",
    "        if((x==1)&(y==1)):\n",
    "            tp=tp+1\n",
    "        elif((x==1)&(y==0)):\n",
    "            fn=fn+1\n",
    "    \n",
    "    return (tp/(tp+fn)) "
   ]
  },
  {
   "cell_type": "code",
   "execution_count": 8,
   "metadata": {},
   "outputs": [],
   "source": [
    "def f1(X,Y):\n",
    "    return 2*(precision(X,Y))*(recall(X,Y))/(precision(X,Y)+recall(X,Y))"
   ]
  },
  {
   "cell_type": "code",
   "execution_count": 9,
   "metadata": {},
   "outputs": [],
   "source": [
    "rerun=400"
   ]
  },
  {
   "cell_type": "code",
   "execution_count": 10,
   "metadata": {},
   "outputs": [],
   "source": [
    "df_tr=pd.read_csv(\"data/train.csv\")\n",
    "df_tr=df_tr.set_index('PassengerId')"
   ]
  },
  {
   "cell_type": "code",
   "execution_count": 11,
   "metadata": {},
   "outputs": [
    {
     "data": {
      "text/html": [
       "<div>\n",
       "<style scoped>\n",
       "    .dataframe tbody tr th:only-of-type {\n",
       "        vertical-align: middle;\n",
       "    }\n",
       "\n",
       "    .dataframe tbody tr th {\n",
       "        vertical-align: top;\n",
       "    }\n",
       "\n",
       "    .dataframe thead th {\n",
       "        text-align: right;\n",
       "    }\n",
       "</style>\n",
       "<table border=\"1\" class=\"dataframe\">\n",
       "  <thead>\n",
       "    <tr style=\"text-align: right;\">\n",
       "      <th></th>\n",
       "      <th>Survived</th>\n",
       "      <th>Pclass</th>\n",
       "      <th>Sex</th>\n",
       "      <th>Age</th>\n",
       "      <th>SibSp</th>\n",
       "      <th>Parch</th>\n",
       "      <th>Fare</th>\n",
       "    </tr>\n",
       "    <tr>\n",
       "      <th>PassengerId</th>\n",
       "      <th></th>\n",
       "      <th></th>\n",
       "      <th></th>\n",
       "      <th></th>\n",
       "      <th></th>\n",
       "      <th></th>\n",
       "      <th></th>\n",
       "    </tr>\n",
       "  </thead>\n",
       "  <tbody>\n",
       "    <tr>\n",
       "      <th>2</th>\n",
       "      <td>1</td>\n",
       "      <td>1</td>\n",
       "      <td>female</td>\n",
       "      <td>38.0</td>\n",
       "      <td>1</td>\n",
       "      <td>0</td>\n",
       "      <td>71.2833</td>\n",
       "    </tr>\n",
       "    <tr>\n",
       "      <th>3</th>\n",
       "      <td>1</td>\n",
       "      <td>3</td>\n",
       "      <td>female</td>\n",
       "      <td>26.0</td>\n",
       "      <td>0</td>\n",
       "      <td>0</td>\n",
       "      <td>7.9250</td>\n",
       "    </tr>\n",
       "    <tr>\n",
       "      <th>4</th>\n",
       "      <td>1</td>\n",
       "      <td>1</td>\n",
       "      <td>female</td>\n",
       "      <td>35.0</td>\n",
       "      <td>1</td>\n",
       "      <td>0</td>\n",
       "      <td>53.1000</td>\n",
       "    </tr>\n",
       "    <tr>\n",
       "      <th>9</th>\n",
       "      <td>1</td>\n",
       "      <td>3</td>\n",
       "      <td>female</td>\n",
       "      <td>27.0</td>\n",
       "      <td>0</td>\n",
       "      <td>2</td>\n",
       "      <td>11.1333</td>\n",
       "    </tr>\n",
       "    <tr>\n",
       "      <th>10</th>\n",
       "      <td>1</td>\n",
       "      <td>2</td>\n",
       "      <td>female</td>\n",
       "      <td>14.0</td>\n",
       "      <td>1</td>\n",
       "      <td>0</td>\n",
       "      <td>30.0708</td>\n",
       "    </tr>\n",
       "    <tr>\n",
       "      <th>...</th>\n",
       "      <td>...</td>\n",
       "      <td>...</td>\n",
       "      <td>...</td>\n",
       "      <td>...</td>\n",
       "      <td>...</td>\n",
       "      <td>...</td>\n",
       "      <td>...</td>\n",
       "    </tr>\n",
       "    <tr>\n",
       "      <th>611</th>\n",
       "      <td>0</td>\n",
       "      <td>3</td>\n",
       "      <td>female</td>\n",
       "      <td>39.0</td>\n",
       "      <td>1</td>\n",
       "      <td>5</td>\n",
       "      <td>31.2750</td>\n",
       "    </tr>\n",
       "    <tr>\n",
       "      <th>613</th>\n",
       "      <td>1</td>\n",
       "      <td>3</td>\n",
       "      <td>female</td>\n",
       "      <td>27.0</td>\n",
       "      <td>1</td>\n",
       "      <td>0</td>\n",
       "      <td>15.5000</td>\n",
       "    </tr>\n",
       "    <tr>\n",
       "      <th>616</th>\n",
       "      <td>1</td>\n",
       "      <td>2</td>\n",
       "      <td>female</td>\n",
       "      <td>24.0</td>\n",
       "      <td>1</td>\n",
       "      <td>2</td>\n",
       "      <td>65.0000</td>\n",
       "    </tr>\n",
       "    <tr>\n",
       "      <th>618</th>\n",
       "      <td>0</td>\n",
       "      <td>3</td>\n",
       "      <td>female</td>\n",
       "      <td>26.0</td>\n",
       "      <td>1</td>\n",
       "      <td>0</td>\n",
       "      <td>16.1000</td>\n",
       "    </tr>\n",
       "    <tr>\n",
       "      <th>619</th>\n",
       "      <td>1</td>\n",
       "      <td>2</td>\n",
       "      <td>female</td>\n",
       "      <td>4.0</td>\n",
       "      <td>2</td>\n",
       "      <td>1</td>\n",
       "      <td>39.0000</td>\n",
       "    </tr>\n",
       "  </tbody>\n",
       "</table>\n",
       "<p>231 rows × 7 columns</p>\n",
       "</div>"
      ],
      "text/plain": [
       "             Survived  Pclass     Sex   Age  SibSp  Parch     Fare\n",
       "PassengerId                                                       \n",
       "2                   1       1  female  38.0      1      0  71.2833\n",
       "3                   1       3  female  26.0      0      0   7.9250\n",
       "4                   1       1  female  35.0      1      0  53.1000\n",
       "9                   1       3  female  27.0      0      2  11.1333\n",
       "10                  1       2  female  14.0      1      0  30.0708\n",
       "...               ...     ...     ...   ...    ...    ...      ...\n",
       "611                 0       3  female  39.0      1      5  31.2750\n",
       "613                 1       3  female  27.0      1      0  15.5000\n",
       "616                 1       2  female  24.0      1      2  65.0000\n",
       "618                 0       3  female  26.0      1      0  16.1000\n",
       "619                 1       2  female   4.0      2      1  39.0000\n",
       "\n",
       "[231 rows x 7 columns]"
      ]
     },
     "execution_count": 11,
     "metadata": {},
     "output_type": "execute_result"
    }
   ],
   "source": [
    "male_df=df_tr[(df_tr['Sex']=='male')]\n",
    "female_df=df_tr[(df_tr['Sex']=='female')]\n",
    "male_df.fillna(male_df.median())\n",
    "female_df.fillna(female_df.median())"
   ]
  },
  {
   "cell_type": "code",
   "execution_count": 12,
   "metadata": {},
   "outputs": [],
   "source": [
    "thetam=np.array([1.0,0.0,0.0,0.0,0.0,0.0])"
   ]
  },
  {
   "cell_type": "code",
   "execution_count": 13,
   "metadata": {},
   "outputs": [],
   "source": [
    "y1=male_df['Survived']\n",
    "y0=y1.to_numpy()\n",
    "y0=y0.reshape(len(y0),1)"
   ]
  },
  {
   "cell_type": "code",
   "execution_count": 14,
   "metadata": {},
   "outputs": [],
   "source": [
    "x1=male_df[['Pclass','Age','SibSp','Parch','Fare']]\n",
    "x1=x1.fillna(x1.median())\n",
    "x0=x1.to_numpy()"
   ]
  },
  {
   "cell_type": "code",
   "execution_count": 15,
   "metadata": {},
   "outputs": [
    {
     "name": "stdout",
     "output_type": "stream",
     "text": [
      "[-4.40012378 -5.22782722 -4.88194051  4.63673939  5.05657514  5.1510638 ]\n"
     ]
    }
   ],
   "source": [
    "for m in range(rerun): \n",
    "    for i in range(len(x0)):\n",
    "        for j in range(6):\n",
    "            x=x0[i]\n",
    "            y=y0[i]\n",
    "            thetam[j]=(thetam[j])+0.1*(y.item()-sig(thetam,x))\n",
    "        \n",
    "print(thetam)"
   ]
  },
  {
   "cell_type": "code",
   "execution_count": 16,
   "metadata": {},
   "outputs": [
    {
     "name": "stdout",
     "output_type": "stream",
     "text": [
      "The natural log of loss for male training data is [1524.25485813]\n",
      "Accuracy for male training data 0.7506426735218509\n",
      "Precision for male training data 0.18251928020565553\n",
      "Recall for male training data 0.21079691516709512\n",
      "F1 score for male training data 0.1956415813969118\n"
     ]
    }
   ],
   "source": [
    "out_train_m=np.empty([len(x0)])\n",
    "for j in range(len(x0)):\n",
    "    out_train_m[j]=prob(x0[j],thetam)\n",
    "    \n",
    "out_train_m=out_train_m.astype(int)\n",
    "c_m=0\n",
    "for k in range(len(out_train_m)):\n",
    "    if y0[k]==out_train_m[k]:\n",
    "        c_m=c_m+1\n",
    "print('The natural log of loss for male training data is',log_loss(thetam,x0,y0))\n",
    "print('Accuracy for male training data',c_m/len(out_train_m))\n",
    "print('Precision for male training data',precision(y0,out_train_m))\n",
    "print('Recall for male training data',recall(y0,out_train_m))\n",
    "print('F1 score for male training data',f1(y0,out_train_m))"
   ]
  },
  {
   "cell_type": "code",
   "execution_count": 17,
   "metadata": {},
   "outputs": [],
   "source": [
    "male_surv=male_df[(male_df['Survived']==1)]\n",
    "male_dead=male_df[(male_df['Survived']==0)]"
   ]
  },
  {
   "cell_type": "code",
   "execution_count": 18,
   "metadata": {},
   "outputs": [],
   "source": [
    "df_test=pd.read_csv(\"data/test.csv\")\n",
    "df_test=df_test.set_index('PassengerId')"
   ]
  },
  {
   "cell_type": "code",
   "execution_count": 19,
   "metadata": {},
   "outputs": [],
   "source": [
    "maletest_df=df_test[(df_test['Sex']=='male')]\n",
    "maletest_df.fillna(maletest_df.median())\n",
    "xt1=maletest_df[['Pclass','Age','SibSp','Parch','Fare']]\n",
    "xt1=xt1.fillna(xt1.median())\n",
    "xt0=xt1.to_numpy()"
   ]
  },
  {
   "cell_type": "code",
   "execution_count": 20,
   "metadata": {},
   "outputs": [],
   "source": [
    "output_m=np.empty([len(xt0)])"
   ]
  },
  {
   "cell_type": "code",
   "execution_count": 21,
   "metadata": {},
   "outputs": [],
   "source": [
    "for j in range(len(xt0)):\n",
    "    output_m[j]=prob(xt0[j],thetam)\n",
    "    \n",
    "output_m=output_m.astype(int)"
   ]
  },
  {
   "cell_type": "code",
   "execution_count": 22,
   "metadata": {},
   "outputs": [],
   "source": [
    "yt1=maletest_df[['Survived']]\n",
    "yt0=yt1.to_numpy()\n",
    "yt0=yt0.reshape(len(yt0))"
   ]
  },
  {
   "cell_type": "code",
   "execution_count": 23,
   "metadata": {},
   "outputs": [],
   "source": [
    "c_m=0\n",
    "for k in range(len(output_m)):\n",
    "    if yt0[k]==output_m[k]:\n",
    "        c_m=c_m+1"
   ]
  },
  {
   "cell_type": "code",
   "execution_count": 24,
   "metadata": {},
   "outputs": [
    {
     "name": "stdout",
     "output_type": "stream",
     "text": [
      "The natural log of loss for male test data is 653.4647729502713\n",
      "Accuracy for male test data 0.7712765957446809\n",
      "Precision for male test data 0.45098039215686275\n",
      "Recall for male test data 0.6052631578947368\n",
      "F1 score for male test data 0.5168539325842696\n"
     ]
    }
   ],
   "source": [
    "print('The natural log of loss for male test data is',log_loss(thetam,xt0,yt0))\n",
    "print('Accuracy for male test data',c_m/len(output_m))\n",
    "print('Precision for male test data',precision(yt0,output_m))\n",
    "print('Recall for male test data',recall(yt0,output_m))\n",
    "print('F1 score for male test data',f1(yt0,output_m))"
   ]
  },
  {
   "cell_type": "code",
   "execution_count": 25,
   "metadata": {},
   "outputs": [],
   "source": [
    "thetaf=np.array([1.0,0.0,0.0,0.0,0.0,0.0])\n",
    "y1f=female_df['Survived']\n",
    "y0f=y1f.to_numpy()\n",
    "y0f=y0f.reshape(len(y0f),1)\n",
    "x1f=female_df[['Pclass','Age','SibSp','Parch','Fare']]\n",
    "x1f=x1f.fillna(x1f.median())\n",
    "x0f=x1f.to_numpy()\n"
   ]
  },
  {
   "cell_type": "code",
   "execution_count": 26,
   "metadata": {},
   "outputs": [
    {
     "name": "stdout",
     "output_type": "stream",
     "text": [
      "[ 3.23237162  2.16908227  2.24561692 -1.5699607  -0.96904291 -0.9468845 ]\n"
     ]
    }
   ],
   "source": [
    "for m in range(rerun):\n",
    "    for i in range(len(x0f)):\n",
    "        for j in range(6):\n",
    "            x=x0f[i]\n",
    "            y=y0f[i]\n",
    "            thetaf[j]=(thetaf[j])+(0.05)*(y.item()-sig(thetaf,x))\n",
    "        #if np.all(np.abs(y.item()-sig(thetaf,x)) <= 0.0001):\n",
    "            #break\n",
    "print(thetaf)"
   ]
  },
  {
   "cell_type": "code",
   "execution_count": 27,
   "metadata": {},
   "outputs": [
    {
     "name": "stdout",
     "output_type": "stream",
     "text": [
      "The natural log of loss for female training data is [1373.62058848]\n",
      "Accuracy for female training data 0.5714285714285714\n",
      "Precision for female training data 0.7489177489177489\n",
      "Recall for female training data 0.7445887445887446\n",
      "F1 score for female training data 0.7467469728339294\n"
     ]
    }
   ],
   "source": [
    "out_train_f=np.empty([len(x0f)])\n",
    "for j in range(len(x0f)):\n",
    "    out_train_f[j]=prob(x0f[j],thetaf)\n",
    "c_f=0\n",
    "for k in range(len(out_train_f)):\n",
    "    if y0f[k]==out_train_f[k]:\n",
    "        c_f=c_f+1\n",
    "print('The natural log of loss for female training data is',log_loss(thetaf,x0f,y0f))\n",
    "print('Accuracy for female training data',c_f/len(out_train_f))\n",
    "print('Precision for female training data',precision(y0f,out_train_f))\n",
    "print('Recall for female training data',recall(y0f,out_train_f))\n",
    "print('F1 score for female training data',f1(y0f,out_train_f))"
   ]
  },
  {
   "cell_type": "code",
   "execution_count": 28,
   "metadata": {},
   "outputs": [],
   "source": [
    "femaletest_df=df_test[(df_test['Sex']=='female')]\n",
    "femaletest_df.fillna(femaletest_df.median())\n",
    "xt1f=femaletest_df[['Pclass','Age','SibSp','Parch','Fare']]\n",
    "xt1f=xt1f.fillna(xt1f.median())\n",
    "xt0f=xt1f.to_numpy()"
   ]
  },
  {
   "cell_type": "code",
   "execution_count": 29,
   "metadata": {},
   "outputs": [],
   "source": [
    "output_f=np.empty([len(xt0f)])\n",
    "for j in range(len(xt0f)):\n",
    "    output_f[j]=prob(xt0f[j],thetaf)\n",
    "yt1f=femaletest_df[['Survived']]\n",
    "yt0f=yt1f.to_numpy()\n",
    "yt0f=yt0f.reshape(len(yt0f))"
   ]
  },
  {
   "cell_type": "code",
   "execution_count": 30,
   "metadata": {},
   "outputs": [
    {
     "name": "stdout",
     "output_type": "stream",
     "text": [
      "The natural log of loss for female test data is 514.9119653966102\n",
      "Accuracy for female test data 0.5783132530120482\n",
      "Precision for female test data 0.7049180327868853\n",
      "Recall for female test data 0.7166666666666667\n",
      "F1 score for female test data 0.7107438016528925\n"
     ]
    }
   ],
   "source": [
    "c_f=0\n",
    "for k in range(len(output_f)):\n",
    "    if yt0f[k]==output_f[k]:\n",
    "        c_f=c_f+1\n",
    "print('The natural log of loss for female test data is',log_loss(thetaf,xt0f,yt0f))\n",
    "print('Accuracy for female test data',c_f/len(output_f))\n",
    "print('Precision for female test data',precision(yt0f,output_f))\n",
    "print('Recall for female test data',recall(yt0f,output_f))\n",
    "print('F1 score for female test data',f1(yt0f,output_f))"
   ]
  }
 ],
 "metadata": {
  "kernelspec": {
   "display_name": "Python 3",
   "language": "python",
   "name": "python3"
  },
  "language_info": {
   "codemirror_mode": {
    "name": "ipython",
    "version": 3
   },
   "file_extension": ".py",
   "mimetype": "text/x-python",
   "name": "python",
   "nbconvert_exporter": "python",
   "pygments_lexer": "ipython3",
   "version": "3.8.8"
  }
 },
 "nbformat": 4,
 "nbformat_minor": 2
}
