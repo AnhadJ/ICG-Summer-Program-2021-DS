{
 "cells": [
  {
   "cell_type": "markdown",
   "id": "4501a865",
   "metadata": {},
   "source": [
    "# Importing important libraries"
   ]
  },
  {
   "cell_type": "code",
   "execution_count": 626,
   "id": "324f19fa",
   "metadata": {},
   "outputs": [],
   "source": [
    "import numpy as np\n",
    "import matplotlib.pyplot as plt\n",
    "import pandas as pd\n",
    "import seaborn as sns\n",
    "import sys\n",
    "import math"
   ]
  },
  {
   "cell_type": "code",
   "execution_count": 627,
   "id": "679fe367",
   "metadata": {},
   "outputs": [
    {
     "data": {
      "text/html": [
       "<div>\n",
       "<style scoped>\n",
       "    .dataframe tbody tr th:only-of-type {\n",
       "        vertical-align: middle;\n",
       "    }\n",
       "\n",
       "    .dataframe tbody tr th {\n",
       "        vertical-align: top;\n",
       "    }\n",
       "\n",
       "    .dataframe thead th {\n",
       "        text-align: right;\n",
       "    }\n",
       "</style>\n",
       "<table border=\"1\" class=\"dataframe\">\n",
       "  <thead>\n",
       "    <tr style=\"text-align: right;\">\n",
       "      <th></th>\n",
       "      <th>PassengerId</th>\n",
       "      <th>Survived</th>\n",
       "      <th>Pclass</th>\n",
       "      <th>Sex</th>\n",
       "      <th>Age</th>\n",
       "      <th>SibSp</th>\n",
       "      <th>Parch</th>\n",
       "      <th>Fare</th>\n",
       "    </tr>\n",
       "  </thead>\n",
       "  <tbody>\n",
       "    <tr>\n",
       "      <th>0</th>\n",
       "      <td>1</td>\n",
       "      <td>0</td>\n",
       "      <td>3</td>\n",
       "      <td>male</td>\n",
       "      <td>22.0</td>\n",
       "      <td>1</td>\n",
       "      <td>0</td>\n",
       "      <td>7.2500</td>\n",
       "    </tr>\n",
       "    <tr>\n",
       "      <th>1</th>\n",
       "      <td>2</td>\n",
       "      <td>1</td>\n",
       "      <td>1</td>\n",
       "      <td>female</td>\n",
       "      <td>38.0</td>\n",
       "      <td>1</td>\n",
       "      <td>0</td>\n",
       "      <td>71.2833</td>\n",
       "    </tr>\n",
       "    <tr>\n",
       "      <th>2</th>\n",
       "      <td>3</td>\n",
       "      <td>1</td>\n",
       "      <td>3</td>\n",
       "      <td>female</td>\n",
       "      <td>26.0</td>\n",
       "      <td>0</td>\n",
       "      <td>0</td>\n",
       "      <td>7.9250</td>\n",
       "    </tr>\n",
       "    <tr>\n",
       "      <th>3</th>\n",
       "      <td>4</td>\n",
       "      <td>1</td>\n",
       "      <td>1</td>\n",
       "      <td>female</td>\n",
       "      <td>35.0</td>\n",
       "      <td>1</td>\n",
       "      <td>0</td>\n",
       "      <td>53.1000</td>\n",
       "    </tr>\n",
       "    <tr>\n",
       "      <th>4</th>\n",
       "      <td>5</td>\n",
       "      <td>0</td>\n",
       "      <td>3</td>\n",
       "      <td>male</td>\n",
       "      <td>35.0</td>\n",
       "      <td>0</td>\n",
       "      <td>0</td>\n",
       "      <td>8.0500</td>\n",
       "    </tr>\n",
       "  </tbody>\n",
       "</table>\n",
       "</div>"
      ],
      "text/plain": [
       "   PassengerId  Survived  Pclass     Sex   Age  SibSp  Parch     Fare\n",
       "0            1         0       3    male  22.0      1      0   7.2500\n",
       "1            2         1       1  female  38.0      1      0  71.2833\n",
       "2            3         1       3  female  26.0      0      0   7.9250\n",
       "3            4         1       1  female  35.0      1      0  53.1000\n",
       "4            5         0       3    male  35.0      0      0   8.0500"
      ]
     },
     "execution_count": 627,
     "metadata": {},
     "output_type": "execute_result"
    }
   ],
   "source": [
    "path=\"C:/Users/Lenovo/Downloads/ICG-Summer-Program-2021-DS-main/Assignment-1/data/train.csv\"\n",
    "df=pd.read_csv(path)\n",
    "df.head()"
   ]
  },
  {
   "cell_type": "markdown",
   "id": "2fa14d1f",
   "metadata": {},
   "source": [
    "# Plots to inspect behaviour of data"
   ]
  },
  {
   "cell_type": "code",
   "execution_count": 628,
   "id": "4d5fd2de",
   "metadata": {},
   "outputs": [
    {
     "data": {
      "text/plain": [
       "<AxesSubplot:xlabel='Survived', ylabel='count'>"
      ]
     },
     "execution_count": 628,
     "metadata": {},
     "output_type": "execute_result"
    },
    {
     "data": {
      "image/png": "[encoded data removed]",
      "text/plain": [
       "<Figure size 432x288 with 1 Axes>"
      ]
     },
     "metadata": {
      "needs_background": "light"
     },
     "output_type": "display_data"
    }
   ],
   "source": [
    "sns.countplot(x='Survived',data=df,hue='Sex')"
   ]
  },
  {
   "cell_type": "code",
   "execution_count": 629,
   "id": "58243a6b",
   "metadata": {},
   "outputs": [
    {
     "data": {
      "text/plain": [
       "<AxesSubplot:xlabel='Survived', ylabel='count'>"
      ]
     },
     "execution_count": 629,
     "metadata": {},
     "output_type": "execute_result"
    },
    {
     "data": {
      "image/png": "[encoded data removed]",
      "text/plain": [
       "<Figure size 432x288 with 1 Axes>"
      ]
     },
     "metadata": {
      "needs_background": "light"
     },
     "output_type": "display_data"
    }
   ],
   "source": [
    "sns.countplot(x='Survived',data=df,hue='Pclass')"
   ]
  },
  {
   "cell_type": "code",
   "execution_count": 630,
   "id": "2de04d15",
   "metadata": {},
   "outputs": [
    {
     "data": {
      "text/plain": [
       "<AxesSubplot:xlabel='Survived', ylabel='count'>"
      ]
     },
     "execution_count": 630,
     "metadata": {},
     "output_type": "execute_result"
    },
    {
     "data": {
      "image/png": "[encoded data removed]",
      "text/plain": [
       "<Figure size 432x288 with 1 Axes>"
      ]
     },
     "metadata": {
      "needs_background": "light"
     },
     "output_type": "display_data"
    }
   ],
   "source": [
    "sns.countplot(x='Survived',data=df,hue='SibSp')"
   ]
  },
  {
   "cell_type": "code",
   "execution_count": 631,
   "id": "f23667cf",
   "metadata": {},
   "outputs": [
    {
     "name": "stdout",
     "output_type": "stream",
     "text": [
      "PassengerId      0\n",
      "Survived         0\n",
      "Pclass           0\n",
      "Sex              0\n",
      "Age            131\n",
      "SibSp            0\n",
      "Parch            0\n",
      "Fare             0\n",
      "dtype: int64\n"
     ]
    }
   ],
   "source": [
    "print(df.isnull().sum())"
   ]
  },
  {
   "cell_type": "markdown",
   "id": "a1ebf138",
   "metadata": {},
   "source": [
    "# Replacing nan values with median of each class"
   ]
  },
  {
   "cell_type": "code",
   "execution_count": 632,
   "id": "bad26ec3",
   "metadata": {},
   "outputs": [
    {
     "name": "stdout",
     "output_type": "stream",
     "text": [
      "PassengerId    0\n",
      "Survived       0\n",
      "Pclass         0\n",
      "Sex            0\n",
      "Age            0\n",
      "SibSp          0\n",
      "Parch          0\n",
      "Fare           0\n",
      "dtype: int64\n"
     ]
    }
   ],
   "source": [
    "df['Age'] = df['Age'].fillna(df.groupby('Pclass')['Age'].transform('median'))\n",
    "print(df.isnull().sum())"
   ]
  },
  {
   "cell_type": "markdown",
   "id": "05a84140",
   "metadata": {},
   "source": [
    "# Dropping irrelevant columns "
   ]
  },
  {
   "cell_type": "code",
   "execution_count": 633,
   "id": "2fe8b5da",
   "metadata": {},
   "outputs": [],
   "source": [
    "y=df.loc[:,'Survived']\n",
    "x=df.drop('Survived',axis=1)\n",
    "x.drop(['PassengerId'],inplace=True,axis=1)"
   ]
  },
  {
   "cell_type": "code",
   "execution_count": 634,
   "id": "ce31efba",
   "metadata": {},
   "outputs": [],
   "source": [
    "x_train=x.to_numpy()\n",
    "\n",
    "y_train=y.to_numpy()"
   ]
  },
  {
   "cell_type": "markdown",
   "id": "e60d3366",
   "metadata": {},
   "source": [
    "# Encoding male and female to 1 and 0 respectively"
   ]
  },
  {
   "cell_type": "code",
   "execution_count": 635,
   "id": "33401ec0",
   "metadata": {},
   "outputs": [],
   "source": [
    "\n",
    "for i in range(x_train.shape[0]):\n",
    "    if x_train[i][1]=='male':\n",
    "        x_train[i][1]=1\n",
    "    else:\n",
    "        x_train[i][1]=0"
   ]
  },
  {
   "cell_type": "code",
   "execution_count": 636,
   "id": "221dacec",
   "metadata": {},
   "outputs": [],
   "source": [
    "x_train = np.hstack((np.ones((x_train.shape[0], 1)), x_train))  ### adding a column of ones to multiply with theta_0 as intercept"
   ]
  },
  {
   "cell_type": "code",
   "execution_count": 637,
   "id": "7f5187ae",
   "metadata": {},
   "outputs": [],
   "source": [
    "def logistic_reg(X,theta):            ##Implementing the sigmoid function for prediction\n",
    "    y_pred=np.matmul(X,theta)\n",
    "    y_pred=y_pred.astype(float)\n",
    "    y_pred=np.exp(-y_pred)\n",
    "    y_pred=1/(1+y_pred)\n",
    "    return y_pred"
   ]
  },
  {
   "cell_type": "code",
   "execution_count": 638,
   "id": "992d838c",
   "metadata": {},
   "outputs": [],
   "source": [
    "def compute_cost(X,y,theta):        ## implementing cost function\n",
    "    m=y.shape[0]\n",
    "    y_hat=logistic_reg(X,theta)\n",
    "    cost=-np.sum(np.multiply(y,np.log(y_hat+1e-7))+np.multiply(1-y,np.log(1-y_hat+1e-7)))/m\n",
    "    return cost"
   ]
  },
  {
   "cell_type": "code",
   "execution_count": 639,
   "id": "27816b31",
   "metadata": {},
   "outputs": [],
   "source": [
    "def gradient_descent(X,y,theta,iter,lr=0.01):\n",
    "    \n",
    "    m=y.shape[0]\n",
    "    cost_history=[]\n",
    "    for i in range(iter):\n",
    "        theta=theta-lr*np.matmul(X.T,(logistic_reg(X,theta))-y)/m\n",
    "        \n",
    "        cost_history.append(compute_cost(X,y,theta))\n",
    "    return cost_history,theta"
   ]
  },
  {
   "cell_type": "code",
   "execution_count": 640,
   "id": "dc41f372",
   "metadata": {},
   "outputs": [],
   "source": [
    "theta=np.random.randn(x_train.shape[1])\n",
    "cost,theta=gradient_descent(x_train,y_train,theta,2000,0.003)    ### training theta array"
   ]
  },
  {
   "cell_type": "code",
   "execution_count": 641,
   "id": "e7326563",
   "metadata": {},
   "outputs": [],
   "source": [
    "def predict(X,theta):             ## function to predict 1 if predicted value is >= 0.5 otherwise 0\n",
    "    y_hat=logistic_reg(X,theta)\n",
    "    y=np.ndarray(y_hat.shape[0])\n",
    "    k=0\n",
    "    for i in y_hat: \n",
    "        if i>=0.5: \n",
    "            y[k]=1 \n",
    "        else: \n",
    "            y[k]=0\n",
    "        k=k+1        \n",
    "    return y"
   ]
  },
  {
   "cell_type": "code",
   "execution_count": 642,
   "id": "b4182d8a",
   "metadata": {},
   "outputs": [
    {
     "data": {
      "text/html": [
       "<div>\n",
       "<style scoped>\n",
       "    .dataframe tbody tr th:only-of-type {\n",
       "        vertical-align: middle;\n",
       "    }\n",
       "\n",
       "    .dataframe tbody tr th {\n",
       "        vertical-align: top;\n",
       "    }\n",
       "\n",
       "    .dataframe thead th {\n",
       "        text-align: right;\n",
       "    }\n",
       "</style>\n",
       "<table border=\"1\" class=\"dataframe\">\n",
       "  <thead>\n",
       "    <tr style=\"text-align: right;\">\n",
       "      <th></th>\n",
       "      <th>PassengerId</th>\n",
       "      <th>Survived</th>\n",
       "      <th>Pclass</th>\n",
       "      <th>Sex</th>\n",
       "      <th>Age</th>\n",
       "      <th>SibSp</th>\n",
       "      <th>Parch</th>\n",
       "      <th>Fare</th>\n",
       "    </tr>\n",
       "  </thead>\n",
       "  <tbody>\n",
       "    <tr>\n",
       "      <th>0</th>\n",
       "      <td>621</td>\n",
       "      <td>0</td>\n",
       "      <td>3</td>\n",
       "      <td>male</td>\n",
       "      <td>27.0</td>\n",
       "      <td>1</td>\n",
       "      <td>0</td>\n",
       "      <td>14.4542</td>\n",
       "    </tr>\n",
       "    <tr>\n",
       "      <th>1</th>\n",
       "      <td>622</td>\n",
       "      <td>1</td>\n",
       "      <td>1</td>\n",
       "      <td>male</td>\n",
       "      <td>42.0</td>\n",
       "      <td>1</td>\n",
       "      <td>0</td>\n",
       "      <td>52.5542</td>\n",
       "    </tr>\n",
       "    <tr>\n",
       "      <th>2</th>\n",
       "      <td>623</td>\n",
       "      <td>1</td>\n",
       "      <td>3</td>\n",
       "      <td>male</td>\n",
       "      <td>20.0</td>\n",
       "      <td>1</td>\n",
       "      <td>1</td>\n",
       "      <td>15.7417</td>\n",
       "    </tr>\n",
       "    <tr>\n",
       "      <th>3</th>\n",
       "      <td>624</td>\n",
       "      <td>0</td>\n",
       "      <td>3</td>\n",
       "      <td>male</td>\n",
       "      <td>21.0</td>\n",
       "      <td>0</td>\n",
       "      <td>0</td>\n",
       "      <td>7.8542</td>\n",
       "    </tr>\n",
       "    <tr>\n",
       "      <th>4</th>\n",
       "      <td>625</td>\n",
       "      <td>0</td>\n",
       "      <td>3</td>\n",
       "      <td>male</td>\n",
       "      <td>21.0</td>\n",
       "      <td>0</td>\n",
       "      <td>0</td>\n",
       "      <td>16.1000</td>\n",
       "    </tr>\n",
       "  </tbody>\n",
       "</table>\n",
       "</div>"
      ],
      "text/plain": [
       "   PassengerId  Survived  Pclass   Sex   Age  SibSp  Parch     Fare\n",
       "0          621         0       3  male  27.0      1      0  14.4542\n",
       "1          622         1       1  male  42.0      1      0  52.5542\n",
       "2          623         1       3  male  20.0      1      1  15.7417\n",
       "3          624         0       3  male  21.0      0      0   7.8542\n",
       "4          625         0       3  male  21.0      0      0  16.1000"
      ]
     },
     "execution_count": 642,
     "metadata": {},
     "output_type": "execute_result"
    }
   ],
   "source": [
    "p='C:/Users/Lenovo/Downloads/ICG-Summer-Program-2021-DS-main/Assignment-1/data/test.csv'\n",
    "dtest=pd.read_csv(p)\n",
    "dtest.head()"
   ]
  },
  {
   "cell_type": "code",
   "execution_count": 643,
   "id": "ef9637d3",
   "metadata": {},
   "outputs": [
    {
     "name": "stdout",
     "output_type": "stream",
     "text": [
      "PassengerId    0\n",
      "Survived       0\n",
      "Pclass         0\n",
      "Sex            0\n",
      "Age            0\n",
      "SibSp          0\n",
      "Parch          0\n",
      "Fare           0\n",
      "dtype: int64\n"
     ]
    }
   ],
   "source": [
    "dtest['Age'] = dtest['Age'].fillna(dtest.groupby('Pclass')['Age'].transform('median'))\n",
    "print(dtest.isnull().sum())"
   ]
  },
  {
   "cell_type": "code",
   "execution_count": 644,
   "id": "b97556ff",
   "metadata": {},
   "outputs": [],
   "source": [
    "y2=dtest.loc[:,'Survived']               ## dropping irrelevant columns\n",
    "x2=dtest.drop('Survived',axis=1)\n",
    "x2.drop(['PassengerId'],inplace=True,axis=1)"
   ]
  },
  {
   "cell_type": "code",
   "execution_count": 645,
   "id": "3878dc8c",
   "metadata": {},
   "outputs": [],
   "source": [
    "x_test=x2.to_numpy()\n",
    "\n",
    "y_test=y2.to_numpy()"
   ]
  },
  {
   "cell_type": "code",
   "execution_count": 646,
   "id": "2290cdf2",
   "metadata": {},
   "outputs": [],
   "source": [
    "for i in range(x_test.shape[0]):        # encoding male to 1 and female to 0\n",
    "    if x_test[i][1]=='male':\n",
    "        x_test[i][1]=1\n",
    "    else:\n",
    "        x_test[i][1]=0"
   ]
  },
  {
   "cell_type": "code",
   "execution_count": 647,
   "id": "627ebad7",
   "metadata": {},
   "outputs": [],
   "source": [
    "x_test = np.hstack((np.ones((x_test.shape[0], 1)), x_test))       ## adding a column of ones to multiply with theta_0 "
   ]
  },
  {
   "cell_type": "code",
   "execution_count": 648,
   "id": "f69e6ebe",
   "metadata": {},
   "outputs": [],
   "source": [
    "\n",
    "def f1_score(y_test,y_pred):                ## function for f1 score\n",
    "    True_pos=0\n",
    "    True_neg=0\n",
    "    False_pos=0\n",
    "    False_neg=0\n",
    "    for i in range(len(y_pred)):\n",
    "        if y_test[i]==1 and y_pred[i]==1:\n",
    "                True_pos=True_pos+1\n",
    "        elif y_test[i]==0 and y_pred[i]==1:\n",
    "                False_pos=False_pos+1\n",
    "        elif y_test[i]==0 and y_pred[i]==0:\n",
    "                True_neg=True_neg+1\n",
    "        else:\n",
    "                False_neg=False_neg+1\n",
    "    precision=True_pos/(True_pos+False_pos)\n",
    "    recall=True_pos/(True_pos+False_neg)\n",
    "    f1=2*precision*recall/(precision+recall)\n",
    "    return f1,precision,recall"
   ]
  },
  {
   "cell_type": "code",
   "execution_count": 649,
   "id": "888d2bc8",
   "metadata": {},
   "outputs": [
    {
     "name": "stdout",
     "output_type": "stream",
     "text": [
      "Training set final cost  0.6314324993585032\n",
      "Testing set final cost  0.5917018688510021\n"
     ]
    }
   ],
   "source": [
    "y_pred_train=predict(x_train,theta)\n",
    "cost1=compute_cost(x_train,y_train,theta)\n",
    "print(\"Training set final cost \",cost1)\n",
    "\n",
    "y_pred_test=predict(x_test,theta)\n",
    "cost2=compute_cost(x_test,y_test,theta)\n",
    "print(\"Testing set final cost \",cost2)"
   ]
  },
  {
   "cell_type": "markdown",
   "id": "ee1c3ef7",
   "metadata": {},
   "source": [
    "# F1 scores"
   ]
  },
  {
   "cell_type": "code",
   "execution_count": 650,
   "id": "c5484ba5",
   "metadata": {},
   "outputs": [
    {
     "name": "stdout",
     "output_type": "stream",
     "text": [
      "Training set f1 score  0.45652173913043476\n",
      "Training set f2 score  0.4768211920529801\n"
     ]
    }
   ],
   "source": [
    "f1_train, _, _=f1_score(y_train,y_pred_train)\n",
    "print(\"Training set f1 score \",f1_train)\n",
    "f1_test,_,_ =f1_score(y_test,y_pred_test)\n",
    "print(\"Training set f2 score \",f1_test)"
   ]
  },
  {
   "cell_type": "markdown",
   "id": "34b1a7e9",
   "metadata": {},
   "source": [
    "# Accuracy"
   ]
  },
  {
   "cell_type": "code",
   "execution_count": 651,
   "id": "cb94f3f9",
   "metadata": {},
   "outputs": [
    {
     "name": "stdout",
     "output_type": "stream",
     "text": [
      "Train set model accuracy  0.6774193548387096\n",
      "Test set model accuracy  0.7084870848708487\n"
     ]
    }
   ],
   "source": [
    "acc_train=np.sum(np.equal(y_pred_train,y_train))/len(y_pred_train)\n",
    "print(\"Train set model accuracy \", acc_train)\n",
    "acc_test=np.sum(np.equal(y_pred_test,y_test))/len(y_pred_test)\n",
    "print(\"Test set model accuracy \", acc_test)"
   ]
  },
  {
   "cell_type": "code",
   "execution_count": null,
   "id": "6079caad",
   "metadata": {},
   "outputs": [],
   "source": []
  }
 ],
 "metadata": {
  "kernelspec": {
   "display_name": "Python 3",
   "language": "python",
   "name": "python3"
  },
  "language_info": {
   "codemirror_mode": {
    "name": "ipython",
    "version": 3
   },
   "file_extension": ".py",
   "mimetype": "text/x-python",
   "name": "python",
   "nbconvert_exporter": "python",
   "pygments_lexer": "ipython3",
   "version": "3.8.8"
  }
 },
 "nbformat": 4,
 "nbformat_minor": 5
}
